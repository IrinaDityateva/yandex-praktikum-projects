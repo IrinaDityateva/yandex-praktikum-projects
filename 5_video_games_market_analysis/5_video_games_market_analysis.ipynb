{
 "cells": [
  {
   "cell_type": "markdown",
   "id": "1d396655",
   "metadata": {},
   "source": [
    "## Анализ рынка комьютерных игр"
   ]
  },
  {
   "cell_type": "markdown",
   "id": "9f99784e",
   "metadata": {},
   "source": [
    "**Цель исследования:** используя исторические данные о продажах компьютерных игр, оценки пользователей и экспертов, жанры и платформы, выявить закономерности, определяющие успешность игры\n",
    "\n",
    "**Описание проекта:** Выявлены параметры, определяющие успешность игры в разных регионах мира. На\n",
    "основании этого подготовлен отчет для магазина компьютерных игр для планирования\n",
    "рекламных кампаний. Проведена предобработка данных, анализ. Выбран актуальный\n",
    "период для анализа. Составлены портреты пользователей каждого региона. Проверены\n",
    "гипотезы: средние пользовательские рейтинги платформ Xbox One и PC одинаковые;\n",
    "средние пользовательские рейтинги жанров Action и Sports разные. При анализе использовали критерий Стьюдента для независимых выборок."
   ]
  },
  {
   "cell_type": "markdown",
   "id": "e992bfc9",
   "metadata": {},
   "source": [
    "## Обзор данных"
   ]
  },
  {
   "cell_type": "code",
   "execution_count": 1,
   "id": "48566665",
   "metadata": {},
   "outputs": [],
   "source": [
    "import pandas as pd\n",
    "import matplotlib.pyplot as plt\n",
    "import numpy as np\n",
    "import seaborn as sns\n",
    "from scipy import stats as st\n",
    "import warnings\n",
    "warnings.filterwarnings('ignore')"
   ]
  },
  {
   "cell_type": "code",
   "execution_count": 2,
   "id": "dd94032a",
   "metadata": {},
   "outputs": [],
   "source": [
    "try:\n",
    "    data = pd.read_csv('/datasets/games.csv')\n",
    "except:\n",
    "    data = pd.read_csv('https://code.s3.yandex.net/datasets/games.csv')"
   ]
  },
  {
   "cell_type": "code",
   "execution_count": 3,
   "id": "22942b2a",
   "metadata": {},
   "outputs": [
    {
     "data": {
      "text/html": [
       "<div>\n",
       "<style scoped>\n",
       "    .dataframe tbody tr th:only-of-type {\n",
       "        vertical-align: middle;\n",
       "    }\n",
       "\n",
       "    .dataframe tbody tr th {\n",
       "        vertical-align: top;\n",
       "    }\n",
       "\n",
       "    .dataframe thead th {\n",
       "        text-align: right;\n",
       "    }\n",
       "</style>\n",
       "<table border=\"1\" class=\"dataframe\">\n",
       "  <thead>\n",
       "    <tr style=\"text-align: right;\">\n",
       "      <th></th>\n",
       "      <th>Name</th>\n",
       "      <th>Platform</th>\n",
       "      <th>Year_of_Release</th>\n",
       "      <th>Genre</th>\n",
       "      <th>NA_sales</th>\n",
       "      <th>EU_sales</th>\n",
       "      <th>JP_sales</th>\n",
       "      <th>Other_sales</th>\n",
       "      <th>Critic_Score</th>\n",
       "      <th>User_Score</th>\n",
       "      <th>Rating</th>\n",
       "    </tr>\n",
       "  </thead>\n",
       "  <tbody>\n",
       "    <tr>\n",
       "      <th>0</th>\n",
       "      <td>Wii Sports</td>\n",
       "      <td>Wii</td>\n",
       "      <td>2006.0</td>\n",
       "      <td>Sports</td>\n",
       "      <td>41.36</td>\n",
       "      <td>28.96</td>\n",
       "      <td>3.77</td>\n",
       "      <td>8.45</td>\n",
       "      <td>76.0</td>\n",
       "      <td>8</td>\n",
       "      <td>E</td>\n",
       "    </tr>\n",
       "    <tr>\n",
       "      <th>1</th>\n",
       "      <td>Super Mario Bros.</td>\n",
       "      <td>NES</td>\n",
       "      <td>1985.0</td>\n",
       "      <td>Platform</td>\n",
       "      <td>29.08</td>\n",
       "      <td>3.58</td>\n",
       "      <td>6.81</td>\n",
       "      <td>0.77</td>\n",
       "      <td>NaN</td>\n",
       "      <td>NaN</td>\n",
       "      <td>NaN</td>\n",
       "    </tr>\n",
       "    <tr>\n",
       "      <th>2</th>\n",
       "      <td>Mario Kart Wii</td>\n",
       "      <td>Wii</td>\n",
       "      <td>2008.0</td>\n",
       "      <td>Racing</td>\n",
       "      <td>15.68</td>\n",
       "      <td>12.76</td>\n",
       "      <td>3.79</td>\n",
       "      <td>3.29</td>\n",
       "      <td>82.0</td>\n",
       "      <td>8.3</td>\n",
       "      <td>E</td>\n",
       "    </tr>\n",
       "    <tr>\n",
       "      <th>3</th>\n",
       "      <td>Wii Sports Resort</td>\n",
       "      <td>Wii</td>\n",
       "      <td>2009.0</td>\n",
       "      <td>Sports</td>\n",
       "      <td>15.61</td>\n",
       "      <td>10.93</td>\n",
       "      <td>3.28</td>\n",
       "      <td>2.95</td>\n",
       "      <td>80.0</td>\n",
       "      <td>8</td>\n",
       "      <td>E</td>\n",
       "    </tr>\n",
       "    <tr>\n",
       "      <th>4</th>\n",
       "      <td>Pokemon Red/Pokemon Blue</td>\n",
       "      <td>GB</td>\n",
       "      <td>1996.0</td>\n",
       "      <td>Role-Playing</td>\n",
       "      <td>11.27</td>\n",
       "      <td>8.89</td>\n",
       "      <td>10.22</td>\n",
       "      <td>1.00</td>\n",
       "      <td>NaN</td>\n",
       "      <td>NaN</td>\n",
       "      <td>NaN</td>\n",
       "    </tr>\n",
       "    <tr>\n",
       "      <th>5</th>\n",
       "      <td>Tetris</td>\n",
       "      <td>GB</td>\n",
       "      <td>1989.0</td>\n",
       "      <td>Puzzle</td>\n",
       "      <td>23.20</td>\n",
       "      <td>2.26</td>\n",
       "      <td>4.22</td>\n",
       "      <td>0.58</td>\n",
       "      <td>NaN</td>\n",
       "      <td>NaN</td>\n",
       "      <td>NaN</td>\n",
       "    </tr>\n",
       "    <tr>\n",
       "      <th>6</th>\n",
       "      <td>New Super Mario Bros.</td>\n",
       "      <td>DS</td>\n",
       "      <td>2006.0</td>\n",
       "      <td>Platform</td>\n",
       "      <td>11.28</td>\n",
       "      <td>9.14</td>\n",
       "      <td>6.50</td>\n",
       "      <td>2.88</td>\n",
       "      <td>89.0</td>\n",
       "      <td>8.5</td>\n",
       "      <td>E</td>\n",
       "    </tr>\n",
       "    <tr>\n",
       "      <th>7</th>\n",
       "      <td>Wii Play</td>\n",
       "      <td>Wii</td>\n",
       "      <td>2006.0</td>\n",
       "      <td>Misc</td>\n",
       "      <td>13.96</td>\n",
       "      <td>9.18</td>\n",
       "      <td>2.93</td>\n",
       "      <td>2.84</td>\n",
       "      <td>58.0</td>\n",
       "      <td>6.6</td>\n",
       "      <td>E</td>\n",
       "    </tr>\n",
       "    <tr>\n",
       "      <th>8</th>\n",
       "      <td>New Super Mario Bros. Wii</td>\n",
       "      <td>Wii</td>\n",
       "      <td>2009.0</td>\n",
       "      <td>Platform</td>\n",
       "      <td>14.44</td>\n",
       "      <td>6.94</td>\n",
       "      <td>4.70</td>\n",
       "      <td>2.24</td>\n",
       "      <td>87.0</td>\n",
       "      <td>8.4</td>\n",
       "      <td>E</td>\n",
       "    </tr>\n",
       "    <tr>\n",
       "      <th>9</th>\n",
       "      <td>Duck Hunt</td>\n",
       "      <td>NES</td>\n",
       "      <td>1984.0</td>\n",
       "      <td>Shooter</td>\n",
       "      <td>26.93</td>\n",
       "      <td>0.63</td>\n",
       "      <td>0.28</td>\n",
       "      <td>0.47</td>\n",
       "      <td>NaN</td>\n",
       "      <td>NaN</td>\n",
       "      <td>NaN</td>\n",
       "    </tr>\n",
       "    <tr>\n",
       "      <th>10</th>\n",
       "      <td>Nintendogs</td>\n",
       "      <td>DS</td>\n",
       "      <td>2005.0</td>\n",
       "      <td>Simulation</td>\n",
       "      <td>9.05</td>\n",
       "      <td>10.95</td>\n",
       "      <td>1.93</td>\n",
       "      <td>2.74</td>\n",
       "      <td>NaN</td>\n",
       "      <td>NaN</td>\n",
       "      <td>NaN</td>\n",
       "    </tr>\n",
       "    <tr>\n",
       "      <th>11</th>\n",
       "      <td>Mario Kart DS</td>\n",
       "      <td>DS</td>\n",
       "      <td>2005.0</td>\n",
       "      <td>Racing</td>\n",
       "      <td>9.71</td>\n",
       "      <td>7.47</td>\n",
       "      <td>4.13</td>\n",
       "      <td>1.90</td>\n",
       "      <td>91.0</td>\n",
       "      <td>8.6</td>\n",
       "      <td>E</td>\n",
       "    </tr>\n",
       "    <tr>\n",
       "      <th>12</th>\n",
       "      <td>Pokemon Gold/Pokemon Silver</td>\n",
       "      <td>GB</td>\n",
       "      <td>1999.0</td>\n",
       "      <td>Role-Playing</td>\n",
       "      <td>9.00</td>\n",
       "      <td>6.18</td>\n",
       "      <td>7.20</td>\n",
       "      <td>0.71</td>\n",
       "      <td>NaN</td>\n",
       "      <td>NaN</td>\n",
       "      <td>NaN</td>\n",
       "    </tr>\n",
       "    <tr>\n",
       "      <th>13</th>\n",
       "      <td>Wii Fit</td>\n",
       "      <td>Wii</td>\n",
       "      <td>2007.0</td>\n",
       "      <td>Sports</td>\n",
       "      <td>8.92</td>\n",
       "      <td>8.03</td>\n",
       "      <td>3.60</td>\n",
       "      <td>2.15</td>\n",
       "      <td>80.0</td>\n",
       "      <td>7.7</td>\n",
       "      <td>E</td>\n",
       "    </tr>\n",
       "    <tr>\n",
       "      <th>14</th>\n",
       "      <td>Kinect Adventures!</td>\n",
       "      <td>X360</td>\n",
       "      <td>2010.0</td>\n",
       "      <td>Misc</td>\n",
       "      <td>15.00</td>\n",
       "      <td>4.89</td>\n",
       "      <td>0.24</td>\n",
       "      <td>1.69</td>\n",
       "      <td>61.0</td>\n",
       "      <td>6.3</td>\n",
       "      <td>E</td>\n",
       "    </tr>\n",
       "    <tr>\n",
       "      <th>15</th>\n",
       "      <td>Wii Fit Plus</td>\n",
       "      <td>Wii</td>\n",
       "      <td>2009.0</td>\n",
       "      <td>Sports</td>\n",
       "      <td>9.01</td>\n",
       "      <td>8.49</td>\n",
       "      <td>2.53</td>\n",
       "      <td>1.77</td>\n",
       "      <td>80.0</td>\n",
       "      <td>7.4</td>\n",
       "      <td>E</td>\n",
       "    </tr>\n",
       "    <tr>\n",
       "      <th>16</th>\n",
       "      <td>Grand Theft Auto V</td>\n",
       "      <td>PS3</td>\n",
       "      <td>2013.0</td>\n",
       "      <td>Action</td>\n",
       "      <td>7.02</td>\n",
       "      <td>9.09</td>\n",
       "      <td>0.98</td>\n",
       "      <td>3.96</td>\n",
       "      <td>97.0</td>\n",
       "      <td>8.2</td>\n",
       "      <td>M</td>\n",
       "    </tr>\n",
       "    <tr>\n",
       "      <th>17</th>\n",
       "      <td>Grand Theft Auto: San Andreas</td>\n",
       "      <td>PS2</td>\n",
       "      <td>2004.0</td>\n",
       "      <td>Action</td>\n",
       "      <td>9.43</td>\n",
       "      <td>0.40</td>\n",
       "      <td>0.41</td>\n",
       "      <td>10.57</td>\n",
       "      <td>95.0</td>\n",
       "      <td>9</td>\n",
       "      <td>M</td>\n",
       "    </tr>\n",
       "    <tr>\n",
       "      <th>18</th>\n",
       "      <td>Super Mario World</td>\n",
       "      <td>SNES</td>\n",
       "      <td>1990.0</td>\n",
       "      <td>Platform</td>\n",
       "      <td>12.78</td>\n",
       "      <td>3.75</td>\n",
       "      <td>3.54</td>\n",
       "      <td>0.55</td>\n",
       "      <td>NaN</td>\n",
       "      <td>NaN</td>\n",
       "      <td>NaN</td>\n",
       "    </tr>\n",
       "    <tr>\n",
       "      <th>19</th>\n",
       "      <td>Brain Age: Train Your Brain in Minutes a Day</td>\n",
       "      <td>DS</td>\n",
       "      <td>2005.0</td>\n",
       "      <td>Misc</td>\n",
       "      <td>4.74</td>\n",
       "      <td>9.20</td>\n",
       "      <td>4.16</td>\n",
       "      <td>2.04</td>\n",
       "      <td>77.0</td>\n",
       "      <td>7.9</td>\n",
       "      <td>E</td>\n",
       "    </tr>\n",
       "  </tbody>\n",
       "</table>\n",
       "</div>"
      ],
      "text/plain": [
       "                                            Name Platform  Year_of_Release  \\\n",
       "0                                     Wii Sports      Wii           2006.0   \n",
       "1                              Super Mario Bros.      NES           1985.0   \n",
       "2                                 Mario Kart Wii      Wii           2008.0   \n",
       "3                              Wii Sports Resort      Wii           2009.0   \n",
       "4                       Pokemon Red/Pokemon Blue       GB           1996.0   \n",
       "5                                         Tetris       GB           1989.0   \n",
       "6                          New Super Mario Bros.       DS           2006.0   \n",
       "7                                       Wii Play      Wii           2006.0   \n",
       "8                      New Super Mario Bros. Wii      Wii           2009.0   \n",
       "9                                      Duck Hunt      NES           1984.0   \n",
       "10                                    Nintendogs       DS           2005.0   \n",
       "11                                 Mario Kart DS       DS           2005.0   \n",
       "12                   Pokemon Gold/Pokemon Silver       GB           1999.0   \n",
       "13                                       Wii Fit      Wii           2007.0   \n",
       "14                            Kinect Adventures!     X360           2010.0   \n",
       "15                                  Wii Fit Plus      Wii           2009.0   \n",
       "16                            Grand Theft Auto V      PS3           2013.0   \n",
       "17                 Grand Theft Auto: San Andreas      PS2           2004.0   \n",
       "18                             Super Mario World     SNES           1990.0   \n",
       "19  Brain Age: Train Your Brain in Minutes a Day       DS           2005.0   \n",
       "\n",
       "           Genre  NA_sales  EU_sales  JP_sales  Other_sales  Critic_Score  \\\n",
       "0         Sports     41.36     28.96      3.77         8.45          76.0   \n",
       "1       Platform     29.08      3.58      6.81         0.77           NaN   \n",
       "2         Racing     15.68     12.76      3.79         3.29          82.0   \n",
       "3         Sports     15.61     10.93      3.28         2.95          80.0   \n",
       "4   Role-Playing     11.27      8.89     10.22         1.00           NaN   \n",
       "5         Puzzle     23.20      2.26      4.22         0.58           NaN   \n",
       "6       Platform     11.28      9.14      6.50         2.88          89.0   \n",
       "7           Misc     13.96      9.18      2.93         2.84          58.0   \n",
       "8       Platform     14.44      6.94      4.70         2.24          87.0   \n",
       "9        Shooter     26.93      0.63      0.28         0.47           NaN   \n",
       "10    Simulation      9.05     10.95      1.93         2.74           NaN   \n",
       "11        Racing      9.71      7.47      4.13         1.90          91.0   \n",
       "12  Role-Playing      9.00      6.18      7.20         0.71           NaN   \n",
       "13        Sports      8.92      8.03      3.60         2.15          80.0   \n",
       "14          Misc     15.00      4.89      0.24         1.69          61.0   \n",
       "15        Sports      9.01      8.49      2.53         1.77          80.0   \n",
       "16        Action      7.02      9.09      0.98         3.96          97.0   \n",
       "17        Action      9.43      0.40      0.41        10.57          95.0   \n",
       "18      Platform     12.78      3.75      3.54         0.55           NaN   \n",
       "19          Misc      4.74      9.20      4.16         2.04          77.0   \n",
       "\n",
       "   User_Score Rating  \n",
       "0           8      E  \n",
       "1         NaN    NaN  \n",
       "2         8.3      E  \n",
       "3           8      E  \n",
       "4         NaN    NaN  \n",
       "5         NaN    NaN  \n",
       "6         8.5      E  \n",
       "7         6.6      E  \n",
       "8         8.4      E  \n",
       "9         NaN    NaN  \n",
       "10        NaN    NaN  \n",
       "11        8.6      E  \n",
       "12        NaN    NaN  \n",
       "13        7.7      E  \n",
       "14        6.3      E  \n",
       "15        7.4      E  \n",
       "16        8.2      M  \n",
       "17          9      M  \n",
       "18        NaN    NaN  \n",
       "19        7.9      E  "
      ]
     },
     "execution_count": 3,
     "metadata": {},
     "output_type": "execute_result"
    }
   ],
   "source": [
    "data.head(20)"
   ]
  },
  {
   "cell_type": "code",
   "execution_count": 4,
   "id": "87deec96",
   "metadata": {},
   "outputs": [
    {
     "name": "stdout",
     "output_type": "stream",
     "text": [
      "<class 'pandas.core.frame.DataFrame'>\n",
      "RangeIndex: 16715 entries, 0 to 16714\n",
      "Data columns (total 11 columns):\n",
      " #   Column           Non-Null Count  Dtype  \n",
      "---  ------           --------------  -----  \n",
      " 0   Name             16713 non-null  object \n",
      " 1   Platform         16715 non-null  object \n",
      " 2   Year_of_Release  16446 non-null  float64\n",
      " 3   Genre            16713 non-null  object \n",
      " 4   NA_sales         16715 non-null  float64\n",
      " 5   EU_sales         16715 non-null  float64\n",
      " 6   JP_sales         16715 non-null  float64\n",
      " 7   Other_sales      16715 non-null  float64\n",
      " 8   Critic_Score     8137 non-null   float64\n",
      " 9   User_Score       10014 non-null  object \n",
      " 10  Rating           9949 non-null   object \n",
      "dtypes: float64(6), object(5)\n",
      "memory usage: 1.4+ MB\n"
     ]
    }
   ],
   "source": [
    "data.info()"
   ]
  },
  {
   "cell_type": "markdown",
   "id": "155df638",
   "metadata": {},
   "source": [
    "## Предобработка данных"
   ]
  },
  {
   "cell_type": "code",
   "execution_count": 5,
   "id": "a05a76f9",
   "metadata": {},
   "outputs": [
    {
     "data": {
      "text/plain": [
       "Index(['name', 'platform', 'year_of_release', 'genre', 'na_sales', 'eu_sales',\n",
       "       'jp_sales', 'other_sales', 'critic_score', 'user_score', 'rating'],\n",
       "      dtype='object')"
      ]
     },
     "execution_count": 5,
     "metadata": {},
     "output_type": "execute_result"
    }
   ],
   "source": [
    "#Переводим названия столбцов в нижный регистр\n",
    "data.columns = data.columns.str.lower()\n",
    "data.columns"
   ]
  },
  {
   "cell_type": "code",
   "execution_count": 6,
   "id": "9b6506e2",
   "metadata": {},
   "outputs": [
    {
     "data": {
      "text/plain": [
       "name                  2\n",
       "platform              0\n",
       "year_of_release     269\n",
       "genre                 2\n",
       "na_sales              0\n",
       "eu_sales              0\n",
       "jp_sales              0\n",
       "other_sales           0\n",
       "critic_score       8578\n",
       "user_score         6701\n",
       "rating             6766\n",
       "dtype: int64"
      ]
     },
     "execution_count": 6,
     "metadata": {},
     "output_type": "execute_result"
    }
   ],
   "source": [
    "#Выявляем количество строк с пропущенными значениями\n",
    "data.isna().sum()"
   ]
  },
  {
   "cell_type": "code",
   "execution_count": 7,
   "id": "4d84f0c5",
   "metadata": {},
   "outputs": [
    {
     "data": {
      "text/plain": [
       "array([' Beyblade Burst', ' Fire Emblem Fates', \" Frozen: Olaf's Quest\",\n",
       "       ..., 'wwe Smackdown vs. Raw 2006', '¡Shin Chan Flipa en colores!',\n",
       "       nan], dtype=object)"
      ]
     },
     "execution_count": 7,
     "metadata": {},
     "output_type": "execute_result"
    }
   ],
   "source": [
    "#выгрузим все уникальные згачения в названии игр\n",
    "data['name'].sort_values().unique()"
   ]
  },
  {
   "cell_type": "code",
   "execution_count": 8,
   "id": "53c6ba00",
   "metadata": {},
   "outputs": [
    {
     "data": {
      "text/plain": [
       "array(['.hack//G.U. Vol.1//Rebirth', '.hack//G.U. Vol.2//Reminisce',\n",
       "       '.hack//G.U. Vol.2//Reminisce (jp sales)', ...,\n",
       "       'wwe Smackdown vs. Raw 2006', '¡Shin Chan Flipa en colores!', nan],\n",
       "      dtype=object)"
      ]
     },
     "execution_count": 8,
     "metadata": {},
     "output_type": "execute_result"
    }
   ],
   "source": [
    "#уберем первый лишний пробел в названии игр, лишние кавычки\n",
    "data['name'] = data['name'].str.strip()\n",
    "data['name'] = data['name'].replace(\"'\",'',regex=True)\n",
    "data['name'].sort_values().unique()"
   ]
  },
  {
   "cell_type": "markdown",
   "id": "29e51139",
   "metadata": {},
   "source": [
    "Выявим строки с пропущенными значениями в названии и жанре игр."
   ]
  },
  {
   "cell_type": "code",
   "execution_count": 9,
   "id": "299063fa",
   "metadata": {},
   "outputs": [
    {
     "data": {
      "text/html": [
       "<div>\n",
       "<style scoped>\n",
       "    .dataframe tbody tr th:only-of-type {\n",
       "        vertical-align: middle;\n",
       "    }\n",
       "\n",
       "    .dataframe tbody tr th {\n",
       "        vertical-align: top;\n",
       "    }\n",
       "\n",
       "    .dataframe thead th {\n",
       "        text-align: right;\n",
       "    }\n",
       "</style>\n",
       "<table border=\"1\" class=\"dataframe\">\n",
       "  <thead>\n",
       "    <tr style=\"text-align: right;\">\n",
       "      <th></th>\n",
       "      <th>name</th>\n",
       "      <th>platform</th>\n",
       "      <th>year_of_release</th>\n",
       "      <th>genre</th>\n",
       "      <th>na_sales</th>\n",
       "      <th>eu_sales</th>\n",
       "      <th>jp_sales</th>\n",
       "      <th>other_sales</th>\n",
       "      <th>critic_score</th>\n",
       "      <th>user_score</th>\n",
       "      <th>rating</th>\n",
       "    </tr>\n",
       "  </thead>\n",
       "  <tbody>\n",
       "    <tr>\n",
       "      <th>659</th>\n",
       "      <td>NaN</td>\n",
       "      <td>GEN</td>\n",
       "      <td>1993.0</td>\n",
       "      <td>NaN</td>\n",
       "      <td>1.78</td>\n",
       "      <td>0.53</td>\n",
       "      <td>0.00</td>\n",
       "      <td>0.08</td>\n",
       "      <td>NaN</td>\n",
       "      <td>NaN</td>\n",
       "      <td>NaN</td>\n",
       "    </tr>\n",
       "    <tr>\n",
       "      <th>14244</th>\n",
       "      <td>NaN</td>\n",
       "      <td>GEN</td>\n",
       "      <td>1993.0</td>\n",
       "      <td>NaN</td>\n",
       "      <td>0.00</td>\n",
       "      <td>0.00</td>\n",
       "      <td>0.03</td>\n",
       "      <td>0.00</td>\n",
       "      <td>NaN</td>\n",
       "      <td>NaN</td>\n",
       "      <td>NaN</td>\n",
       "    </tr>\n",
       "  </tbody>\n",
       "</table>\n",
       "</div>"
      ],
      "text/plain": [
       "      name platform  year_of_release genre  na_sales  eu_sales  jp_sales  \\\n",
       "659    NaN      GEN           1993.0   NaN      1.78      0.53      0.00   \n",
       "14244  NaN      GEN           1993.0   NaN      0.00      0.00      0.03   \n",
       "\n",
       "       other_sales  critic_score user_score rating  \n",
       "659           0.08           NaN        NaN    NaN  \n",
       "14244         0.00           NaN        NaN    NaN  "
      ]
     },
     "execution_count": 9,
     "metadata": {},
     "output_type": "execute_result"
    }
   ],
   "source": [
    "data.query('genre.isna()')\n"
   ]
  },
  {
   "cell_type": "code",
   "execution_count": 10,
   "id": "1a67665a",
   "metadata": {},
   "outputs": [
    {
     "data": {
      "text/html": [
       "<div>\n",
       "<style scoped>\n",
       "    .dataframe tbody tr th:only-of-type {\n",
       "        vertical-align: middle;\n",
       "    }\n",
       "\n",
       "    .dataframe tbody tr th {\n",
       "        vertical-align: top;\n",
       "    }\n",
       "\n",
       "    .dataframe thead th {\n",
       "        text-align: right;\n",
       "    }\n",
       "</style>\n",
       "<table border=\"1\" class=\"dataframe\">\n",
       "  <thead>\n",
       "    <tr style=\"text-align: right;\">\n",
       "      <th></th>\n",
       "      <th>name</th>\n",
       "      <th>platform</th>\n",
       "      <th>year_of_release</th>\n",
       "      <th>genre</th>\n",
       "      <th>na_sales</th>\n",
       "      <th>eu_sales</th>\n",
       "      <th>jp_sales</th>\n",
       "      <th>other_sales</th>\n",
       "      <th>critic_score</th>\n",
       "      <th>user_score</th>\n",
       "      <th>rating</th>\n",
       "    </tr>\n",
       "  </thead>\n",
       "  <tbody>\n",
       "    <tr>\n",
       "      <th>659</th>\n",
       "      <td>NaN</td>\n",
       "      <td>GEN</td>\n",
       "      <td>1993.0</td>\n",
       "      <td>NaN</td>\n",
       "      <td>1.78</td>\n",
       "      <td>0.53</td>\n",
       "      <td>0.00</td>\n",
       "      <td>0.08</td>\n",
       "      <td>NaN</td>\n",
       "      <td>NaN</td>\n",
       "      <td>NaN</td>\n",
       "    </tr>\n",
       "    <tr>\n",
       "      <th>14244</th>\n",
       "      <td>NaN</td>\n",
       "      <td>GEN</td>\n",
       "      <td>1993.0</td>\n",
       "      <td>NaN</td>\n",
       "      <td>0.00</td>\n",
       "      <td>0.00</td>\n",
       "      <td>0.03</td>\n",
       "      <td>0.00</td>\n",
       "      <td>NaN</td>\n",
       "      <td>NaN</td>\n",
       "      <td>NaN</td>\n",
       "    </tr>\n",
       "  </tbody>\n",
       "</table>\n",
       "</div>"
      ],
      "text/plain": [
       "      name platform  year_of_release genre  na_sales  eu_sales  jp_sales  \\\n",
       "659    NaN      GEN           1993.0   NaN      1.78      0.53      0.00   \n",
       "14244  NaN      GEN           1993.0   NaN      0.00      0.00      0.03   \n",
       "\n",
       "       other_sales  critic_score user_score rating  \n",
       "659           0.08           NaN        NaN    NaN  \n",
       "14244         0.00           NaN        NaN    NaN  "
      ]
     },
     "execution_count": 10,
     "metadata": {},
     "output_type": "execute_result"
    }
   ],
   "source": [
    "data.query('name.isna()')"
   ]
  },
  {
   "cell_type": "markdown",
   "id": "851a97bc",
   "metadata": {},
   "source": [
    "Получается, что значения пропущены в одних и тех же строках. Поскольку 2 строки это только 0,01% всего датафрейма, их удаление не окажет существенного влияния на исследование."
   ]
  },
  {
   "cell_type": "code",
   "execution_count": 11,
   "id": "e11c5b60",
   "metadata": {},
   "outputs": [
    {
     "data": {
      "text/html": [
       "<div>\n",
       "<style scoped>\n",
       "    .dataframe tbody tr th:only-of-type {\n",
       "        vertical-align: middle;\n",
       "    }\n",
       "\n",
       "    .dataframe tbody tr th {\n",
       "        vertical-align: top;\n",
       "    }\n",
       "\n",
       "    .dataframe thead th {\n",
       "        text-align: right;\n",
       "    }\n",
       "</style>\n",
       "<table border=\"1\" class=\"dataframe\">\n",
       "  <thead>\n",
       "    <tr style=\"text-align: right;\">\n",
       "      <th></th>\n",
       "      <th>name</th>\n",
       "      <th>platform</th>\n",
       "      <th>year_of_release</th>\n",
       "      <th>genre</th>\n",
       "      <th>na_sales</th>\n",
       "      <th>eu_sales</th>\n",
       "      <th>jp_sales</th>\n",
       "      <th>other_sales</th>\n",
       "      <th>critic_score</th>\n",
       "      <th>user_score</th>\n",
       "      <th>rating</th>\n",
       "    </tr>\n",
       "  </thead>\n",
       "  <tbody>\n",
       "    <tr>\n",
       "      <th>0</th>\n",
       "      <td>Wii Sports</td>\n",
       "      <td>Wii</td>\n",
       "      <td>2006.0</td>\n",
       "      <td>Sports</td>\n",
       "      <td>41.36</td>\n",
       "      <td>28.96</td>\n",
       "      <td>3.77</td>\n",
       "      <td>8.45</td>\n",
       "      <td>76.0</td>\n",
       "      <td>8</td>\n",
       "      <td>E</td>\n",
       "    </tr>\n",
       "    <tr>\n",
       "      <th>1</th>\n",
       "      <td>Super Mario Bros.</td>\n",
       "      <td>NES</td>\n",
       "      <td>1985.0</td>\n",
       "      <td>Platform</td>\n",
       "      <td>29.08</td>\n",
       "      <td>3.58</td>\n",
       "      <td>6.81</td>\n",
       "      <td>0.77</td>\n",
       "      <td>NaN</td>\n",
       "      <td>NaN</td>\n",
       "      <td>NaN</td>\n",
       "    </tr>\n",
       "    <tr>\n",
       "      <th>2</th>\n",
       "      <td>Mario Kart Wii</td>\n",
       "      <td>Wii</td>\n",
       "      <td>2008.0</td>\n",
       "      <td>Racing</td>\n",
       "      <td>15.68</td>\n",
       "      <td>12.76</td>\n",
       "      <td>3.79</td>\n",
       "      <td>3.29</td>\n",
       "      <td>82.0</td>\n",
       "      <td>8.3</td>\n",
       "      <td>E</td>\n",
       "    </tr>\n",
       "    <tr>\n",
       "      <th>3</th>\n",
       "      <td>Wii Sports Resort</td>\n",
       "      <td>Wii</td>\n",
       "      <td>2009.0</td>\n",
       "      <td>Sports</td>\n",
       "      <td>15.61</td>\n",
       "      <td>10.93</td>\n",
       "      <td>3.28</td>\n",
       "      <td>2.95</td>\n",
       "      <td>80.0</td>\n",
       "      <td>8</td>\n",
       "      <td>E</td>\n",
       "    </tr>\n",
       "    <tr>\n",
       "      <th>4</th>\n",
       "      <td>Pokemon Red/Pokemon Blue</td>\n",
       "      <td>GB</td>\n",
       "      <td>1996.0</td>\n",
       "      <td>Role-Playing</td>\n",
       "      <td>11.27</td>\n",
       "      <td>8.89</td>\n",
       "      <td>10.22</td>\n",
       "      <td>1.00</td>\n",
       "      <td>NaN</td>\n",
       "      <td>NaN</td>\n",
       "      <td>NaN</td>\n",
       "    </tr>\n",
       "  </tbody>\n",
       "</table>\n",
       "</div>"
      ],
      "text/plain": [
       "                       name platform  year_of_release         genre  na_sales  \\\n",
       "0                Wii Sports      Wii           2006.0        Sports     41.36   \n",
       "1         Super Mario Bros.      NES           1985.0      Platform     29.08   \n",
       "2            Mario Kart Wii      Wii           2008.0        Racing     15.68   \n",
       "3         Wii Sports Resort      Wii           2009.0        Sports     15.61   \n",
       "4  Pokemon Red/Pokemon Blue       GB           1996.0  Role-Playing     11.27   \n",
       "\n",
       "   eu_sales  jp_sales  other_sales  critic_score user_score rating  \n",
       "0     28.96      3.77         8.45          76.0          8      E  \n",
       "1      3.58      6.81         0.77           NaN        NaN    NaN  \n",
       "2     12.76      3.79         3.29          82.0        8.3      E  \n",
       "3     10.93      3.28         2.95          80.0          8      E  \n",
       "4      8.89     10.22         1.00           NaN        NaN    NaN  "
      ]
     },
     "execution_count": 11,
     "metadata": {},
     "output_type": "execute_result"
    }
   ],
   "source": [
    "#сбрасываем строки с пропущенными названиями\n",
    "data.dropna(subset=['name'], inplace=True)\n",
    "data.reset_index(drop=True)\n",
    "data.head()\n"
   ]
  },
  {
   "cell_type": "markdown",
   "id": "c98a28d6",
   "metadata": {},
   "source": [
    "Обрабатываем пропущенные значения в годе релиза."
   ]
  },
  {
   "cell_type": "code",
   "execution_count": 12,
   "id": "e8312ba8",
   "metadata": {},
   "outputs": [
    {
     "data": {
      "text/html": [
       "<div>\n",
       "<style scoped>\n",
       "    .dataframe tbody tr th:only-of-type {\n",
       "        vertical-align: middle;\n",
       "    }\n",
       "\n",
       "    .dataframe tbody tr th {\n",
       "        vertical-align: top;\n",
       "    }\n",
       "\n",
       "    .dataframe thead th {\n",
       "        text-align: right;\n",
       "    }\n",
       "</style>\n",
       "<table border=\"1\" class=\"dataframe\">\n",
       "  <thead>\n",
       "    <tr style=\"text-align: right;\">\n",
       "      <th></th>\n",
       "      <th>name</th>\n",
       "      <th>platform</th>\n",
       "      <th>year_of_release</th>\n",
       "      <th>genre</th>\n",
       "      <th>na_sales</th>\n",
       "      <th>eu_sales</th>\n",
       "      <th>jp_sales</th>\n",
       "      <th>other_sales</th>\n",
       "      <th>critic_score</th>\n",
       "      <th>user_score</th>\n",
       "      <th>rating</th>\n",
       "    </tr>\n",
       "  </thead>\n",
       "  <tbody>\n",
       "    <tr>\n",
       "      <th>183</th>\n",
       "      <td>Madden NFL 2004</td>\n",
       "      <td>PS2</td>\n",
       "      <td>NaN</td>\n",
       "      <td>Sports</td>\n",
       "      <td>4.26</td>\n",
       "      <td>0.26</td>\n",
       "      <td>0.01</td>\n",
       "      <td>0.71</td>\n",
       "      <td>94.0</td>\n",
       "      <td>8.5</td>\n",
       "      <td>E</td>\n",
       "    </tr>\n",
       "    <tr>\n",
       "      <th>377</th>\n",
       "      <td>FIFA Soccer 2004</td>\n",
       "      <td>PS2</td>\n",
       "      <td>NaN</td>\n",
       "      <td>Sports</td>\n",
       "      <td>0.59</td>\n",
       "      <td>2.36</td>\n",
       "      <td>0.04</td>\n",
       "      <td>0.51</td>\n",
       "      <td>84.0</td>\n",
       "      <td>6.4</td>\n",
       "      <td>E</td>\n",
       "    </tr>\n",
       "    <tr>\n",
       "      <th>456</th>\n",
       "      <td>LEGO Batman: The Videogame</td>\n",
       "      <td>Wii</td>\n",
       "      <td>NaN</td>\n",
       "      <td>Action</td>\n",
       "      <td>1.80</td>\n",
       "      <td>0.97</td>\n",
       "      <td>0.00</td>\n",
       "      <td>0.29</td>\n",
       "      <td>74.0</td>\n",
       "      <td>7.9</td>\n",
       "      <td>E10+</td>\n",
       "    </tr>\n",
       "    <tr>\n",
       "      <th>475</th>\n",
       "      <td>wwe Smackdown vs. Raw 2006</td>\n",
       "      <td>PS2</td>\n",
       "      <td>NaN</td>\n",
       "      <td>Fighting</td>\n",
       "      <td>1.57</td>\n",
       "      <td>1.02</td>\n",
       "      <td>0.00</td>\n",
       "      <td>0.41</td>\n",
       "      <td>NaN</td>\n",
       "      <td>NaN</td>\n",
       "      <td>NaN</td>\n",
       "    </tr>\n",
       "    <tr>\n",
       "      <th>609</th>\n",
       "      <td>Space Invaders</td>\n",
       "      <td>2600</td>\n",
       "      <td>NaN</td>\n",
       "      <td>Shooter</td>\n",
       "      <td>2.36</td>\n",
       "      <td>0.14</td>\n",
       "      <td>0.00</td>\n",
       "      <td>0.03</td>\n",
       "      <td>NaN</td>\n",
       "      <td>NaN</td>\n",
       "      <td>NaN</td>\n",
       "    </tr>\n",
       "    <tr>\n",
       "      <th>...</th>\n",
       "      <td>...</td>\n",
       "      <td>...</td>\n",
       "      <td>...</td>\n",
       "      <td>...</td>\n",
       "      <td>...</td>\n",
       "      <td>...</td>\n",
       "      <td>...</td>\n",
       "      <td>...</td>\n",
       "      <td>...</td>\n",
       "      <td>...</td>\n",
       "      <td>...</td>\n",
       "    </tr>\n",
       "    <tr>\n",
       "      <th>16373</th>\n",
       "      <td>PDC World Championship Darts 2008</td>\n",
       "      <td>PSP</td>\n",
       "      <td>NaN</td>\n",
       "      <td>Sports</td>\n",
       "      <td>0.01</td>\n",
       "      <td>0.00</td>\n",
       "      <td>0.00</td>\n",
       "      <td>0.00</td>\n",
       "      <td>43.0</td>\n",
       "      <td>tbd</td>\n",
       "      <td>E10+</td>\n",
       "    </tr>\n",
       "    <tr>\n",
       "      <th>16405</th>\n",
       "      <td>Freaky Flyers</td>\n",
       "      <td>GC</td>\n",
       "      <td>NaN</td>\n",
       "      <td>Racing</td>\n",
       "      <td>0.01</td>\n",
       "      <td>0.00</td>\n",
       "      <td>0.00</td>\n",
       "      <td>0.00</td>\n",
       "      <td>69.0</td>\n",
       "      <td>6.5</td>\n",
       "      <td>T</td>\n",
       "    </tr>\n",
       "    <tr>\n",
       "      <th>16448</th>\n",
       "      <td>Inversion</td>\n",
       "      <td>PC</td>\n",
       "      <td>NaN</td>\n",
       "      <td>Shooter</td>\n",
       "      <td>0.01</td>\n",
       "      <td>0.00</td>\n",
       "      <td>0.00</td>\n",
       "      <td>0.00</td>\n",
       "      <td>59.0</td>\n",
       "      <td>6.7</td>\n",
       "      <td>M</td>\n",
       "    </tr>\n",
       "    <tr>\n",
       "      <th>16458</th>\n",
       "      <td>Hakuouki: Shinsengumi Kitan</td>\n",
       "      <td>PS3</td>\n",
       "      <td>NaN</td>\n",
       "      <td>Adventure</td>\n",
       "      <td>0.01</td>\n",
       "      <td>0.00</td>\n",
       "      <td>0.00</td>\n",
       "      <td>0.00</td>\n",
       "      <td>NaN</td>\n",
       "      <td>NaN</td>\n",
       "      <td>NaN</td>\n",
       "    </tr>\n",
       "    <tr>\n",
       "      <th>16522</th>\n",
       "      <td>Virtua Quest</td>\n",
       "      <td>GC</td>\n",
       "      <td>NaN</td>\n",
       "      <td>Role-Playing</td>\n",
       "      <td>0.01</td>\n",
       "      <td>0.00</td>\n",
       "      <td>0.00</td>\n",
       "      <td>0.00</td>\n",
       "      <td>55.0</td>\n",
       "      <td>5.5</td>\n",
       "      <td>T</td>\n",
       "    </tr>\n",
       "  </tbody>\n",
       "</table>\n",
       "<p>269 rows × 11 columns</p>\n",
       "</div>"
      ],
      "text/plain": [
       "                                    name platform  year_of_release  \\\n",
       "183                      Madden NFL 2004      PS2              NaN   \n",
       "377                     FIFA Soccer 2004      PS2              NaN   \n",
       "456           LEGO Batman: The Videogame      Wii              NaN   \n",
       "475           wwe Smackdown vs. Raw 2006      PS2              NaN   \n",
       "609                       Space Invaders     2600              NaN   \n",
       "...                                  ...      ...              ...   \n",
       "16373  PDC World Championship Darts 2008      PSP              NaN   \n",
       "16405                      Freaky Flyers       GC              NaN   \n",
       "16448                          Inversion       PC              NaN   \n",
       "16458        Hakuouki: Shinsengumi Kitan      PS3              NaN   \n",
       "16522                       Virtua Quest       GC              NaN   \n",
       "\n",
       "              genre  na_sales  eu_sales  jp_sales  other_sales  critic_score  \\\n",
       "183          Sports      4.26      0.26      0.01         0.71          94.0   \n",
       "377          Sports      0.59      2.36      0.04         0.51          84.0   \n",
       "456          Action      1.80      0.97      0.00         0.29          74.0   \n",
       "475        Fighting      1.57      1.02      0.00         0.41           NaN   \n",
       "609         Shooter      2.36      0.14      0.00         0.03           NaN   \n",
       "...             ...       ...       ...       ...          ...           ...   \n",
       "16373        Sports      0.01      0.00      0.00         0.00          43.0   \n",
       "16405        Racing      0.01      0.00      0.00         0.00          69.0   \n",
       "16448       Shooter      0.01      0.00      0.00         0.00          59.0   \n",
       "16458     Adventure      0.01      0.00      0.00         0.00           NaN   \n",
       "16522  Role-Playing      0.01      0.00      0.00         0.00          55.0   \n",
       "\n",
       "      user_score rating  \n",
       "183          8.5      E  \n",
       "377          6.4      E  \n",
       "456          7.9   E10+  \n",
       "475          NaN    NaN  \n",
       "609          NaN    NaN  \n",
       "...          ...    ...  \n",
       "16373        tbd   E10+  \n",
       "16405        6.5      T  \n",
       "16448        6.7      M  \n",
       "16458        NaN    NaN  \n",
       "16522        5.5      T  \n",
       "\n",
       "[269 rows x 11 columns]"
      ]
     },
     "execution_count": 12,
     "metadata": {},
     "output_type": "execute_result"
    }
   ],
   "source": [
    "data.query('year_of_release.isna()')"
   ]
  },
  {
   "cell_type": "markdown",
   "id": "d1ae0aff",
   "metadata": {},
   "source": [
    "Не представляется возможным корректно востановить пропущенные значения в столбце 'year_of_release', поскольку на разных платформах релизы игр могут существенно отличаться во времени. Так как 269 строк это только 1,6 % всего датафрейма, их удаление не окажет существенного влияния на исследование."
   ]
  },
  {
   "cell_type": "code",
   "execution_count": 13,
   "id": "cc58e713",
   "metadata": {},
   "outputs": [
    {
     "data": {
      "text/html": [
       "<div>\n",
       "<style scoped>\n",
       "    .dataframe tbody tr th:only-of-type {\n",
       "        vertical-align: middle;\n",
       "    }\n",
       "\n",
       "    .dataframe tbody tr th {\n",
       "        vertical-align: top;\n",
       "    }\n",
       "\n",
       "    .dataframe thead th {\n",
       "        text-align: right;\n",
       "    }\n",
       "</style>\n",
       "<table border=\"1\" class=\"dataframe\">\n",
       "  <thead>\n",
       "    <tr style=\"text-align: right;\">\n",
       "      <th></th>\n",
       "      <th>name</th>\n",
       "      <th>platform</th>\n",
       "      <th>year_of_release</th>\n",
       "      <th>genre</th>\n",
       "      <th>na_sales</th>\n",
       "      <th>eu_sales</th>\n",
       "      <th>jp_sales</th>\n",
       "      <th>other_sales</th>\n",
       "      <th>critic_score</th>\n",
       "      <th>user_score</th>\n",
       "      <th>rating</th>\n",
       "    </tr>\n",
       "  </thead>\n",
       "  <tbody>\n",
       "    <tr>\n",
       "      <th>0</th>\n",
       "      <td>Wii Sports</td>\n",
       "      <td>Wii</td>\n",
       "      <td>2006.0</td>\n",
       "      <td>Sports</td>\n",
       "      <td>41.36</td>\n",
       "      <td>28.96</td>\n",
       "      <td>3.77</td>\n",
       "      <td>8.45</td>\n",
       "      <td>76.0</td>\n",
       "      <td>8</td>\n",
       "      <td>E</td>\n",
       "    </tr>\n",
       "    <tr>\n",
       "      <th>1</th>\n",
       "      <td>Super Mario Bros.</td>\n",
       "      <td>NES</td>\n",
       "      <td>1985.0</td>\n",
       "      <td>Platform</td>\n",
       "      <td>29.08</td>\n",
       "      <td>3.58</td>\n",
       "      <td>6.81</td>\n",
       "      <td>0.77</td>\n",
       "      <td>NaN</td>\n",
       "      <td>NaN</td>\n",
       "      <td>NaN</td>\n",
       "    </tr>\n",
       "    <tr>\n",
       "      <th>2</th>\n",
       "      <td>Mario Kart Wii</td>\n",
       "      <td>Wii</td>\n",
       "      <td>2008.0</td>\n",
       "      <td>Racing</td>\n",
       "      <td>15.68</td>\n",
       "      <td>12.76</td>\n",
       "      <td>3.79</td>\n",
       "      <td>3.29</td>\n",
       "      <td>82.0</td>\n",
       "      <td>8.3</td>\n",
       "      <td>E</td>\n",
       "    </tr>\n",
       "    <tr>\n",
       "      <th>3</th>\n",
       "      <td>Wii Sports Resort</td>\n",
       "      <td>Wii</td>\n",
       "      <td>2009.0</td>\n",
       "      <td>Sports</td>\n",
       "      <td>15.61</td>\n",
       "      <td>10.93</td>\n",
       "      <td>3.28</td>\n",
       "      <td>2.95</td>\n",
       "      <td>80.0</td>\n",
       "      <td>8</td>\n",
       "      <td>E</td>\n",
       "    </tr>\n",
       "    <tr>\n",
       "      <th>4</th>\n",
       "      <td>Pokemon Red/Pokemon Blue</td>\n",
       "      <td>GB</td>\n",
       "      <td>1996.0</td>\n",
       "      <td>Role-Playing</td>\n",
       "      <td>11.27</td>\n",
       "      <td>8.89</td>\n",
       "      <td>10.22</td>\n",
       "      <td>1.00</td>\n",
       "      <td>NaN</td>\n",
       "      <td>NaN</td>\n",
       "      <td>NaN</td>\n",
       "    </tr>\n",
       "  </tbody>\n",
       "</table>\n",
       "</div>"
      ],
      "text/plain": [
       "                       name platform  year_of_release         genre  na_sales  \\\n",
       "0                Wii Sports      Wii           2006.0        Sports     41.36   \n",
       "1         Super Mario Bros.      NES           1985.0      Platform     29.08   \n",
       "2            Mario Kart Wii      Wii           2008.0        Racing     15.68   \n",
       "3         Wii Sports Resort      Wii           2009.0        Sports     15.61   \n",
       "4  Pokemon Red/Pokemon Blue       GB           1996.0  Role-Playing     11.27   \n",
       "\n",
       "   eu_sales  jp_sales  other_sales  critic_score user_score rating  \n",
       "0     28.96      3.77         8.45          76.0          8      E  \n",
       "1      3.58      6.81         0.77           NaN        NaN    NaN  \n",
       "2     12.76      3.79         3.29          82.0        8.3      E  \n",
       "3     10.93      3.28         2.95          80.0          8      E  \n",
       "4      8.89     10.22         1.00           NaN        NaN    NaN  "
      ]
     },
     "execution_count": 13,
     "metadata": {},
     "output_type": "execute_result"
    }
   ],
   "source": [
    "#сбрасываем строки с пропущенными годами релиза\n",
    "data.dropna(subset=['year_of_release'], inplace=True)\n",
    "data.reset_index(drop=True)\n",
    "data.head()\n"
   ]
  },
  {
   "cell_type": "code",
   "execution_count": 14,
   "id": "b9dec6ca",
   "metadata": {},
   "outputs": [],
   "source": [
    "#Перводим тип данных в столбце 'user_score'в float.\n",
    "#метод to_numeric также заменяет значение tbd в столбце 'user_score', 'critic_score'на Nan\n",
    "#tbd - To Be Determined, то есть \"Будет определено\".\n",
    "data['user_score'] = pd.to_numeric(data['user_score'], errors='coerce')\n"
   ]
  },
  {
   "cell_type": "markdown",
   "id": "3070a689",
   "metadata": {},
   "source": [
    "У нас наблюдается большой объем пропущенных значений в столбцах 'critic_score', 'user_score' (почти половина дата фрейма), такой объем данных не представляется возможным корректно заменить. Заменять данные пропуски на 0 не целесообразно, т.к. значения можгут содержать оценку в 0 баллов, оставляем как есть."
   ]
  },
  {
   "cell_type": "code",
   "execution_count": 15,
   "id": "b5edc023",
   "metadata": {},
   "outputs": [
    {
     "data": {
      "text/plain": [
       "name                object\n",
       "platform            object\n",
       "year_of_release    float64\n",
       "genre               object\n",
       "na_sales           float64\n",
       "eu_sales           float64\n",
       "jp_sales           float64\n",
       "other_sales        float64\n",
       "critic_score       float64\n",
       "user_score         float64\n",
       "rating              object\n",
       "dtype: object"
      ]
     },
     "execution_count": 15,
     "metadata": {},
     "output_type": "execute_result"
    }
   ],
   "source": [
    "data.dtypes "
   ]
  },
  {
   "cell_type": "code",
   "execution_count": 16,
   "id": "fa908f4c",
   "metadata": {},
   "outputs": [
    {
     "data": {
      "text/plain": [
       "name                  0\n",
       "platform              0\n",
       "year_of_release       0\n",
       "genre                 0\n",
       "na_sales              0\n",
       "eu_sales              0\n",
       "jp_sales              0\n",
       "other_sales           0\n",
       "critic_score       8461\n",
       "user_score         8981\n",
       "rating             6676\n",
       "dtype: int64"
      ]
     },
     "execution_count": 16,
     "metadata": {},
     "output_type": "execute_result"
    }
   ],
   "source": [
    "data.isna().sum()"
   ]
  },
  {
   "cell_type": "code",
   "execution_count": 17,
   "id": "e1879bd4",
   "metadata": {},
   "outputs": [
    {
     "data": {
      "text/plain": [
       "array(['2600', '3DO', '3DS', 'DC', 'DS', 'GB', 'GBA', 'GC', 'GEN', 'GG',\n",
       "       'N64', 'NES', 'NG', 'PC', 'PCFX', 'PS', 'PS2', 'PS3', 'PS4', 'PSP',\n",
       "       'PSV', 'SAT', 'SCD', 'SNES', 'TG16', 'WS', 'Wii', 'WiiU', 'X360',\n",
       "       'XB', 'XOne'], dtype=object)"
      ]
     },
     "execution_count": 17,
     "metadata": {},
     "output_type": "execute_result"
    }
   ],
   "source": [
    "data['platform'].sort_values().unique() #выгружаем все уникальные значения названия игоровых платформ"
   ]
  },
  {
   "cell_type": "code",
   "execution_count": 18,
   "id": "d4c6abe3",
   "metadata": {},
   "outputs": [
    {
     "data": {
      "text/plain": [
       "array(['Action', 'Adventure', 'Fighting', 'Misc', 'Platform', 'Puzzle',\n",
       "       'Racing', 'Role-Playing', 'Shooter', 'Simulation', 'Sports',\n",
       "       'Strategy'], dtype=object)"
      ]
     },
     "execution_count": 18,
     "metadata": {},
     "output_type": "execute_result"
    }
   ],
   "source": [
    "data['genre'].sort_values().unique() #выгружаем все уникальные значения игоровых жанров"
   ]
  },
  {
   "cell_type": "code",
   "execution_count": 19,
   "id": "83522c5a",
   "metadata": {},
   "outputs": [
    {
     "data": {
      "text/plain": [
       "array(['AO', 'E', 'E10+', 'EC', 'K-A', 'M', 'RP', 'T', nan], dtype=object)"
      ]
     },
     "execution_count": 19,
     "metadata": {},
     "output_type": "execute_result"
    }
   ],
   "source": [
    "data['rating'].sort_values().unique() #выгружаем все уникальные значения рейтинга ESRB"
   ]
  },
  {
   "cell_type": "markdown",
   "id": "3b89e780",
   "metadata": {},
   "source": [
    "Расшифровка рейтинга Entertainment Software Rating Board (ESRB):\n",
    "\n",
    "EC\tДля детей младшего возраста. Подходит для детей от 3 лет, неприемлемое содержание отсутствует.\n",
    "\n",
    "E\tПодходит для всех возрастных категорий. Игра не должна содержать звуков или изображений, которые могут напугать маленьких детей. Не должна использоваться ненормативная лексика.\n",
    "\n",
    "E 10+\tПодходит для лиц старше 10 лет. Игра может содержать умеренные формы насилия, а некоторые сцены могут пугать детей.\n",
    "\n",
    "T\tПодходит для лиц старше 13 лет. Игра может содержать более реалистичные и натуралистические сцены насилия.\n",
    "\n",
    "M\tПодходит для лиц старше 17 лет. Этот рейтинг используется, когда насилие становится реалистичным и похожим на реальную \n",
    "жизнь. Также может присутствовать ненормативная лексика, употребление табака, алкоголя или запрещенных наркотиков.\n",
    "\n",
    "AO\tПодходит для взрослых старше 18 лет. Классификация «для взрослых» используется, когда в игре присутствует крайний уровень насилия и немотивированного убийства. Также может присутствовать романтизация наркотиков, азартных игр и сексуальной активности.\n",
    "\n",
    "RP\tКатегория ещё не присвоена. Играм с категорией RP еще не присвоен окончательный рейтинг ESRB.\n",
    "\n",
    "K-A («Kids to Adults»)— «Для детей и взрослых»: Содержание игры вполне подходит для возрастной категории от 6 лет и старше. Такие игры подходят для всех возрастов. Они могут содержать минимальное насилие или немного грубый разговорный язык."
   ]
  },
  {
   "cell_type": "markdown",
   "id": "34b66a12",
   "metadata": {},
   "source": [
    "Заменим все пропущеные значения в этом столбце на \"нет данных\""
   ]
  },
  {
   "cell_type": "markdown",
   "id": "a6082198",
   "metadata": {},
   "source": [
    "Нет возможности определить, на основании чего возникли данные пропуски. В списках есть пропуски в играх ранних годов (например 1984, 1985, 1989), что может говорить о том, что ранее рейтинг играм не присваивался, поскольку ESRB была основана в 1994 году. Есть пропуски в играх 2016 года, что может говорить о том, что рейтинг еще не определен. Компании не обязаны предоставлять игру на определение рейтинга до начала официальных продаж, так как её содержимое может значительно измениться в ходе разработки. Рейтинг так же отсутсвует у игр 2006, 2005 гг, что может говорить об ошибке заполнения и игнорировании графы при заполнении данных или о том, что рейтинг присваивался другой системой рейтинговой оценки."
   ]
  },
  {
   "cell_type": "code",
   "execution_count": 20,
   "id": "9f55ce2b",
   "metadata": {},
   "outputs": [
    {
     "data": {
      "text/plain": [
       "array(['AO', 'E', 'E10+', 'EC', 'K-A', 'M', 'RP', 'T', 'нет данных'],\n",
       "      dtype=object)"
      ]
     },
     "execution_count": 20,
     "metadata": {},
     "output_type": "execute_result"
    }
   ],
   "source": [
    "data['rating'] = data['rating'].fillna('нет данных')\n",
    "data['rating'].sort_values().unique()"
   ]
  },
  {
   "cell_type": "code",
   "execution_count": 21,
   "id": "d72e6b0f",
   "metadata": {},
   "outputs": [
    {
     "data": {
      "text/plain": [
       "array([13., 17., 19., 20., 21., 23., 24., 25., 26., 27., 28., 29., 30.,\n",
       "       31., 32., 33., 34., 35., 36., 37., 38., 39., 40., 41., 42., 43.,\n",
       "       44., 45., 46., 47., 48., 49., 50., 51., 52., 53., 54., 55., 56.,\n",
       "       57., 58., 59., 60., 61., 62., 63., 64., 65., 66., 67., 68., 69.,\n",
       "       70., 71., 72., 73., 74., 75., 76., 77., 78., 79., 80., 81., 82.,\n",
       "       83., 84., 85., 86., 87., 88., 89., 90., 91., 92., 93., 94., 95.,\n",
       "       96., 97., 98., nan])"
      ]
     },
     "execution_count": 21,
     "metadata": {},
     "output_type": "execute_result"
    }
   ],
   "source": [
    "data['critic_score'].sort_values().unique() #выгружаем все уникальные значения рейтинга 'critic_score'"
   ]
  },
  {
   "cell_type": "markdown",
   "id": "7479cb6a",
   "metadata": {},
   "source": [
    "Считаем суммарные продажи во всех регионах и записываем их в отдельный столбец."
   ]
  },
  {
   "cell_type": "code",
   "execution_count": 22,
   "id": "1c6ed1e2",
   "metadata": {},
   "outputs": [],
   "source": [
    "data['total_sales'] = data[['na_sales','eu_sales','jp_sales', 'other_sales']].sum(axis = 1)"
   ]
  },
  {
   "cell_type": "code",
   "execution_count": 23,
   "id": "318436e7",
   "metadata": {},
   "outputs": [
    {
     "data": {
      "text/html": [
       "<div>\n",
       "<style scoped>\n",
       "    .dataframe tbody tr th:only-of-type {\n",
       "        vertical-align: middle;\n",
       "    }\n",
       "\n",
       "    .dataframe tbody tr th {\n",
       "        vertical-align: top;\n",
       "    }\n",
       "\n",
       "    .dataframe thead th {\n",
       "        text-align: right;\n",
       "    }\n",
       "</style>\n",
       "<table border=\"1\" class=\"dataframe\">\n",
       "  <thead>\n",
       "    <tr style=\"text-align: right;\">\n",
       "      <th></th>\n",
       "      <th>name</th>\n",
       "      <th>platform</th>\n",
       "      <th>year_of_release</th>\n",
       "      <th>genre</th>\n",
       "      <th>na_sales</th>\n",
       "      <th>eu_sales</th>\n",
       "      <th>jp_sales</th>\n",
       "      <th>other_sales</th>\n",
       "      <th>critic_score</th>\n",
       "      <th>user_score</th>\n",
       "      <th>rating</th>\n",
       "      <th>total_sales</th>\n",
       "    </tr>\n",
       "  </thead>\n",
       "  <tbody>\n",
       "    <tr>\n",
       "      <th>0</th>\n",
       "      <td>Wii Sports</td>\n",
       "      <td>Wii</td>\n",
       "      <td>2006.0</td>\n",
       "      <td>Sports</td>\n",
       "      <td>41.36</td>\n",
       "      <td>28.96</td>\n",
       "      <td>3.77</td>\n",
       "      <td>8.45</td>\n",
       "      <td>76.0</td>\n",
       "      <td>8.0</td>\n",
       "      <td>E</td>\n",
       "      <td>82.54</td>\n",
       "    </tr>\n",
       "    <tr>\n",
       "      <th>1</th>\n",
       "      <td>Super Mario Bros.</td>\n",
       "      <td>NES</td>\n",
       "      <td>1985.0</td>\n",
       "      <td>Platform</td>\n",
       "      <td>29.08</td>\n",
       "      <td>3.58</td>\n",
       "      <td>6.81</td>\n",
       "      <td>0.77</td>\n",
       "      <td>NaN</td>\n",
       "      <td>NaN</td>\n",
       "      <td>нет данных</td>\n",
       "      <td>40.24</td>\n",
       "    </tr>\n",
       "    <tr>\n",
       "      <th>2</th>\n",
       "      <td>Mario Kart Wii</td>\n",
       "      <td>Wii</td>\n",
       "      <td>2008.0</td>\n",
       "      <td>Racing</td>\n",
       "      <td>15.68</td>\n",
       "      <td>12.76</td>\n",
       "      <td>3.79</td>\n",
       "      <td>3.29</td>\n",
       "      <td>82.0</td>\n",
       "      <td>8.3</td>\n",
       "      <td>E</td>\n",
       "      <td>35.52</td>\n",
       "    </tr>\n",
       "    <tr>\n",
       "      <th>3</th>\n",
       "      <td>Wii Sports Resort</td>\n",
       "      <td>Wii</td>\n",
       "      <td>2009.0</td>\n",
       "      <td>Sports</td>\n",
       "      <td>15.61</td>\n",
       "      <td>10.93</td>\n",
       "      <td>3.28</td>\n",
       "      <td>2.95</td>\n",
       "      <td>80.0</td>\n",
       "      <td>8.0</td>\n",
       "      <td>E</td>\n",
       "      <td>32.77</td>\n",
       "    </tr>\n",
       "    <tr>\n",
       "      <th>4</th>\n",
       "      <td>Pokemon Red/Pokemon Blue</td>\n",
       "      <td>GB</td>\n",
       "      <td>1996.0</td>\n",
       "      <td>Role-Playing</td>\n",
       "      <td>11.27</td>\n",
       "      <td>8.89</td>\n",
       "      <td>10.22</td>\n",
       "      <td>1.00</td>\n",
       "      <td>NaN</td>\n",
       "      <td>NaN</td>\n",
       "      <td>нет данных</td>\n",
       "      <td>31.38</td>\n",
       "    </tr>\n",
       "    <tr>\n",
       "      <th>5</th>\n",
       "      <td>Tetris</td>\n",
       "      <td>GB</td>\n",
       "      <td>1989.0</td>\n",
       "      <td>Puzzle</td>\n",
       "      <td>23.20</td>\n",
       "      <td>2.26</td>\n",
       "      <td>4.22</td>\n",
       "      <td>0.58</td>\n",
       "      <td>NaN</td>\n",
       "      <td>NaN</td>\n",
       "      <td>нет данных</td>\n",
       "      <td>30.26</td>\n",
       "    </tr>\n",
       "    <tr>\n",
       "      <th>6</th>\n",
       "      <td>New Super Mario Bros.</td>\n",
       "      <td>DS</td>\n",
       "      <td>2006.0</td>\n",
       "      <td>Platform</td>\n",
       "      <td>11.28</td>\n",
       "      <td>9.14</td>\n",
       "      <td>6.50</td>\n",
       "      <td>2.88</td>\n",
       "      <td>89.0</td>\n",
       "      <td>8.5</td>\n",
       "      <td>E</td>\n",
       "      <td>29.80</td>\n",
       "    </tr>\n",
       "    <tr>\n",
       "      <th>7</th>\n",
       "      <td>Wii Play</td>\n",
       "      <td>Wii</td>\n",
       "      <td>2006.0</td>\n",
       "      <td>Misc</td>\n",
       "      <td>13.96</td>\n",
       "      <td>9.18</td>\n",
       "      <td>2.93</td>\n",
       "      <td>2.84</td>\n",
       "      <td>58.0</td>\n",
       "      <td>6.6</td>\n",
       "      <td>E</td>\n",
       "      <td>28.91</td>\n",
       "    </tr>\n",
       "    <tr>\n",
       "      <th>8</th>\n",
       "      <td>New Super Mario Bros. Wii</td>\n",
       "      <td>Wii</td>\n",
       "      <td>2009.0</td>\n",
       "      <td>Platform</td>\n",
       "      <td>14.44</td>\n",
       "      <td>6.94</td>\n",
       "      <td>4.70</td>\n",
       "      <td>2.24</td>\n",
       "      <td>87.0</td>\n",
       "      <td>8.4</td>\n",
       "      <td>E</td>\n",
       "      <td>28.32</td>\n",
       "    </tr>\n",
       "    <tr>\n",
       "      <th>9</th>\n",
       "      <td>Duck Hunt</td>\n",
       "      <td>NES</td>\n",
       "      <td>1984.0</td>\n",
       "      <td>Shooter</td>\n",
       "      <td>26.93</td>\n",
       "      <td>0.63</td>\n",
       "      <td>0.28</td>\n",
       "      <td>0.47</td>\n",
       "      <td>NaN</td>\n",
       "      <td>NaN</td>\n",
       "      <td>нет данных</td>\n",
       "      <td>28.31</td>\n",
       "    </tr>\n",
       "  </tbody>\n",
       "</table>\n",
       "</div>"
      ],
      "text/plain": [
       "                        name platform  year_of_release         genre  \\\n",
       "0                 Wii Sports      Wii           2006.0        Sports   \n",
       "1          Super Mario Bros.      NES           1985.0      Platform   \n",
       "2             Mario Kart Wii      Wii           2008.0        Racing   \n",
       "3          Wii Sports Resort      Wii           2009.0        Sports   \n",
       "4   Pokemon Red/Pokemon Blue       GB           1996.0  Role-Playing   \n",
       "5                     Tetris       GB           1989.0        Puzzle   \n",
       "6      New Super Mario Bros.       DS           2006.0      Platform   \n",
       "7                   Wii Play      Wii           2006.0          Misc   \n",
       "8  New Super Mario Bros. Wii      Wii           2009.0      Platform   \n",
       "9                  Duck Hunt      NES           1984.0       Shooter   \n",
       "\n",
       "   na_sales  eu_sales  jp_sales  other_sales  critic_score  user_score  \\\n",
       "0     41.36     28.96      3.77         8.45          76.0         8.0   \n",
       "1     29.08      3.58      6.81         0.77           NaN         NaN   \n",
       "2     15.68     12.76      3.79         3.29          82.0         8.3   \n",
       "3     15.61     10.93      3.28         2.95          80.0         8.0   \n",
       "4     11.27      8.89     10.22         1.00           NaN         NaN   \n",
       "5     23.20      2.26      4.22         0.58           NaN         NaN   \n",
       "6     11.28      9.14      6.50         2.88          89.0         8.5   \n",
       "7     13.96      9.18      2.93         2.84          58.0         6.6   \n",
       "8     14.44      6.94      4.70         2.24          87.0         8.4   \n",
       "9     26.93      0.63      0.28         0.47           NaN         NaN   \n",
       "\n",
       "       rating  total_sales  \n",
       "0           E        82.54  \n",
       "1  нет данных        40.24  \n",
       "2           E        35.52  \n",
       "3           E        32.77  \n",
       "4  нет данных        31.38  \n",
       "5  нет данных        30.26  \n",
       "6           E        29.80  \n",
       "7           E        28.91  \n",
       "8           E        28.32  \n",
       "9  нет данных        28.31  "
      ]
     },
     "execution_count": 23,
     "metadata": {},
     "output_type": "execute_result"
    }
   ],
   "source": [
    "data.head(10)"
   ]
  },
  {
   "cell_type": "code",
   "execution_count": 24,
   "id": "9cac63a7",
   "metadata": {},
   "outputs": [
    {
     "data": {
      "text/plain": [
       "count    16444.000000\n",
       "mean         0.536023\n",
       "std          1.558786\n",
       "min          0.000000\n",
       "25%          0.060000\n",
       "50%          0.170000\n",
       "75%          0.470000\n",
       "max         82.540000\n",
       "Name: total_sales, dtype: float64"
      ]
     },
     "execution_count": 24,
     "metadata": {},
     "output_type": "execute_result"
    }
   ],
   "source": [
    "data['total_sales'].describe()"
   ]
  },
  {
   "cell_type": "markdown",
   "id": "c1895acd",
   "metadata": {},
   "source": [
    "Пропуски в столбцах \"critic_score\" и \"user_score\" - критики и пользователи могли не ценивать данные продукты, либо в данной выгрузке нет этих данных. Поскольку пропусков давольно много (1/3 датафрейма), то пропуски оставляем."
   ]
  },
  {
   "cell_type": "markdown",
   "id": "69d8d65f",
   "metadata": {},
   "source": [
    "## Исследовательский анализ"
   ]
  },
  {
   "cell_type": "code",
   "execution_count": 25,
   "id": "178c57a5",
   "metadata": {},
   "outputs": [
    {
     "data": {
      "image/png": "[encoded data removed]",
      "text/plain": [
       "<Figure size 432x288 with 1 Axes>"
      ]
     },
     "metadata": {
      "needs_background": "light"
     },
     "output_type": "display_data"
    },
    {
     "data": {
      "text/plain": [
       "count    16444.00\n",
       "mean      2006.49\n",
       "std          5.88\n",
       "min       1980.00\n",
       "25%       2003.00\n",
       "50%       2007.00\n",
       "75%       2010.00\n",
       "max       2016.00\n",
       "Name: year_of_release, dtype: float64"
      ]
     },
     "execution_count": 25,
     "metadata": {},
     "output_type": "execute_result"
    }
   ],
   "source": [
    "plt.hist(data['year_of_release'], bins=100, range=(1980,2016))\n",
    "plt.title('Количество выпущенных игр по годам')\n",
    "plt.xlabel('года')\n",
    "plt.ylabel('Количество продаж')\n",
    "plt.show()\n",
    "data['year_of_release'].describe().round(2)"
   ]
  },
  {
   "cell_type": "markdown",
   "id": "04a11e13",
   "metadata": {},
   "source": [
    "На графике мы можем наблюдать практически плавный рост релизов видео-игр с небольшими выбросами в 2002, 2003 гг. и резкое падение в 2011 году после пика в 2008, 2009 гг. "
   ]
  },
  {
   "cell_type": "code",
   "execution_count": 26,
   "id": "806b61cc",
   "metadata": {},
   "outputs": [
    {
     "data": {
      "image/png": "[encoded data removed]",
      "text/plain": [
       "<Figure size 720x720 with 1 Axes>"
      ]
     },
     "metadata": {
      "needs_background": "light"
     },
     "output_type": "display_data"
    }
   ],
   "source": [
    "(\n",
    "    data.groupby('platform').agg({'total_sales': 'sum'})\n",
    "    .sort_values('total_sales', ascending=False)\n",
    "    .plot(grid=True, kind='bar', figsize=(10, 10))\n",
    ")\n",
    "plt.title('Количество выпущенных игр на платформах')\n",
    "plt.xlabel('Наименование платформ')\n",
    "plt.ylabel('Количество продаж')\n",
    "plt.show()\n"
   ]
  },
  {
   "cell_type": "markdown",
   "id": "30c50652",
   "metadata": {},
   "source": [
    "Можно выделить шесть платформ по продажам игр, сумарные продажи на которых идут с большим отрывом от других платформ. Это PS2, X360, PS3, Wii, DS, PS. Как видно на консолях PlayStation выпускалось больше популярных игр, т.к. целых три консоли данной марки попали в нашу топ-выборку."
   ]
  },
  {
   "cell_type": "code",
   "execution_count": 27,
   "id": "57bb8d22",
   "metadata": {},
   "outputs": [
    {
     "data": {
      "image/png": "[encoded data removed]",
      "text/plain": [
       "<Figure size 720x360 with 1 Axes>"
      ]
     },
     "metadata": {
      "needs_background": "light"
     },
     "output_type": "display_data"
    }
   ],
   "source": [
    "\n",
    "(\n",
    "    data.query(\"platform == ['PS2', 'X360', 'PS3', 'Wii', 'DS', 'PS']\")\n",
    "    .pivot_table(index='year_of_release', columns='platform', values='total_sales', aggfunc='sum')\n",
    "    .plot(grid=True, style='o-', figsize=(10, 5), label = data['platform'])\n",
    ")\n",
    "plt.xlim(1993, 2017)\n",
    "plt.title('Количество выпущенных игр на платформах по годам')\n",
    "plt.legend()\n",
    "plt.xlabel('Годы')\n",
    "plt.ylabel('Количество продаж')\n",
    "plt.show()\n"
   ]
  },
  {
   "cell_type": "code",
   "execution_count": 28,
   "id": "8870d5d9",
   "metadata": {},
   "outputs": [],
   "source": [
    "new_data = data.query(\"year_of_release >= 2011\")"
   ]
  },
  {
   "cell_type": "code",
   "execution_count": 29,
   "id": "b93ce7f9",
   "metadata": {},
   "outputs": [
    {
     "data": {
      "image/png": "[encoded data removed]",
      "text/plain": [
       "<Figure size 720x720 with 1 Axes>"
      ]
     },
     "metadata": {
      "needs_background": "light"
     },
     "output_type": "display_data"
    }
   ],
   "source": [
    "(\n",
    "    new_data.pivot_table(index='year_of_release', columns='platform', values='total_sales', aggfunc='sum')\n",
    "    .plot(grid=True, style='o-', figsize=(10, 10), label = data['platform'])\n",
    ")\n",
    "plt.title('Количество выпущенных игр на платформах 2011-2016гг')\n",
    "plt.legend()\n",
    "plt.xlabel('Годы')\n",
    "plt.ylabel('Количество продаж')\n",
    "plt.show()\n"
   ]
  },
  {
   "cell_type": "markdown",
   "id": "13bcd523",
   "metadata": {},
   "source": [
    "В разрезе 2011-2016 прослеживается появление новых платформ в 2013 году.\n",
    "Также обращаем внимание, что релизы игр на консолях PS4, XOne, 3DS, PC, WiiU находятся на спаде, но еще достаточно активно выпускаются на рынке. У платформ PS4, XOne наблюдается пик выпуска новых игр в 2015 году, на основании ранее полученной информации о сроках актуальности платформ, позволяет нам сделать вывод, что данные консоли будут популярны ориентировочно до 2020 года.\n",
    "Индустрия игр - диномично развивающаяся сфера бизнеса. Далее для анализа данных будем брать в расчет игры выпущенные в период 2014-2016 гг."
   ]
  },
  {
   "cell_type": "code",
   "execution_count": 30,
   "id": "798e4a30",
   "metadata": {},
   "outputs": [
    {
     "data": {
      "text/html": [
       "<div>\n",
       "<style scoped>\n",
       "    .dataframe tbody tr th:only-of-type {\n",
       "        vertical-align: middle;\n",
       "    }\n",
       "\n",
       "    .dataframe tbody tr th {\n",
       "        vertical-align: top;\n",
       "    }\n",
       "\n",
       "    .dataframe thead th {\n",
       "        text-align: right;\n",
       "    }\n",
       "</style>\n",
       "<table border=\"1\" class=\"dataframe\">\n",
       "  <thead>\n",
       "    <tr style=\"text-align: right;\">\n",
       "      <th></th>\n",
       "      <th>name</th>\n",
       "      <th>platform</th>\n",
       "      <th>year_of_release</th>\n",
       "      <th>genre</th>\n",
       "      <th>na_sales</th>\n",
       "      <th>eu_sales</th>\n",
       "      <th>jp_sales</th>\n",
       "      <th>other_sales</th>\n",
       "      <th>critic_score</th>\n",
       "      <th>user_score</th>\n",
       "      <th>rating</th>\n",
       "      <th>total_sales</th>\n",
       "    </tr>\n",
       "  </thead>\n",
       "  <tbody>\n",
       "    <tr>\n",
       "      <th>0</th>\n",
       "      <td>Call of Duty: Black Ops 3</td>\n",
       "      <td>PS4</td>\n",
       "      <td>2015.0</td>\n",
       "      <td>Shooter</td>\n",
       "      <td>6.03</td>\n",
       "      <td>5.86</td>\n",
       "      <td>0.36</td>\n",
       "      <td>2.38</td>\n",
       "      <td>NaN</td>\n",
       "      <td>NaN</td>\n",
       "      <td>нет данных</td>\n",
       "      <td>14.63</td>\n",
       "    </tr>\n",
       "    <tr>\n",
       "      <th>1</th>\n",
       "      <td>Grand Theft Auto V</td>\n",
       "      <td>PS4</td>\n",
       "      <td>2014.0</td>\n",
       "      <td>Action</td>\n",
       "      <td>3.96</td>\n",
       "      <td>6.31</td>\n",
       "      <td>0.38</td>\n",
       "      <td>1.97</td>\n",
       "      <td>97.0</td>\n",
       "      <td>8.3</td>\n",
       "      <td>M</td>\n",
       "      <td>12.62</td>\n",
       "    </tr>\n",
       "    <tr>\n",
       "      <th>2</th>\n",
       "      <td>Pokemon Omega Ruby/Pokemon Alpha Sapphire</td>\n",
       "      <td>3DS</td>\n",
       "      <td>2014.0</td>\n",
       "      <td>Role-Playing</td>\n",
       "      <td>4.35</td>\n",
       "      <td>3.49</td>\n",
       "      <td>3.10</td>\n",
       "      <td>0.74</td>\n",
       "      <td>NaN</td>\n",
       "      <td>NaN</td>\n",
       "      <td>нет данных</td>\n",
       "      <td>11.68</td>\n",
       "    </tr>\n",
       "    <tr>\n",
       "      <th>3</th>\n",
       "      <td>FIFA 16</td>\n",
       "      <td>PS4</td>\n",
       "      <td>2015.0</td>\n",
       "      <td>Sports</td>\n",
       "      <td>1.12</td>\n",
       "      <td>6.12</td>\n",
       "      <td>0.06</td>\n",
       "      <td>1.28</td>\n",
       "      <td>82.0</td>\n",
       "      <td>4.3</td>\n",
       "      <td>E</td>\n",
       "      <td>8.58</td>\n",
       "    </tr>\n",
       "    <tr>\n",
       "      <th>4</th>\n",
       "      <td>Star Wars Battlefront (2015)</td>\n",
       "      <td>PS4</td>\n",
       "      <td>2015.0</td>\n",
       "      <td>Shooter</td>\n",
       "      <td>2.99</td>\n",
       "      <td>3.49</td>\n",
       "      <td>0.22</td>\n",
       "      <td>1.28</td>\n",
       "      <td>NaN</td>\n",
       "      <td>NaN</td>\n",
       "      <td>нет данных</td>\n",
       "      <td>7.98</td>\n",
       "    </tr>\n",
       "    <tr>\n",
       "      <th>...</th>\n",
       "      <td>...</td>\n",
       "      <td>...</td>\n",
       "      <td>...</td>\n",
       "      <td>...</td>\n",
       "      <td>...</td>\n",
       "      <td>...</td>\n",
       "      <td>...</td>\n",
       "      <td>...</td>\n",
       "      <td>...</td>\n",
       "      <td>...</td>\n",
       "      <td>...</td>\n",
       "      <td>...</td>\n",
       "    </tr>\n",
       "    <tr>\n",
       "      <th>1684</th>\n",
       "      <td>Strawberry Nauts</td>\n",
       "      <td>PSV</td>\n",
       "      <td>2016.0</td>\n",
       "      <td>Adventure</td>\n",
       "      <td>0.00</td>\n",
       "      <td>0.00</td>\n",
       "      <td>0.01</td>\n",
       "      <td>0.00</td>\n",
       "      <td>NaN</td>\n",
       "      <td>NaN</td>\n",
       "      <td>нет данных</td>\n",
       "      <td>0.01</td>\n",
       "    </tr>\n",
       "    <tr>\n",
       "      <th>1685</th>\n",
       "      <td>Aiyoku no Eustia</td>\n",
       "      <td>PSV</td>\n",
       "      <td>2014.0</td>\n",
       "      <td>Misc</td>\n",
       "      <td>0.00</td>\n",
       "      <td>0.00</td>\n",
       "      <td>0.01</td>\n",
       "      <td>0.00</td>\n",
       "      <td>NaN</td>\n",
       "      <td>NaN</td>\n",
       "      <td>нет данных</td>\n",
       "      <td>0.01</td>\n",
       "    </tr>\n",
       "    <tr>\n",
       "      <th>1686</th>\n",
       "      <td>Samurai Warriors: Sanada Maru</td>\n",
       "      <td>PS3</td>\n",
       "      <td>2016.0</td>\n",
       "      <td>Action</td>\n",
       "      <td>0.00</td>\n",
       "      <td>0.00</td>\n",
       "      <td>0.01</td>\n",
       "      <td>0.00</td>\n",
       "      <td>NaN</td>\n",
       "      <td>NaN</td>\n",
       "      <td>нет данных</td>\n",
       "      <td>0.01</td>\n",
       "    </tr>\n",
       "    <tr>\n",
       "      <th>1687</th>\n",
       "      <td>Haitaka no Psychedelica</td>\n",
       "      <td>PSV</td>\n",
       "      <td>2016.0</td>\n",
       "      <td>Adventure</td>\n",
       "      <td>0.00</td>\n",
       "      <td>0.00</td>\n",
       "      <td>0.01</td>\n",
       "      <td>0.00</td>\n",
       "      <td>NaN</td>\n",
       "      <td>NaN</td>\n",
       "      <td>нет данных</td>\n",
       "      <td>0.01</td>\n",
       "    </tr>\n",
       "    <tr>\n",
       "      <th>1688</th>\n",
       "      <td>Winning Post 8 2016</td>\n",
       "      <td>PSV</td>\n",
       "      <td>2016.0</td>\n",
       "      <td>Simulation</td>\n",
       "      <td>0.00</td>\n",
       "      <td>0.00</td>\n",
       "      <td>0.01</td>\n",
       "      <td>0.00</td>\n",
       "      <td>NaN</td>\n",
       "      <td>NaN</td>\n",
       "      <td>нет данных</td>\n",
       "      <td>0.01</td>\n",
       "    </tr>\n",
       "  </tbody>\n",
       "</table>\n",
       "<p>1689 rows × 12 columns</p>\n",
       "</div>"
      ],
      "text/plain": [
       "                                           name platform  year_of_release  \\\n",
       "0                     Call of Duty: Black Ops 3      PS4           2015.0   \n",
       "1                            Grand Theft Auto V      PS4           2014.0   \n",
       "2     Pokemon Omega Ruby/Pokemon Alpha Sapphire      3DS           2014.0   \n",
       "3                                       FIFA 16      PS4           2015.0   \n",
       "4                  Star Wars Battlefront (2015)      PS4           2015.0   \n",
       "...                                         ...      ...              ...   \n",
       "1684                           Strawberry Nauts      PSV           2016.0   \n",
       "1685                           Aiyoku no Eustia      PSV           2014.0   \n",
       "1686              Samurai Warriors: Sanada Maru      PS3           2016.0   \n",
       "1687                    Haitaka no Psychedelica      PSV           2016.0   \n",
       "1688                        Winning Post 8 2016      PSV           2016.0   \n",
       "\n",
       "             genre  na_sales  eu_sales  jp_sales  other_sales  critic_score  \\\n",
       "0          Shooter      6.03      5.86      0.36         2.38           NaN   \n",
       "1           Action      3.96      6.31      0.38         1.97          97.0   \n",
       "2     Role-Playing      4.35      3.49      3.10         0.74           NaN   \n",
       "3           Sports      1.12      6.12      0.06         1.28          82.0   \n",
       "4          Shooter      2.99      3.49      0.22         1.28           NaN   \n",
       "...            ...       ...       ...       ...          ...           ...   \n",
       "1684     Adventure      0.00      0.00      0.01         0.00           NaN   \n",
       "1685          Misc      0.00      0.00      0.01         0.00           NaN   \n",
       "1686        Action      0.00      0.00      0.01         0.00           NaN   \n",
       "1687     Adventure      0.00      0.00      0.01         0.00           NaN   \n",
       "1688    Simulation      0.00      0.00      0.01         0.00           NaN   \n",
       "\n",
       "      user_score      rating  total_sales  \n",
       "0            NaN  нет данных        14.63  \n",
       "1            8.3           M        12.62  \n",
       "2            NaN  нет данных        11.68  \n",
       "3            4.3           E         8.58  \n",
       "4            NaN  нет данных         7.98  \n",
       "...          ...         ...          ...  \n",
       "1684         NaN  нет данных         0.01  \n",
       "1685         NaN  нет данных         0.01  \n",
       "1686         NaN  нет данных         0.01  \n",
       "1687         NaN  нет данных         0.01  \n",
       "1688         NaN  нет данных         0.01  \n",
       "\n",
       "[1689 rows x 12 columns]"
      ]
     },
     "execution_count": 30,
     "metadata": {},
     "output_type": "execute_result"
    }
   ],
   "source": [
    "new_data = data.query(\"year_of_release >= 2014\")\n",
    "new_data.reset_index(drop=True)"
   ]
  },
  {
   "cell_type": "code",
   "execution_count": 31,
   "id": "de3c0d19",
   "metadata": {},
   "outputs": [
    {
     "data": {
      "image/png": "[encoded data removed]",
      "text/plain": [
       "<Figure size 720x720 with 1 Axes>"
      ]
     },
     "metadata": {
      "needs_background": "light"
     },
     "output_type": "display_data"
    }
   ],
   "source": [
    "(\n",
    "    new_data.groupby('platform').agg({'total_sales': 'sum'})\n",
    "    .sort_values('total_sales', ascending=False)\n",
    "    .plot(grid=True, kind='bar', figsize=(10, 10))\n",
    ")\n",
    "plt.title('Количество выпущенных игр на платформах 2014-2016гг')\n",
    "plt.xlabel('Наименование платформ')\n",
    "plt.ylabel('Количество продаж')\n",
    "plt.show()\n"
   ]
  },
  {
   "cell_type": "markdown",
   "id": "6cdc01d1",
   "metadata": {},
   "source": [
    "Выберем и проанализируем топ-5 платформ по продажам 2013-2016гг. "
   ]
  },
  {
   "cell_type": "code",
   "execution_count": 32,
   "id": "2be9e749",
   "metadata": {},
   "outputs": [],
   "source": [
    "data_top_platform = new_data.query(\"platform == ['PS3', 'X360', 'PS4', 'XOne', '3DS']\")"
   ]
  },
  {
   "cell_type": "code",
   "execution_count": 33,
   "id": "19f3db0c",
   "metadata": {},
   "outputs": [
    {
     "data": {
      "image/png": "[encoded data removed]",
      "text/plain": [
       "<Figure size 540x1080 with 1 Axes>"
      ]
     },
     "metadata": {
      "needs_background": "light"
     },
     "output_type": "display_data"
    }
   ],
   "source": [
    "sns.catplot(x='platform',\n",
    "            y='total_sales',\n",
    "            height = 15,\n",
    "            aspect=0.5,\n",
    "            kind='box',\n",
    "            data=data_top_platform)\n",
    "plt.ylim(0, 1.6)\n",
    "plt.show()"
   ]
  },
  {
   "cell_type": "code",
   "execution_count": 34,
   "id": "b68ee5d6",
   "metadata": {},
   "outputs": [
    {
     "data": {
      "text/plain": [
       "count    1146.000000\n",
       "mean        0.551126\n",
       "std         1.215718\n",
       "min         0.010000\n",
       "25%         0.050000\n",
       "50%         0.140000\n",
       "75%         0.480000\n",
       "max        14.630000\n",
       "Name: total_sales, dtype: float64"
      ]
     },
     "execution_count": 34,
     "metadata": {},
     "output_type": "execute_result"
    }
   ],
   "source": [
    "data_top_platform['total_sales'].describe()"
   ]
  },
  {
   "cell_type": "markdown",
   "id": "681fc08d",
   "metadata": {},
   "source": [
    "Как видно из графика boxplot есть игры, на выпуске которых разработчики зарабатывают очень мало, так и игры продажы которых приносят огромную прибыль компаниям. Лидерами рынка по максимальным продажам игр стали платформа ХOne и PS4.Большая часть диапазона продаж лежит в среднем по 5 топ-платформам от 0,01 до 0,6. При этом сильно выделяется консоль Nintendo 3DS, на которой меньше всего удалось заработать на играх, возможно это связано с тем, что N3DS является карманной консолью и игры для неё стоят дешевле."
   ]
  },
  {
   "cell_type": "markdown",
   "id": "011ca3b6",
   "metadata": {},
   "source": [
    "Рассмотрим, как влияют на продажи внутри двух популярных платформ ХOne и PS4 отзывы пользователей и критиков."
   ]
  },
  {
   "cell_type": "code",
   "execution_count": 35,
   "id": "689aa509",
   "metadata": {},
   "outputs": [
    {
     "data": {
      "image/png": "[encoded data removed]",
      "text/plain": [
       "<Figure size 720x360 with 1 Axes>"
      ]
     },
     "metadata": {
      "needs_background": "light"
     },
     "output_type": "display_data"
    },
    {
     "name": "stdout",
     "output_type": "stream",
     "text": [
      "Коэффициент корреляции: 0.4\n"
     ]
    }
   ],
   "source": [
    "data_ps4 = data_top_platform.query(\"platform == 'PS4'\")\n",
    "\n",
    "data_ps4.plot(x='critic_score', y='total_sales', kind='scatter', xlim=(0,90), grid=True, figsize=(10,5))\n",
    "plt.title('Зависимость продаж PS4 от оценки критиков')\n",
    "plt.xlabel('Оценка критиков')\n",
    "plt.ylabel('Суммарные продажи')\n",
    "plt.show()\n",
    "print('Коэффициент корреляции:', data_ps4['critic_score'].corr(data_ps4['total_sales']).round(2))"
   ]
  },
  {
   "cell_type": "code",
   "execution_count": 36,
   "id": "cc71c2b8",
   "metadata": {},
   "outputs": [
    {
     "data": {
      "image/png": "[encoded data removed]",
      "text/plain": [
       "<Figure size 720x360 with 1 Axes>"
      ]
     },
     "metadata": {
      "needs_background": "light"
     },
     "output_type": "display_data"
    },
    {
     "name": "stdout",
     "output_type": "stream",
     "text": [
      "Коэффициент корреляции: -0.04\n"
     ]
    }
   ],
   "source": [
    "data_ps4.plot(x='user_score', y='total_sales', kind='scatter', xlim=(0,10), grid=True, figsize=(10,5))\n",
    "plt.title('Зависимость продаж PS4 от оценки пользователей')\n",
    "plt.xlabel('Оценка пользователей')\n",
    "plt.ylabel('Суммарные продажи')\n",
    "plt.show()\n",
    "print('Коэффициент корреляции:', data_ps4['user_score'].corr(data_ps4['total_sales']).round(2))"
   ]
  },
  {
   "cell_type": "code",
   "execution_count": 37,
   "id": "dbaaafad",
   "metadata": {},
   "outputs": [
    {
     "data": {
      "image/png": "[encoded data removed]",
      "text/plain": [
       "<Figure size 720x360 with 1 Axes>"
      ]
     },
     "metadata": {
      "needs_background": "light"
     },
     "output_type": "display_data"
    },
    {
     "name": "stdout",
     "output_type": "stream",
     "text": [
      "Коэффициент корреляции: 0.43\n"
     ]
    }
   ],
   "source": [
    "data_xone = data_top_platform.query(\"platform == 'XOne'\")\n",
    "\n",
    "data_xone.plot(x='critic_score', y='total_sales', kind='scatter', xlim=(0,90), grid=True, figsize=(10,5))\n",
    "plt.title('Зависимость продаж XOne от оценки критиков')\n",
    "plt.xlabel('Оценка критиков')\n",
    "plt.ylabel('Суммарные продажи')\n",
    "plt.show()\n",
    "print('Коэффициент корреляции:', data_xone['critic_score'].corr(data_xone['total_sales']).round(2))"
   ]
  },
  {
   "cell_type": "code",
   "execution_count": 38,
   "id": "54e7e248",
   "metadata": {},
   "outputs": [
    {
     "data": {
      "image/png": "[encoded data removed]",
      "text/plain": [
       "<Figure size 720x360 with 1 Axes>"
      ]
     },
     "metadata": {
      "needs_background": "light"
     },
     "output_type": "display_data"
    },
    {
     "name": "stdout",
     "output_type": "stream",
     "text": [
      "Коэффициент корреляции: -0.07\n"
     ]
    }
   ],
   "source": [
    "data_xone.plot(x='user_score', y='total_sales', kind='scatter', xlim=(0,10), grid=True, figsize=(10,5))\n",
    "plt.title('Зависимость продаж XOne от оценки пользователей')\n",
    "plt.xlabel('Оценка пользователей')\n",
    "plt.ylabel('Суммарные продажи')\n",
    "plt.show()\n",
    "print('Коэффициент корреляции:', data_xone['user_score'].corr(data_xone['total_sales']).round(2))"
   ]
  },
  {
   "cell_type": "code",
   "execution_count": 39,
   "id": "a5ea8496",
   "metadata": {},
   "outputs": [
    {
     "data": {
      "image/png": "[encoded data removed]",
      "text/plain": [
       "<Figure size 720x360 with 1 Axes>"
      ]
     },
     "metadata": {
      "needs_background": "light"
     },
     "output_type": "display_data"
    },
    {
     "name": "stdout",
     "output_type": "stream",
     "text": [
      "Коэффициент корреляции: 0.33\n"
     ]
    }
   ],
   "source": [
    "new_data.plot(x='critic_score', y='total_sales', kind='scatter', xlim=(0,90), grid=True, figsize=(10,5))\n",
    "plt.title('Зависимость продаж на всех платформах от оценки критиков')\n",
    "plt.xlabel('Оценка критиков')\n",
    "plt.ylabel('Суммарные продажи')\n",
    "plt.show()\n",
    "print('Коэффициент корреляции:', new_data['critic_score'].corr(new_data['total_sales']).round(2))"
   ]
  },
  {
   "cell_type": "code",
   "execution_count": 40,
   "id": "85bfdaa0",
   "metadata": {},
   "outputs": [
    {
     "data": {
      "image/png": "[encoded data removed]",
      "text/plain": [
       "<Figure size 720x360 with 1 Axes>"
      ]
     },
     "metadata": {
      "needs_background": "light"
     },
     "output_type": "display_data"
    },
    {
     "name": "stdout",
     "output_type": "stream",
     "text": [
      "Коэффициент корреляции: -0.01\n"
     ]
    }
   ],
   "source": [
    "new_data.plot(x='user_score', y='total_sales', kind='scatter', xlim=(0,10), grid=True, figsize=(10,5))\n",
    "plt.title('Зависимость продаж на всех платформах от оценки пользователей')\n",
    "plt.xlabel('Оценка пользователей')\n",
    "plt.ylabel('Суммарные продажи')\n",
    "plt.show()\n",
    "print('Коэффициент корреляции:', new_data['user_score'].corr(new_data['total_sales']).round(2))"
   ]
  },
  {
   "cell_type": "markdown",
   "id": "6ef38998",
   "metadata": {},
   "source": [
    "Заметна не сильная корреляция между продажами и оценкой критиков. При это оценка игры пользователей почти не влияет на продажи. Как правило при старте релиза игры отдаются профессиональным игрокам (китикам) на тесты. Можно сделать вывод о том, что игры с более сильными рекламными компаниями покупаются охотнее игр без них."
   ]
  },
  {
   "cell_type": "code",
   "execution_count": 41,
   "id": "0aa3788a",
   "metadata": {},
   "outputs": [
    {
     "data": {
      "image/png": "[encoded data removed]",
      "text/plain": [
       "<Figure size 720x720 with 1 Axes>"
      ]
     },
     "metadata": {
      "needs_background": "light"
     },
     "output_type": "display_data"
    }
   ],
   "source": [
    "(\n",
    "    new_data.groupby('genre').agg({'total_sales': 'sum'})\n",
    "    .sort_values('total_sales', ascending=False)\n",
    "    .plot(grid=True, kind='bar', figsize=(10, 10))\n",
    ")\n",
    "plt.title('Суммарные продажи игр по жанрам')\n",
    "plt.xlabel('Наименование жанров')\n",
    "plt.ylabel('Количество продаж')\n",
    "plt.show()\n"
   ]
  },
  {
   "cell_type": "code",
   "execution_count": 42,
   "id": "3060d200",
   "metadata": {},
   "outputs": [
    {
     "data": {
      "image/png": "[encoded data removed]",
      "text/plain": [
       "<Figure size 720x720 with 1 Axes>"
      ]
     },
     "metadata": {
      "needs_background": "light"
     },
     "output_type": "display_data"
    }
   ],
   "source": [
    "(\n",
    "    new_data.groupby('genre').agg({'total_sales': 'median'})\n",
    "    .sort_values('total_sales', ascending=False)\n",
    "    .plot(grid=True, kind='bar', figsize=(10, 10))\n",
    ")\n",
    "plt.title('Продажы игр по жанрам (медиана)')\n",
    "plt.xlabel('Наименование жанров')\n",
    "plt.ylabel('Количество продаж')\n",
    "plt.show()\n"
   ]
  },
  {
   "cell_type": "markdown",
   "id": "68f9076c",
   "metadata": {},
   "source": [
    "Топ-5 жанра по продажам: Action, Shooter, Sports, Role-Playing, Misc. Самые низкие продажи у жанров Puzzle, Strategy, Simulation. Жанр Action в среднем в два раза популярнее других жанров. \n",
    "При этом следует отметить, что в среднем игры жанров Shooter, Sports и Platform стоят дороже. Причем в среднем стоимость игр жанра Shooter в 4 раа больше других.\n",
    "\n",
    "Такая разница может говорить, о том, что игры жанра Action продаются в количестве больше других, а соответсвенно более популярны."
   ]
  },
  {
   "cell_type": "markdown",
   "id": "1704e734",
   "metadata": {},
   "source": [
    "**Вывод:**\n",
    "\n",
    "Пик популярности игр пишелся на 2008-2009 гг. Затем идет резкое в 2011г. снижение популярности игр на платформах. Снижение количества релизов можно связать с  потерей актуальности такого формата игр и переход пользователей на мобильные платформы. \n",
    "\n",
    "Характерный средний срок актуальности платформы для игры - около 10 лет. После выхода новой платформы число выпускаемых видеоигр растет примерно в течение 5 лет, а затем плавно снижается.\n",
    "Прослеживается появление новых платформ в 2013 году. \n",
    "\n",
    "Релизы игр на консолях PS4, XOne, 3DS, PC, WiiU находятся на спаде, но еще достаточно активно выпускаются на рынке. У платформ PS4, XOne наблюдается пик выпуска новых игр в 2015 году, на основании ранее полученной информации о сроках актуальности платформ, позволяет нам сделать вывод, что данные консоли будут популярны ориентировочно до 2020 года.\n",
    "\n",
    "Есть игры, на выпуске которых разработчики зарабатывают очень мало, так и игры продажы которых приносят огромную прибыль компаниям.\n",
    "\n",
    "Заметна не сильная корреляция между продажами и оценкой критиков. При это оценка игры пользователей почти не влияет на продажи. Можно сделать вывод о том, что наиболее популярные платформы проводят более крупные рекламные компании и соответсвенно имеют больше успехов в продажах игр.\n",
    "\n",
    "За период 2014-2016 гг. самыми популярными жанрами по продажам стали: Action, Shooter, Sports. Самые низкие продажи у жанров Puzzle, Strategy, Simulation. Жанр Action в среднем в два раза популярнее других жанров. \n",
    "Самыми дорогими играми стали игры жанра Shooter, которые в 4 раза дороже других. Такая разница может говорить, о том, что игры жанра Action продаются в количестве больше других, а соответсвенно более популярны."
   ]
  },
  {
   "cell_type": "markdown",
   "id": "18300eff",
   "metadata": {},
   "source": [
    "## Портрет пользователя для каждого региона"
   ]
  },
  {
   "cell_type": "code",
   "execution_count": 43,
   "id": "fc6f7f25",
   "metadata": {},
   "outputs": [
    {
     "data": {
      "image/png": "[encoded data removed]",
      "text/plain": [
       "<Figure size 720x720 with 1 Axes>"
      ]
     },
     "metadata": {
      "needs_background": "light"
     },
     "output_type": "display_data"
    }
   ],
   "source": [
    "data_na = new_data.query('na_sales >0')\n",
    "(\n",
    "    data_na.groupby('platform').agg({'na_sales': 'sum'})\n",
    "    .sort_values('na_sales', ascending=False)\n",
    "    .plot(grid=True, kind='bar', figsize=(10, 10))\n",
    ")\n",
    "plt.title('Выпущенные игры для Северной Америки на платформах')\n",
    "plt.xlabel('Наименование платформы')\n",
    "plt.ylabel('Количество продаж')\n",
    "plt.show()"
   ]
  },
  {
   "cell_type": "code",
   "execution_count": 44,
   "id": "ae196a44",
   "metadata": {},
   "outputs": [
    {
     "data": {
      "image/png": "[encoded data removed]",
      "text/plain": [
       "<Figure size 720x720 with 1 Axes>"
      ]
     },
     "metadata": {
      "needs_background": "light"
     },
     "output_type": "display_data"
    }
   ],
   "source": [
    "\n",
    "(\n",
    "    data_na.groupby('genre').agg({'na_sales': 'sum'})\n",
    "    .sort_values('na_sales', ascending=False)\n",
    "    .plot(grid=True, kind='bar', figsize=(10, 10))\n",
    ")\n",
    "plt.title('Выпущенные игры для Северной Америки по жанрам')\n",
    "plt.xlabel('Наименование жанра')\n",
    "plt.ylabel('Количество продаж')\n",
    "plt.show()"
   ]
  },
  {
   "cell_type": "code",
   "execution_count": 45,
   "id": "9d13e379",
   "metadata": {},
   "outputs": [
    {
     "data": {
      "image/png": "[encoded data removed]",
      "text/plain": [
       "<Figure size 720x720 with 1 Axes>"
      ]
     },
     "metadata": {
      "needs_background": "light"
     },
     "output_type": "display_data"
    }
   ],
   "source": [
    "data_eu = new_data.query('eu_sales >0')\n",
    "(\n",
    "    data_eu.groupby('platform').agg({'eu_sales': 'sum'})\n",
    "    .sort_values('eu_sales', ascending=False)\n",
    "    .plot(grid=True, kind='bar', figsize=(10, 10))\n",
    ")\n",
    "plt.title('Выпущенные игры на территории Европы на платформах')\n",
    "plt.xlabel('Наименование платформы')\n",
    "plt.ylabel('Количество продаж')\n",
    "plt.show()"
   ]
  },
  {
   "cell_type": "code",
   "execution_count": 46,
   "id": "8f40b415",
   "metadata": {},
   "outputs": [
    {
     "data": {
      "image/png": "[encoded data removed]",
      "text/plain": [
       "<Figure size 720x720 with 1 Axes>"
      ]
     },
     "metadata": {
      "needs_background": "light"
     },
     "output_type": "display_data"
    }
   ],
   "source": [
    "\n",
    "(\n",
    "    data_eu.groupby('genre').agg({'eu_sales': 'sum'})\n",
    "    .sort_values('eu_sales', ascending=False)\n",
    "    .plot(grid=True, kind='bar', figsize=(10, 10))\n",
    ")\n",
    "plt.title('Выпущенные игры на территории Европы по жанрам')\n",
    "plt.xlabel('Наименование жанра')\n",
    "plt.ylabel('Количество продаж')\n",
    "plt.show()"
   ]
  },
  {
   "cell_type": "code",
   "execution_count": 47,
   "id": "bf18b18f",
   "metadata": {},
   "outputs": [
    {
     "data": {
      "image/png": "[encoded data removed]",
      "text/plain": [
       "<Figure size 720x720 with 1 Axes>"
      ]
     },
     "metadata": {
      "needs_background": "light"
     },
     "output_type": "display_data"
    }
   ],
   "source": [
    "data_jp = new_data.query('jp_sales >0')\n",
    "(\n",
    "    data_jp.groupby('platform').agg({'jp_sales': 'sum'})\n",
    "    .sort_values('jp_sales', ascending=False)\n",
    "    .plot(grid=True, kind='bar', figsize=(10, 10))\n",
    ")\n",
    "plt.title('Выпущенные игры для Японии на платформах')\n",
    "plt.xlabel('Наименование платформы')\n",
    "plt.ylabel('Количество продаж')\n",
    "plt.show()"
   ]
  },
  {
   "cell_type": "code",
   "execution_count": 48,
   "id": "7ac277b6",
   "metadata": {},
   "outputs": [
    {
     "data": {
      "image/png": "[encoded data removed]",
      "text/plain": [
       "<Figure size 720x720 with 1 Axes>"
      ]
     },
     "metadata": {
      "needs_background": "light"
     },
     "output_type": "display_data"
    }
   ],
   "source": [
    "(\n",
    "    data_jp.groupby('genre').agg({'jp_sales': 'sum'})\n",
    "    .sort_values('jp_sales', ascending=False)\n",
    "    .plot(grid=True, kind='bar', figsize=(10, 10))\n",
    ")\n",
    "plt.title('Выпущенные игры для Японии по жанрам')\n",
    "plt.xlabel('Наименование жанра')\n",
    "plt.ylabel('Количество продаж')\n",
    "plt.show()"
   ]
  },
  {
   "cell_type": "code",
   "execution_count": 49,
   "id": "c6f514d7",
   "metadata": {},
   "outputs": [
    {
     "data": {
      "image/png": "[encoded data removed]",
      "text/plain": [
       "<Figure size 720x720 with 1 Axes>"
      ]
     },
     "metadata": {
      "needs_background": "light"
     },
     "output_type": "display_data"
    }
   ],
   "source": [
    "(\n",
    "    data_na.groupby('rating').agg({'na_sales': 'sum'})\n",
    "    .sort_values('na_sales', ascending=False)\n",
    "    .plot(grid=True, kind='bar', figsize=(10, 10))\n",
    ")\n",
    "plt.title('Выпущенные игры для Северной Америки по рейтингу')\n",
    "plt.xlabel('Рейтинг')\n",
    "plt.ylabel('Количество продаж')\n",
    "plt.show()"
   ]
  },
  {
   "cell_type": "code",
   "execution_count": 50,
   "id": "7196d84e",
   "metadata": {},
   "outputs": [
    {
     "data": {
      "image/png": "[encoded data removed]",
      "text/plain": [
       "<Figure size 720x720 with 1 Axes>"
      ]
     },
     "metadata": {
      "needs_background": "light"
     },
     "output_type": "display_data"
    }
   ],
   "source": [
    "(\n",
    "    data_eu.groupby('rating').agg({'eu_sales': 'sum'})\n",
    "    .sort_values('eu_sales', ascending=False)\n",
    "    .plot(grid=True, kind='bar', figsize=(10, 10))\n",
    ")\n",
    "plt.title('Выпущенные игры на территории Европы по рейтингу')\n",
    "plt.xlabel('Рейтинг')\n",
    "plt.ylabel('Количество продаж')\n",
    "plt.show()"
   ]
  },
  {
   "cell_type": "code",
   "execution_count": 51,
   "id": "67bef860",
   "metadata": {},
   "outputs": [
    {
     "data": {
      "image/png": "[encoded data removed]",
      "text/plain": [
       "<Figure size 720x720 with 1 Axes>"
      ]
     },
     "metadata": {
      "needs_background": "light"
     },
     "output_type": "display_data"
    }
   ],
   "source": [
    "(\n",
    "    data_jp.groupby('rating').agg({'jp_sales': 'sum'})\n",
    "    .sort_values('jp_sales', ascending=False)\n",
    "    .plot(grid=True, kind='bar', figsize=(10, 10))\n",
    ")\n",
    "plt.title('Выпущенные игры для Японии по рейтингу')\n",
    "plt.xlabel('Рейтинг')\n",
    "plt.ylabel('Количество продаж')\n",
    "plt.show()"
   ]
  },
  {
   "cell_type": "markdown",
   "id": "358b1267",
   "metadata": {},
   "source": [
    "**Вывод:**\n",
    "\n",
    "В каждом из регионов предпочтительные платформы отличаются. Так для Северной Америки самые популярные платформы PS4, XOne, X360.  Для Европы: PS4, XOne, PS3, для Японии 3DS, PS3, PSV. Таким образом в Северной Америкие наибольшую популярность имеют консоли XBox, американского производителя Майкрософт, несмотря на то, что они занимают 2 и 3 место, суммарно по продажам они опережают японский PS4.  Европейские пользователи предпочитают японские PlayStation. В Японии - предпочтение отдают местным производителям Nintendo и PlayStation, при этом самую высокую популярность (1 место) имеют карманные консоли Nintendo.\n",
    "\n",
    "В Северной Америке наибольшую популярность имеют игры жанра Shooter, Action, Sports. В Европе: Action, Shooter, Sports. В Японии Role-Playing, Action, Fighting.\n",
    "\n",
    "Следует отметить, что в рейтиге большой объем пропущенных данных, что искажает интерпретацию результата исследования. \n",
    "Нет возможности определить, на основании чего возникли данные пропуски. Данные пропуски могут говорить о том, что рейтинг еще не определен, либо об ошибке заполнения и игнорировании графы при заполнении данных или о том, что рейтинг присваивался другой системой рейтинговой оценки.\n"
   ]
  },
  {
   "cell_type": "markdown",
   "id": "6db6dde8",
   "metadata": {},
   "source": [
    "## Проверка гипотез"
   ]
  },
  {
   "cell_type": "code",
   "execution_count": 52,
   "id": "8cdd4f18",
   "metadata": {},
   "outputs": [
    {
     "data": {
      "text/plain": [
       "name                 0\n",
       "platform             0\n",
       "year_of_release      0\n",
       "genre                0\n",
       "na_sales             0\n",
       "eu_sales             0\n",
       "jp_sales             0\n",
       "other_sales          0\n",
       "critic_score       971\n",
       "user_score         801\n",
       "rating               0\n",
       "total_sales          0\n",
       "dtype: int64"
      ]
     },
     "execution_count": 52,
     "metadata": {},
     "output_type": "execute_result"
    }
   ],
   "source": [
    "new_data.isna().sum() #проверяем количество пропусков, которые могут помешать вычеслениям"
   ]
  },
  {
   "cell_type": "code",
   "execution_count": 53,
   "id": "d14e52bd",
   "metadata": {},
   "outputs": [
    {
     "data": {
      "text/plain": [
       "1689"
      ]
     },
     "execution_count": 53,
     "metadata": {},
     "output_type": "execute_result"
    }
   ],
   "source": [
    "new_data.shape[0] #всего строк в исследуемом дата фрейме"
   ]
  },
  {
   "cell_type": "code",
   "execution_count": 54,
   "id": "8000d838",
   "metadata": {},
   "outputs": [
    {
     "data": {
      "text/html": [
       "<div>\n",
       "<style scoped>\n",
       "    .dataframe tbody tr th:only-of-type {\n",
       "        vertical-align: middle;\n",
       "    }\n",
       "\n",
       "    .dataframe tbody tr th {\n",
       "        vertical-align: top;\n",
       "    }\n",
       "\n",
       "    .dataframe thead th {\n",
       "        text-align: right;\n",
       "    }\n",
       "</style>\n",
       "<table border=\"1\" class=\"dataframe\">\n",
       "  <thead>\n",
       "    <tr style=\"text-align: right;\">\n",
       "      <th></th>\n",
       "      <th>name</th>\n",
       "      <th>platform</th>\n",
       "      <th>year_of_release</th>\n",
       "      <th>genre</th>\n",
       "      <th>na_sales</th>\n",
       "      <th>eu_sales</th>\n",
       "      <th>jp_sales</th>\n",
       "      <th>other_sales</th>\n",
       "      <th>critic_score</th>\n",
       "      <th>user_score</th>\n",
       "      <th>rating</th>\n",
       "      <th>total_sales</th>\n",
       "    </tr>\n",
       "  </thead>\n",
       "  <tbody>\n",
       "    <tr>\n",
       "      <th>0</th>\n",
       "      <td>Wii Sports</td>\n",
       "      <td>Wii</td>\n",
       "      <td>2006.0</td>\n",
       "      <td>Sports</td>\n",
       "      <td>41.36</td>\n",
       "      <td>28.96</td>\n",
       "      <td>3.77</td>\n",
       "      <td>8.45</td>\n",
       "      <td>76.0</td>\n",
       "      <td>8.0</td>\n",
       "      <td>E</td>\n",
       "      <td>82.54</td>\n",
       "    </tr>\n",
       "    <tr>\n",
       "      <th>1</th>\n",
       "      <td>Super Mario Bros.</td>\n",
       "      <td>NES</td>\n",
       "      <td>1985.0</td>\n",
       "      <td>Platform</td>\n",
       "      <td>29.08</td>\n",
       "      <td>3.58</td>\n",
       "      <td>6.81</td>\n",
       "      <td>0.77</td>\n",
       "      <td>NaN</td>\n",
       "      <td>NaN</td>\n",
       "      <td>нет данных</td>\n",
       "      <td>40.24</td>\n",
       "    </tr>\n",
       "    <tr>\n",
       "      <th>2</th>\n",
       "      <td>Mario Kart Wii</td>\n",
       "      <td>Wii</td>\n",
       "      <td>2008.0</td>\n",
       "      <td>Racing</td>\n",
       "      <td>15.68</td>\n",
       "      <td>12.76</td>\n",
       "      <td>3.79</td>\n",
       "      <td>3.29</td>\n",
       "      <td>82.0</td>\n",
       "      <td>8.3</td>\n",
       "      <td>E</td>\n",
       "      <td>35.52</td>\n",
       "    </tr>\n",
       "    <tr>\n",
       "      <th>3</th>\n",
       "      <td>Wii Sports Resort</td>\n",
       "      <td>Wii</td>\n",
       "      <td>2009.0</td>\n",
       "      <td>Sports</td>\n",
       "      <td>15.61</td>\n",
       "      <td>10.93</td>\n",
       "      <td>3.28</td>\n",
       "      <td>2.95</td>\n",
       "      <td>80.0</td>\n",
       "      <td>8.0</td>\n",
       "      <td>E</td>\n",
       "      <td>32.77</td>\n",
       "    </tr>\n",
       "    <tr>\n",
       "      <th>4</th>\n",
       "      <td>Pokemon Red/Pokemon Blue</td>\n",
       "      <td>GB</td>\n",
       "      <td>1996.0</td>\n",
       "      <td>Role-Playing</td>\n",
       "      <td>11.27</td>\n",
       "      <td>8.89</td>\n",
       "      <td>10.22</td>\n",
       "      <td>1.00</td>\n",
       "      <td>NaN</td>\n",
       "      <td>NaN</td>\n",
       "      <td>нет данных</td>\n",
       "      <td>31.38</td>\n",
       "    </tr>\n",
       "  </tbody>\n",
       "</table>\n",
       "</div>"
      ],
      "text/plain": [
       "                       name platform  year_of_release         genre  na_sales  \\\n",
       "0                Wii Sports      Wii           2006.0        Sports     41.36   \n",
       "1         Super Mario Bros.      NES           1985.0      Platform     29.08   \n",
       "2            Mario Kart Wii      Wii           2008.0        Racing     15.68   \n",
       "3         Wii Sports Resort      Wii           2009.0        Sports     15.61   \n",
       "4  Pokemon Red/Pokemon Blue       GB           1996.0  Role-Playing     11.27   \n",
       "\n",
       "   eu_sales  jp_sales  other_sales  critic_score  user_score      rating  \\\n",
       "0     28.96      3.77         8.45          76.0         8.0           E   \n",
       "1      3.58      6.81         0.77           NaN         NaN  нет данных   \n",
       "2     12.76      3.79         3.29          82.0         8.3           E   \n",
       "3     10.93      3.28         2.95          80.0         8.0           E   \n",
       "4      8.89     10.22         1.00           NaN         NaN  нет данных   \n",
       "\n",
       "   total_sales  \n",
       "0        82.54  \n",
       "1        40.24  \n",
       "2        35.52  \n",
       "3        32.77  \n",
       "4        31.38  "
      ]
     },
     "execution_count": 54,
     "metadata": {},
     "output_type": "execute_result"
    }
   ],
   "source": [
    "new_data.dropna(subset=['user_score'], inplace=True)  #сбрасываем строки с пропущенными значениями в столбце 'user_score'\n",
    "data.reset_index(drop=True)\n",
    "data.head()\n"
   ]
  },
  {
   "cell_type": "markdown",
   "id": "57feb3c4",
   "metadata": {},
   "source": [
    "**Проверка гипотезы:** средние пользовательские рейтинги платформ Xbox One и PC одинаковые. "
   ]
  },
  {
   "cell_type": "markdown",
   "id": "213d7f7b",
   "metadata": {},
   "source": [
    "**H_0:** Cредние пользовательские рейтинги (user_score) платформы Xbox One ('XOne') = средние пользовательские рейтинги (user_score) платформы PC ('PC').\n",
    "\n",
    "**H_a:** Cредние пользовательские рейтинги (user_score) платформы Xbox One ('XOne') ≠ средние пользовательские рейтинги (user_score) платформы PC ('PC'). \n",
    "\n",
    "Зададим уровень значимости alpha = 0.05.\n"
   ]
  },
  {
   "cell_type": "code",
   "execution_count": 55,
   "id": "fe7f39d1",
   "metadata": {},
   "outputs": [
    {
     "name": "stdout",
     "output_type": "stream",
     "text": [
      "0.11601398086668832\n",
      "Не получилось отвергнуть нулевую гипотезу\n"
     ]
    }
   ],
   "source": [
    "df_x1 = new_data[new_data['platform'] =='XOne']\n",
    "df_x1 = df_x1['user_score']\n",
    "\n",
    "df_pc = new_data[new_data['platform'] =='PC']\n",
    "df_pc = df_pc['user_score']\n",
    "\n",
    "results = st.ttest_ind(df_x1, df_pc, equal_var=False)\n",
    "alpha = 0.05\n",
    "\n",
    "print(results.pvalue)\n",
    "if results.pvalue < alpha:\n",
    "    print('Отвергаем нулевую гипотезу')\n",
    "else:\n",
    "    print('Не получилось отвергнуть нулевую гипотезу')"
   ]
  },
  {
   "cell_type": "markdown",
   "id": "7e5f55d3",
   "metadata": {},
   "source": [
    "**Вывод:** Результаты t-теста говорят о том, что средние пользовательские рейтинги платформ Xbox One и PC одинаковые, а результаты теста являются статистически значимыми (p < 0.05).\n",
    "Соответсвенно мы не можем отвергнуть гипотезу о том, что средние пользовательские рейтинги (user_score) платформы Xbox One ('XOne') = средние пользовательские рейтинги (user_score) платформы PC ('PC')\n",
    "Мы использовали дополнительный параметр equal_var = False, потому что мы можем ожидать, что выборки Xbox One и PC различны размеру, поскольку суммарные продажи на данных платформах различны (Xbox One является лидером по продажам, а PC не входит в топ-5 платформ по суммарным продажам.)"
   ]
  },
  {
   "cell_type": "markdown",
   "id": "d4ce03b7",
   "metadata": {},
   "source": [
    "**Проверка гипотезы:** Средние пользовательские рейтинги жанров Action (англ. «действие», экшен-игры) и Sports (англ. «спортивные соревнования») разные. "
   ]
  },
  {
   "cell_type": "markdown",
   "id": "302efb3b",
   "metadata": {},
   "source": [
    "Поскольку в качестве нулевой гипотезы принято принимать равенство двух выборок. То наша нулевая гипотеза и альтернативная будут звучать так:"
   ]
  },
  {
   "cell_type": "markdown",
   "id": "80c78a53",
   "metadata": {},
   "source": [
    "**H_0:** Cредние пользовательские рейтинги (user_score) жанров Action = средние пользовательские рейтинги (user_score) жанров Sports.\n",
    "\n",
    "**H_a:** Cредние пользовательские рейтинги (user_score) жанров Action ≠ средние пользовательские рейтинги (user_score) жанров Sports.\n",
    "\n",
    "Зададим уровень значимости alpha = 0.05."
   ]
  },
  {
   "cell_type": "code",
   "execution_count": 56,
   "id": "9234b2ce",
   "metadata": {},
   "outputs": [
    {
     "name": "stdout",
     "output_type": "stream",
     "text": [
      "1.1825550382644557e-14\n",
      "Отвергаем нулевую гипотезу\n"
     ]
    }
   ],
   "source": [
    "df_action = new_data[new_data['genre'] =='Action']\n",
    "df_action = df_action['user_score']\n",
    "\n",
    "df_sports = new_data[new_data['genre'] =='Sports']\n",
    "df_sports = df_sports['user_score']\n",
    "\n",
    "results = st.ttest_ind(df_action, df_sports, equal_var=False)# results = вызов метода для проверки гипотезы\n",
    "alpha = 0.05 #задайте значение уровня значимости\n",
    "\n",
    "print(results.pvalue) # вывод значения p-value на экран \n",
    "if results.pvalue < alpha:\n",
    "    print('Отвергаем нулевую гипотезу')\n",
    "else:\n",
    "    print('Не получилось отвергнуть нулевую гипотезу')"
   ]
  },
  {
   "cell_type": "markdown",
   "id": "645b367d",
   "metadata": {},
   "source": [
    "**Вывод:** Результаты t-теста говорят о том, что средние пользовательские рейтинги платформ Xbox One и PC различны, а результаты теста являются статистически значимыми (p < 0.05).\n",
    "Соответсвенно, мы подтверждаем гипотезу, о том, что средние пользовательские рейтинги жанров Action (англ. «действие», экшен-игры) и Sports (англ. «спортивные соревнования») разные.\n",
    "Мы использовали дополнительный параметр equal_var = False, потому что мы можем ожидать, что выборки Xbox One и PC различны размеру, поскольку суммарные продажи на данных платформах различны (Xbox One является лидером по продажам, а PC не входит в топ-5 платформ по суммарным продажам.)"
   ]
  },
  {
   "cell_type": "markdown",
   "id": "d31d5636",
   "metadata": {},
   "source": [
    "## Общий вывод"
   ]
  },
  {
   "cell_type": "markdown",
   "id": "49f2c26a",
   "metadata": {},
   "source": [
    "Пик популярности игр пришелся на 2008-2009 гг. Затем идет резкое в 2011г. снижение популярности игр на платформах. Снижение количества релизов можно связать с  потерей актуальности такого формата игр и переход пользователей на мобильные платформы. \n",
    "\n",
    "Характерный средний срок актуальности платформы для игры - около 10 лет. После выхода новой платформы число выпускаемых видеоигр растет примерно в течение 5 лет, а затем плавно снижается.\n",
    "Прослеживается появление новых платформ в 2013 году. \n",
    "\n",
    "Релизы игр на консолях PS4, XOne, 3DS, PC, WiiU находятся на спаде, но еще достаточно активно выпускаются на рынке. У платформ PS4, XOne наблюдается пик выпуска новых игр в 2015 году, на основании ранее полученной информации о сроках актуальности платформ, позволяет нам сделать вывод, что данные консоли будут популярны ориентировочно до 2020 года.\n",
    "\n",
    "Есть игры, на выпуске которых разработчики зарабатывают очень мало, так и игры продажы которых приносят огромную прибыль компаниям.\n",
    "\n",
    "Заметна не сильная корреляция между продажами и оценкой критиков. При это оценка игры пользователей почти не влияет на продажи. Можно сделать вывод о том, что наиболее популярные платформы проводят более крупные рекламные компании и соответсвенно имеют больше успехов в продажах игр.\n",
    "\n",
    "За период 2014-2016 гг. самыми популярными жанрами по продажам стали: Action, Shooter, Sports. Самые низкие продажи у жанров Puzzle, Strategy, Simulation. Самыми дорогими играми стали игры жанра Shooter, которые в 4 раза дороже других. Такая разница может говорить, о том, что игры жанра Action продаются в количестве больше других, а соответсвенно более популярны.\n",
    "\n",
    "В каждом из регионов предпочтительные платформы и жанры игр отличаются. Так в Северной Америке наибольшую популярность имеют консоли XBox, американского производителя Майкрософт, несмотря на то, что они занимают 2 и 3 место, суммарно по продажам они опережают японский PS4.  Европейские пользователи предпочитают японские PlayStation (1 и 2 место). В Японии - предпочтение отдают местным производителям Nintendo и PlayStation, при этом самую высокую популярность (1 место) имеют карманные консоли Nintendo 3DS.\n",
    "В Северной Америке наибольшую популярность имеют игры жанра Shooter, Action, Sports. В Европе: Action, Shooter, Sports. В Японии Role-Playing, Action, Fighting.\n",
    "\n",
    "По результат проведенных Т-тестов мы выяснили, нельзя отрицать, что средние пользовательские рейтинги платформы Xbox One и средние пользовательские рейтинги платформы PC одинаковые. А так же подтвердили ранее выдвинутую гипотезу о том, что средние пользовательские рейтинги жанров Action (англ. «действие», экшен-игры) и Sports (англ. «спортивные соревнования») разные. \n",
    "\n",
    "Резумируя вышеуказанные данные, в настоящий момент целесообразно сделать упор на продажу игр для рынка Северной Америки и Европы в жанре Action (как самого продаваемого) и жанре Shooter (как самых дорогих) на платформах PlayStation 4 и XBox One.\n",
    "Для рынка Японии: для пользователей карманной консоли Nintendo 3DS в жанре Role-Playing и Action."
   ]
  }
 ],
 "metadata": {
  "ExecuteTimeLog": [
   {
    "duration": 59,
    "start_time": "2022-11-01T17:51:17.264Z"
   },
   {
    "duration": 1048,
    "start_time": "2022-11-01T17:51:35.759Z"
   },
   {
    "duration": 57,
    "start_time": "2022-11-01T17:51:36.809Z"
   },
   {
    "duration": 37,
    "start_time": "2022-11-01T17:51:38.595Z"
   },
   {
    "duration": 5,
    "start_time": "2022-11-01T17:51:42.073Z"
   },
   {
    "duration": 14,
    "start_time": "2022-11-01T17:51:42.697Z"
   },
   {
    "duration": 28,
    "start_time": "2022-11-01T17:51:48.589Z"
   },
   {
    "duration": 47,
    "start_time": "2022-11-01T17:53:02.065Z"
   },
   {
    "duration": 49,
    "start_time": "2022-11-01T17:56:01.682Z"
   },
   {
    "duration": 110,
    "start_time": "2022-11-01T17:58:55.452Z"
   },
   {
    "duration": 3,
    "start_time": "2022-11-01T17:59:00.956Z"
   },
   {
    "duration": 63,
    "start_time": "2022-11-01T17:59:01.217Z"
   },
   {
    "duration": 30,
    "start_time": "2022-11-01T17:59:01.370Z"
   },
   {
    "duration": 13,
    "start_time": "2022-11-01T17:59:01.555Z"
   },
   {
    "duration": 5,
    "start_time": "2022-11-01T17:59:01.837Z"
   },
   {
    "duration": 9,
    "start_time": "2022-11-01T17:59:01.991Z"
   },
   {
    "duration": 19,
    "start_time": "2022-11-01T17:59:02.154Z"
   },
   {
    "duration": 42,
    "start_time": "2022-11-01T17:59:02.312Z"
   },
   {
    "duration": 33,
    "start_time": "2022-11-01T17:59:02.613Z"
   },
   {
    "duration": 19,
    "start_time": "2022-11-01T17:59:02.790Z"
   },
   {
    "duration": 24,
    "start_time": "2022-11-01T17:59:03.301Z"
   },
   {
    "duration": 23,
    "start_time": "2022-11-01T17:59:03.792Z"
   },
   {
    "duration": 28248,
    "start_time": "2022-11-01T17:59:03.952Z"
   },
   {
    "duration": 7,
    "start_time": "2022-11-01T17:59:32.202Z"
   },
   {
    "duration": 13,
    "start_time": "2022-11-01T17:59:32.211Z"
   },
   {
    "duration": 27764,
    "start_time": "2022-11-01T17:59:32.226Z"
   },
   {
    "duration": 27786,
    "start_time": "2022-11-01T17:59:59.992Z"
   },
   {
    "duration": 5,
    "start_time": "2022-11-01T18:00:27.779Z"
   },
   {
    "duration": 10,
    "start_time": "2022-11-01T18:00:27.786Z"
   },
   {
    "duration": 21,
    "start_time": "2022-11-01T18:00:27.797Z"
   },
   {
    "duration": 12,
    "start_time": "2022-11-01T18:00:27.820Z"
   },
   {
    "duration": 10,
    "start_time": "2022-11-01T18:00:27.835Z"
   },
   {
    "duration": 21,
    "start_time": "2022-11-01T18:00:27.847Z"
   },
   {
    "duration": 10,
    "start_time": "2022-11-01T18:00:27.870Z"
   },
   {
    "duration": 40,
    "start_time": "2022-11-01T18:00:27.881Z"
   },
   {
    "duration": 8,
    "start_time": "2022-11-01T18:00:27.922Z"
   },
   {
    "duration": 265,
    "start_time": "2022-11-01T18:00:27.931Z"
   },
   {
    "duration": 316,
    "start_time": "2022-11-01T18:00:28.198Z"
   },
   {
    "duration": 217,
    "start_time": "2022-11-01T18:00:28.516Z"
   },
   {
    "duration": 7,
    "start_time": "2022-11-01T18:00:28.734Z"
   },
   {
    "duration": 335,
    "start_time": "2022-11-01T18:00:28.742Z"
   },
   {
    "duration": 23,
    "start_time": "2022-11-01T18:00:29.079Z"
   },
   {
    "duration": 205,
    "start_time": "2022-11-01T18:00:29.104Z"
   },
   {
    "duration": 6,
    "start_time": "2022-11-01T18:00:29.311Z"
   },
   {
    "duration": 444,
    "start_time": "2022-11-01T18:00:29.318Z"
   },
   {
    "duration": 8,
    "start_time": "2022-11-01T18:00:29.764Z"
   },
   {
    "duration": 181,
    "start_time": "2022-11-01T18:00:29.773Z"
   },
   {
    "duration": 163,
    "start_time": "2022-11-01T18:00:29.956Z"
   },
   {
    "duration": 175,
    "start_time": "2022-11-01T18:00:30.121Z"
   },
   {
    "duration": 159,
    "start_time": "2022-11-01T18:00:30.309Z"
   },
   {
    "duration": 184,
    "start_time": "2022-11-01T18:00:30.469Z"
   },
   {
    "duration": 159,
    "start_time": "2022-11-01T18:00:30.654Z"
   },
   {
    "duration": 294,
    "start_time": "2022-11-01T18:00:30.815Z"
   },
   {
    "duration": 233,
    "start_time": "2022-11-01T18:00:31.312Z"
   },
   {
    "duration": 258,
    "start_time": "2022-11-01T18:00:31.547Z"
   },
   {
    "duration": 276,
    "start_time": "2022-11-01T18:00:31.806Z"
   },
   {
    "duration": 217,
    "start_time": "2022-11-01T18:07:54.046Z"
   },
   {
    "duration": 209,
    "start_time": "2022-11-01T18:07:59.785Z"
   },
   {
    "duration": 54,
    "start_time": "2022-11-01T18:18:49.522Z"
   }
  ],
  "kernelspec": {
   "display_name": "Python 3 (ipykernel)",
   "language": "python",
   "name": "python3"
  },
  "language_info": {
   "codemirror_mode": {
    "name": "ipython",
    "version": 3
   },
   "file_extension": ".py",
   "mimetype": "text/x-python",
   "name": "python",
   "nbconvert_exporter": "python",
   "pygments_lexer": "ipython3",
   "version": "3.9.12"
  },
  "toc": {
   "base_numbering": 1,
   "nav_menu": {},
   "number_sections": true,
   "sideBar": true,
   "skip_h1_title": true,
   "title_cell": "Table of Contents",
   "title_sidebar": "Contents",
   "toc_cell": false,
   "toc_position": {},
   "toc_section_display": true,
   "toc_window_display": true
  }
 },
 "nbformat": 4,
 "nbformat_minor": 5
}

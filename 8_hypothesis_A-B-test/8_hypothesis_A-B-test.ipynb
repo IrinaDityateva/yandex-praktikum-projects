{
 "cells": [
  {
   "cell_type": "markdown",
   "metadata": {},
   "source": [
    "# Проект: принятие решений в бизнесе"
   ]
  },
  {
   "cell_type": "markdown",
   "metadata": {},
   "source": [
    "**Цель исследования:** используя данные интернет-магазина приоритезировать гипотезы, произвести оценку результатов A/B-тестирования различными методами"
   ]
  },
  {
   "cell_type": "markdown",
   "metadata": {},
   "source": [
    "**Описание проекта:** Проведена приоритизация гипотез по фреймворкам ICE и RICE. Проведен анализ\n",
    "результатов A/B-теста, построин графики кумулятивной выручки, среднего чека,\n",
    "конверсии по группам, а посчитана статистическую значимость различий конверсий\n",
    "и средних чеков по сырым и очищенным данным. На основании анализа нами было\n",
    "принято решение о нецелесообразности дальнейшего проведения теста."
   ]
  },
  {
   "cell_type": "markdown",
   "metadata": {},
   "source": [
    "\n",
    "**Описание данных:**\n",
    "\n",
    "Файл /datasets/hypothesis.csv. \n",
    "\n",
    "Hypothesis — краткое описание гипотезы;\n",
    "\n",
    "Reach — охват пользователей по 10-балльной шкале;\n",
    "\n",
    "Impact — влияние на пользователей по 10-балльной шкале;\n",
    "\n",
    "Confidence — уверенность в гипотезе по 10-балльной шкале;\n",
    "\n",
    "Efforts — затраты ресурсов на проверку гипотезы по 10-балльной шкале. Чем больше значение Efforts, тем дороже проверка гипотезы.\n",
    "\n",
    "Файл /datasets/orders.csv. \n",
    "\n",
    "transactionId — идентификатор заказа;\n",
    "\n",
    "visitorId — идентификатор пользователя, совершившего заказ;\n",
    "\n",
    "date — дата, когда был совершён заказ;\n",
    "\n",
    "revenue — выручка заказа;\n",
    "\n",
    "group — группа A/B-теста, в которую попал заказ.\n",
    "\n",
    "Файл /datasets/visitors.csv. \n",
    "\n",
    "date — дата;\n",
    "\n",
    "group — группа A/B-теста;\n",
    "\n",
    "visitors — количество пользователей в указанную дату в указанной группе A/B-теста\n",
    "\n",
    "**Контекст**\n",
    "\n",
    "Вы — аналитик крупного интернет-магазина. Вместе с отделом маркетинга вы подготовили список гипотез для увеличения выручки.\n",
    "Приоритизируйте гипотезы, запустите A/B-тест и проанализируйте результаты. \n"
   ]
  },
  {
   "cell_type": "markdown",
   "metadata": {},
   "source": [
    "**План проекта:**\n",
    "\n",
    "1. Обзор данных\n",
    "\n",
    "2. Приоритизация гипотез.\n",
    "\n",
    "2.1. Применение фреймворка ICE для приоритизации гипотез.\n",
    "\n",
    "2.2. Применение фреймворка RICE для приоритизации гипотез. \n",
    "\n",
    "3. Анализ A/B-теста\n",
    "\n",
    "3.1. График кумулятивной выручки по группам. \n",
    "\n",
    "3.2. График кумулятивного среднего чека по группам. \n",
    "\n",
    "3.3. График относительного изменения кумулятивного среднего чека группы B к группе A. \n",
    "\n",
    "3.4. График кумулятивного среднего количества заказов на посетителя по группам. \n",
    "\n",
    "3.5. График относительного изменения кумулятивного среднего количества заказов на посетителя группы B к группе A. \n",
    "\n",
    "3.6. Точечный график количества заказов по пользователям.\n",
    "\n",
    "3.7. Расчет 95-й и 99-й перцентили количества заказов на пользователя. \n",
    "\n",
    "3.8. Точечный график стоимостей заказов. \n",
    "\n",
    "3.9. Расчет 95-й и 99-й перцентили стоимости заказов. \n",
    "\n",
    "3.10. Статистическая значимость различий в среднем количестве заказов на посетителя между группами по «сырым» данным. \n",
    "\n",
    "3.11. Статистическая значимость различий в среднем чеке заказа между группами по «сырым» данным. \n",
    "\n",
    "3.12. Статистическая значимость различий в среднем количестве заказов на посетителя между группами по «очищенным» данным. \n",
    "\n",
    "3.13. Статистическая значимость различий в среднем чеке заказа между группами по «очищенным» данным. \n",
    "\n",
    "3.14. Выводы по результатам теста.\n",
    "\n",
    "4. Общий вывод\n",
    "\n"
   ]
  },
  {
   "cell_type": "markdown",
   "metadata": {},
   "source": [
    "## Обзор данных"
   ]
  },
  {
   "cell_type": "code",
   "execution_count": 1,
   "metadata": {},
   "outputs": [],
   "source": [
    "#Импортируем небходимые библиотеки. \n",
    "import pandas as pd\n",
    "import matplotlib.pyplot as plt\n",
    "import numpy as np\n",
    "import datetime as dt\n",
    "import seaborn as sns\n",
    "import scipy.stats as stats\n",
    "from pandas.plotting import register_matplotlib_converters\n",
    "import warnings\n",
    "# конвертеры, которые позволяют использовать типы pandas в matplotlib  \n",
    "register_matplotlib_converters()"
   ]
  },
  {
   "cell_type": "code",
   "execution_count": 2,
   "metadata": {},
   "outputs": [],
   "source": [
    "#Считаем данные из csv-файлов в датафрейм и сохраняем в переменную\n",
    "try:\n",
    "    data = pd.read_csv('/datasets/hypothesis.csv')\n",
    "except:\n",
    "    data = pd.read_csv('https://code.s3.yandex.net/datasets/hypothesis.csv')"
   ]
  },
  {
   "cell_type": "code",
   "execution_count": 3,
   "metadata": {},
   "outputs": [],
   "source": [
    "try:\n",
    "    orders = pd.read_csv('/datasets/orders.csv')\n",
    "except:\n",
    "    orders = pd.read_csv('https://code.s3.yandex.net/datasets/orders.csv')"
   ]
  },
  {
   "cell_type": "code",
   "execution_count": 4,
   "metadata": {},
   "outputs": [],
   "source": [
    "try:\n",
    "    visitors = pd.read_csv('/datasets/visitors.csv')\n",
    "except:\n",
    "    visitors = pd.read_csv('https://code.s3.yandex.net/datasets/visitors.csv')"
   ]
  },
  {
   "cell_type": "code",
   "execution_count": 5,
   "metadata": {},
   "outputs": [
    {
     "data": {
      "text/html": [
       "<div>\n",
       "<style scoped>\n",
       "    .dataframe tbody tr th:only-of-type {\n",
       "        vertical-align: middle;\n",
       "    }\n",
       "\n",
       "    .dataframe tbody tr th {\n",
       "        vertical-align: top;\n",
       "    }\n",
       "\n",
       "    .dataframe thead th {\n",
       "        text-align: right;\n",
       "    }\n",
       "</style>\n",
       "<table border=\"1\" class=\"dataframe\">\n",
       "  <thead>\n",
       "    <tr style=\"text-align: right;\">\n",
       "      <th></th>\n",
       "      <th>Hypothesis</th>\n",
       "      <th>Reach</th>\n",
       "      <th>Impact</th>\n",
       "      <th>Confidence</th>\n",
       "      <th>Efforts</th>\n",
       "    </tr>\n",
       "  </thead>\n",
       "  <tbody>\n",
       "    <tr>\n",
       "      <th>0</th>\n",
       "      <td>Добавить два новых канала привлечения трафика, что позволит привлекать на 30% больше пользователей</td>\n",
       "      <td>3</td>\n",
       "      <td>10</td>\n",
       "      <td>8</td>\n",
       "      <td>6</td>\n",
       "    </tr>\n",
       "    <tr>\n",
       "      <th>1</th>\n",
       "      <td>Запустить собственную службу доставки, что сократит срок доставки заказов</td>\n",
       "      <td>2</td>\n",
       "      <td>5</td>\n",
       "      <td>4</td>\n",
       "      <td>10</td>\n",
       "    </tr>\n",
       "    <tr>\n",
       "      <th>2</th>\n",
       "      <td>Добавить блоки рекомендаций товаров на сайт интернет магазина, чтобы повысить конверсию и средний чек заказа</td>\n",
       "      <td>8</td>\n",
       "      <td>3</td>\n",
       "      <td>7</td>\n",
       "      <td>3</td>\n",
       "    </tr>\n",
       "    <tr>\n",
       "      <th>3</th>\n",
       "      <td>Изменить структура категорий, что увеличит конверсию, т.к. пользователи быстрее найдут нужный товар</td>\n",
       "      <td>8</td>\n",
       "      <td>3</td>\n",
       "      <td>3</td>\n",
       "      <td>8</td>\n",
       "    </tr>\n",
       "    <tr>\n",
       "      <th>4</th>\n",
       "      <td>Изменить цвет фона главной страницы, чтобы увеличить вовлеченность пользователей</td>\n",
       "      <td>3</td>\n",
       "      <td>1</td>\n",
       "      <td>1</td>\n",
       "      <td>1</td>\n",
       "    </tr>\n",
       "    <tr>\n",
       "      <th>5</th>\n",
       "      <td>Добавить страницу отзывов клиентов о магазине, что позволит увеличить количество заказов</td>\n",
       "      <td>3</td>\n",
       "      <td>2</td>\n",
       "      <td>2</td>\n",
       "      <td>3</td>\n",
       "    </tr>\n",
       "    <tr>\n",
       "      <th>6</th>\n",
       "      <td>Показать на главной странице баннеры с актуальными акциями и распродажами, чтобы увеличить конверсию</td>\n",
       "      <td>5</td>\n",
       "      <td>3</td>\n",
       "      <td>8</td>\n",
       "      <td>3</td>\n",
       "    </tr>\n",
       "    <tr>\n",
       "      <th>7</th>\n",
       "      <td>Добавить форму подписки на все основные страницы, чтобы собрать базу клиентов для email-рассылок</td>\n",
       "      <td>10</td>\n",
       "      <td>7</td>\n",
       "      <td>8</td>\n",
       "      <td>5</td>\n",
       "    </tr>\n",
       "    <tr>\n",
       "      <th>8</th>\n",
       "      <td>Запустить акцию, дающую скидку на товар в день рождения</td>\n",
       "      <td>1</td>\n",
       "      <td>9</td>\n",
       "      <td>9</td>\n",
       "      <td>5</td>\n",
       "    </tr>\n",
       "  </tbody>\n",
       "</table>\n",
       "</div>"
      ],
      "text/plain": [
       "                                                                                                     Hypothesis  \\\n",
       "0            Добавить два новых канала привлечения трафика, что позволит привлекать на 30% больше пользователей   \n",
       "1                                     Запустить собственную службу доставки, что сократит срок доставки заказов   \n",
       "2  Добавить блоки рекомендаций товаров на сайт интернет магазина, чтобы повысить конверсию и средний чек заказа   \n",
       "3           Изменить структура категорий, что увеличит конверсию, т.к. пользователи быстрее найдут нужный товар   \n",
       "4                              Изменить цвет фона главной страницы, чтобы увеличить вовлеченность пользователей   \n",
       "5                      Добавить страницу отзывов клиентов о магазине, что позволит увеличить количество заказов   \n",
       "6          Показать на главной странице баннеры с актуальными акциями и распродажами, чтобы увеличить конверсию   \n",
       "7              Добавить форму подписки на все основные страницы, чтобы собрать базу клиентов для email-рассылок   \n",
       "8                                                       Запустить акцию, дающую скидку на товар в день рождения   \n",
       "\n",
       "   Reach  Impact  Confidence  Efforts  \n",
       "0      3      10           8        6  \n",
       "1      2       5           4       10  \n",
       "2      8       3           7        3  \n",
       "3      8       3           3        8  \n",
       "4      3       1           1        1  \n",
       "5      3       2           2        3  \n",
       "6      5       3           8        3  \n",
       "7     10       7           8        5  \n",
       "8      1       9           9        5  "
      ]
     },
     "execution_count": 5,
     "metadata": {},
     "output_type": "execute_result"
    }
   ],
   "source": [
    "pd.set_option('display.max_colwidth', None) #выводим первые 10 строчек ДФ чтобы было видно всю информацию внутри ячеек\n",
    "data.head(10)\n"
   ]
  },
  {
   "cell_type": "code",
   "execution_count": 6,
   "metadata": {},
   "outputs": [
    {
     "data": {
      "text/html": [
       "<div>\n",
       "<style scoped>\n",
       "    .dataframe tbody tr th:only-of-type {\n",
       "        vertical-align: middle;\n",
       "    }\n",
       "\n",
       "    .dataframe tbody tr th {\n",
       "        vertical-align: top;\n",
       "    }\n",
       "\n",
       "    .dataframe thead th {\n",
       "        text-align: right;\n",
       "    }\n",
       "</style>\n",
       "<table border=\"1\" class=\"dataframe\">\n",
       "  <thead>\n",
       "    <tr style=\"text-align: right;\">\n",
       "      <th></th>\n",
       "      <th>transactionId</th>\n",
       "      <th>visitorId</th>\n",
       "      <th>date</th>\n",
       "      <th>revenue</th>\n",
       "      <th>group</th>\n",
       "    </tr>\n",
       "  </thead>\n",
       "  <tbody>\n",
       "    <tr>\n",
       "      <th>0</th>\n",
       "      <td>3667963787</td>\n",
       "      <td>3312258926</td>\n",
       "      <td>2019-08-15</td>\n",
       "      <td>1650</td>\n",
       "      <td>B</td>\n",
       "    </tr>\n",
       "    <tr>\n",
       "      <th>1</th>\n",
       "      <td>2804400009</td>\n",
       "      <td>3642806036</td>\n",
       "      <td>2019-08-15</td>\n",
       "      <td>730</td>\n",
       "      <td>B</td>\n",
       "    </tr>\n",
       "    <tr>\n",
       "      <th>2</th>\n",
       "      <td>2961555356</td>\n",
       "      <td>4069496402</td>\n",
       "      <td>2019-08-15</td>\n",
       "      <td>400</td>\n",
       "      <td>A</td>\n",
       "    </tr>\n",
       "    <tr>\n",
       "      <th>3</th>\n",
       "      <td>3797467345</td>\n",
       "      <td>1196621759</td>\n",
       "      <td>2019-08-15</td>\n",
       "      <td>9759</td>\n",
       "      <td>B</td>\n",
       "    </tr>\n",
       "    <tr>\n",
       "      <th>4</th>\n",
       "      <td>2282983706</td>\n",
       "      <td>2322279887</td>\n",
       "      <td>2019-08-15</td>\n",
       "      <td>2308</td>\n",
       "      <td>B</td>\n",
       "    </tr>\n",
       "    <tr>\n",
       "      <th>5</th>\n",
       "      <td>182168103</td>\n",
       "      <td>935554773</td>\n",
       "      <td>2019-08-15</td>\n",
       "      <td>2210</td>\n",
       "      <td>B</td>\n",
       "    </tr>\n",
       "    <tr>\n",
       "      <th>6</th>\n",
       "      <td>398296753</td>\n",
       "      <td>2900797465</td>\n",
       "      <td>2019-08-15</td>\n",
       "      <td>1860</td>\n",
       "      <td>B</td>\n",
       "    </tr>\n",
       "    <tr>\n",
       "      <th>7</th>\n",
       "      <td>2626614568</td>\n",
       "      <td>78758296</td>\n",
       "      <td>2019-08-15</td>\n",
       "      <td>1044</td>\n",
       "      <td>A</td>\n",
       "    </tr>\n",
       "    <tr>\n",
       "      <th>8</th>\n",
       "      <td>1576988021</td>\n",
       "      <td>295230930</td>\n",
       "      <td>2019-08-15</td>\n",
       "      <td>13710</td>\n",
       "      <td>A</td>\n",
       "    </tr>\n",
       "    <tr>\n",
       "      <th>9</th>\n",
       "      <td>1506739906</td>\n",
       "      <td>1882260405</td>\n",
       "      <td>2019-08-15</td>\n",
       "      <td>1855</td>\n",
       "      <td>B</td>\n",
       "    </tr>\n",
       "  </tbody>\n",
       "</table>\n",
       "</div>"
      ],
      "text/plain": [
       "   transactionId   visitorId        date  revenue group\n",
       "0     3667963787  3312258926  2019-08-15     1650     B\n",
       "1     2804400009  3642806036  2019-08-15      730     B\n",
       "2     2961555356  4069496402  2019-08-15      400     A\n",
       "3     3797467345  1196621759  2019-08-15     9759     B\n",
       "4     2282983706  2322279887  2019-08-15     2308     B\n",
       "5      182168103   935554773  2019-08-15     2210     B\n",
       "6      398296753  2900797465  2019-08-15     1860     B\n",
       "7     2626614568    78758296  2019-08-15     1044     A\n",
       "8     1576988021   295230930  2019-08-15    13710     A\n",
       "9     1506739906  1882260405  2019-08-15     1855     B"
      ]
     },
     "execution_count": 6,
     "metadata": {},
     "output_type": "execute_result"
    }
   ],
   "source": [
    "orders.head(10)"
   ]
  },
  {
   "cell_type": "code",
   "execution_count": 7,
   "metadata": {},
   "outputs": [
    {
     "data": {
      "text/html": [
       "<div>\n",
       "<style scoped>\n",
       "    .dataframe tbody tr th:only-of-type {\n",
       "        vertical-align: middle;\n",
       "    }\n",
       "\n",
       "    .dataframe tbody tr th {\n",
       "        vertical-align: top;\n",
       "    }\n",
       "\n",
       "    .dataframe thead th {\n",
       "        text-align: right;\n",
       "    }\n",
       "</style>\n",
       "<table border=\"1\" class=\"dataframe\">\n",
       "  <thead>\n",
       "    <tr style=\"text-align: right;\">\n",
       "      <th></th>\n",
       "      <th>date</th>\n",
       "      <th>group</th>\n",
       "      <th>visitors</th>\n",
       "    </tr>\n",
       "  </thead>\n",
       "  <tbody>\n",
       "    <tr>\n",
       "      <th>0</th>\n",
       "      <td>2019-08-01</td>\n",
       "      <td>A</td>\n",
       "      <td>719</td>\n",
       "    </tr>\n",
       "    <tr>\n",
       "      <th>1</th>\n",
       "      <td>2019-08-02</td>\n",
       "      <td>A</td>\n",
       "      <td>619</td>\n",
       "    </tr>\n",
       "    <tr>\n",
       "      <th>2</th>\n",
       "      <td>2019-08-03</td>\n",
       "      <td>A</td>\n",
       "      <td>507</td>\n",
       "    </tr>\n",
       "    <tr>\n",
       "      <th>3</th>\n",
       "      <td>2019-08-04</td>\n",
       "      <td>A</td>\n",
       "      <td>717</td>\n",
       "    </tr>\n",
       "    <tr>\n",
       "      <th>4</th>\n",
       "      <td>2019-08-05</td>\n",
       "      <td>A</td>\n",
       "      <td>756</td>\n",
       "    </tr>\n",
       "    <tr>\n",
       "      <th>5</th>\n",
       "      <td>2019-08-06</td>\n",
       "      <td>A</td>\n",
       "      <td>667</td>\n",
       "    </tr>\n",
       "    <tr>\n",
       "      <th>6</th>\n",
       "      <td>2019-08-07</td>\n",
       "      <td>A</td>\n",
       "      <td>644</td>\n",
       "    </tr>\n",
       "    <tr>\n",
       "      <th>7</th>\n",
       "      <td>2019-08-08</td>\n",
       "      <td>A</td>\n",
       "      <td>610</td>\n",
       "    </tr>\n",
       "    <tr>\n",
       "      <th>8</th>\n",
       "      <td>2019-08-09</td>\n",
       "      <td>A</td>\n",
       "      <td>617</td>\n",
       "    </tr>\n",
       "    <tr>\n",
       "      <th>9</th>\n",
       "      <td>2019-08-10</td>\n",
       "      <td>A</td>\n",
       "      <td>406</td>\n",
       "    </tr>\n",
       "  </tbody>\n",
       "</table>\n",
       "</div>"
      ],
      "text/plain": [
       "         date group  visitors\n",
       "0  2019-08-01     A       719\n",
       "1  2019-08-02     A       619\n",
       "2  2019-08-03     A       507\n",
       "3  2019-08-04     A       717\n",
       "4  2019-08-05     A       756\n",
       "5  2019-08-06     A       667\n",
       "6  2019-08-07     A       644\n",
       "7  2019-08-08     A       610\n",
       "8  2019-08-09     A       617\n",
       "9  2019-08-10     A       406"
      ]
     },
     "execution_count": 7,
     "metadata": {},
     "output_type": "execute_result"
    }
   ],
   "source": [
    "visitors.head(10)"
   ]
  },
  {
   "cell_type": "code",
   "execution_count": 8,
   "metadata": {},
   "outputs": [
    {
     "name": "stdout",
     "output_type": "stream",
     "text": [
      "<class 'pandas.core.frame.DataFrame'>\n",
      "RangeIndex: 9 entries, 0 to 8\n",
      "Data columns (total 5 columns):\n",
      " #   Column      Non-Null Count  Dtype \n",
      "---  ------      --------------  ----- \n",
      " 0   Hypothesis  9 non-null      object\n",
      " 1   Reach       9 non-null      int64 \n",
      " 2   Impact      9 non-null      int64 \n",
      " 3   Confidence  9 non-null      int64 \n",
      " 4   Efforts     9 non-null      int64 \n",
      "dtypes: int64(4), object(1)\n",
      "memory usage: 488.0+ bytes\n"
     ]
    }
   ],
   "source": [
    "data.info()"
   ]
  },
  {
   "cell_type": "code",
   "execution_count": 9,
   "metadata": {},
   "outputs": [
    {
     "name": "stdout",
     "output_type": "stream",
     "text": [
      "<class 'pandas.core.frame.DataFrame'>\n",
      "RangeIndex: 1197 entries, 0 to 1196\n",
      "Data columns (total 5 columns):\n",
      " #   Column         Non-Null Count  Dtype \n",
      "---  ------         --------------  ----- \n",
      " 0   transactionId  1197 non-null   int64 \n",
      " 1   visitorId      1197 non-null   int64 \n",
      " 2   date           1197 non-null   object\n",
      " 3   revenue        1197 non-null   int64 \n",
      " 4   group          1197 non-null   object\n",
      "dtypes: int64(3), object(2)\n",
      "memory usage: 46.9+ KB\n"
     ]
    }
   ],
   "source": [
    "orders.info()"
   ]
  },
  {
   "cell_type": "code",
   "execution_count": 10,
   "metadata": {},
   "outputs": [
    {
     "name": "stdout",
     "output_type": "stream",
     "text": [
      "<class 'pandas.core.frame.DataFrame'>\n",
      "RangeIndex: 62 entries, 0 to 61\n",
      "Data columns (total 3 columns):\n",
      " #   Column    Non-Null Count  Dtype \n",
      "---  ------    --------------  ----- \n",
      " 0   date      62 non-null     object\n",
      " 1   group     62 non-null     object\n",
      " 2   visitors  62 non-null     int64 \n",
      "dtypes: int64(1), object(2)\n",
      "memory usage: 1.6+ KB\n"
     ]
    }
   ],
   "source": [
    "visitors.info()"
   ]
  },
  {
   "cell_type": "code",
   "execution_count": 11,
   "metadata": {},
   "outputs": [
    {
     "data": {
      "text/plain": [
       "Hypothesis    0\n",
       "Reach         0\n",
       "Impact        0\n",
       "Confidence    0\n",
       "Efforts       0\n",
       "dtype: int64"
      ]
     },
     "execution_count": 11,
     "metadata": {},
     "output_type": "execute_result"
    }
   ],
   "source": [
    "data.isna().sum() #Проверим, есть ли в датафреймах пропуски значений."
   ]
  },
  {
   "cell_type": "code",
   "execution_count": 12,
   "metadata": {},
   "outputs": [
    {
     "data": {
      "text/plain": [
       "transactionId    0\n",
       "visitorId        0\n",
       "date             0\n",
       "revenue          0\n",
       "group            0\n",
       "dtype: int64"
      ]
     },
     "execution_count": 12,
     "metadata": {},
     "output_type": "execute_result"
    }
   ],
   "source": [
    "orders.isna().sum()"
   ]
  },
  {
   "cell_type": "code",
   "execution_count": 13,
   "metadata": {},
   "outputs": [
    {
     "data": {
      "text/plain": [
       "date        0\n",
       "group       0\n",
       "visitors    0\n",
       "dtype: int64"
      ]
     },
     "execution_count": 13,
     "metadata": {},
     "output_type": "execute_result"
    }
   ],
   "source": [
    "visitors.isna().sum()"
   ]
  },
  {
   "cell_type": "code",
   "execution_count": 14,
   "metadata": {},
   "outputs": [
    {
     "name": "stdout",
     "output_type": "stream",
     "text": [
      "Найдено дубликатов -  0\n"
     ]
    }
   ],
   "source": [
    "print('Найдено дубликатов - ', data.duplicated().sum()) #Проверим, есть ли в датафреймах явные дубликаты строк."
   ]
  },
  {
   "cell_type": "code",
   "execution_count": 15,
   "metadata": {},
   "outputs": [
    {
     "name": "stdout",
     "output_type": "stream",
     "text": [
      "Найдено дубликатов -  0\n"
     ]
    }
   ],
   "source": [
    "print('Найдено дубликатов - ', orders.duplicated().sum())"
   ]
  },
  {
   "cell_type": "code",
   "execution_count": 16,
   "metadata": {},
   "outputs": [
    {
     "name": "stdout",
     "output_type": "stream",
     "text": [
      "Найдено дубликатов -  0\n"
     ]
    }
   ],
   "source": [
    "print('Найдено дубликатов - ', visitors.duplicated().sum())"
   ]
  },
  {
   "cell_type": "code",
   "execution_count": 17,
   "metadata": {},
   "outputs": [],
   "source": [
    "#переводим названия столбцов в нижний регистр\n",
    "data.columns = data.columns.str.lower()"
   ]
  },
  {
   "cell_type": "code",
   "execution_count": 18,
   "metadata": {},
   "outputs": [],
   "source": [
    "#переводим названия столбцов в змеиный регистр\n",
    "orders.columns = orders.columns.str.replace('transactionId', 'transaction_id')\n",
    "orders.columns = orders.columns.str.replace('visitorId', 'visitor_id')"
   ]
  },
  {
   "cell_type": "code",
   "execution_count": 19,
   "metadata": {},
   "outputs": [
    {
     "data": {
      "text/plain": [
       "Index(['hypothesis', 'reach', 'impact', 'confidence', 'efforts'], dtype='object')"
      ]
     },
     "execution_count": 19,
     "metadata": {},
     "output_type": "execute_result"
    }
   ],
   "source": [
    "data.columns"
   ]
  },
  {
   "cell_type": "code",
   "execution_count": 20,
   "metadata": {},
   "outputs": [
    {
     "data": {
      "text/plain": [
       "Index(['transaction_id', 'visitor_id', 'date', 'revenue', 'group'], dtype='object')"
      ]
     },
     "execution_count": 20,
     "metadata": {},
     "output_type": "execute_result"
    }
   ],
   "source": [
    "orders.columns"
   ]
  },
  {
   "cell_type": "code",
   "execution_count": 21,
   "metadata": {},
   "outputs": [],
   "source": [
    "#приводим данные из столбцов дата в соответсвующий формат\n",
    "orders['date'] = pd.to_datetime(orders['date'])\n",
    "visitors['date'] = pd.to_datetime(visitors['date'])"
   ]
  },
  {
   "cell_type": "markdown",
   "metadata": {},
   "source": [
    "Посмотрим равны ли группы по кличеству посещений и заказов"
   ]
  },
  {
   "cell_type": "code",
   "execution_count": 22,
   "metadata": {},
   "outputs": [
    {
     "name": "stdout",
     "output_type": "stream",
     "text": [
      "Количество посещений в группе А - 18736\n",
      "Количество посещений в группе B - 18916\n",
      "-----------------------------------\n",
      "Количество заказов в группе А - 557\n",
      "Количество заказов в группе B - 640\n"
     ]
    }
   ],
   "source": [
    "print ('Количество посещений в группе А -', visitors.query('group == \"A\"')['visitors'].sum()) \n",
    "print ('Количество посещений в группе B -',visitors.query('group == \"B\"')['visitors'].sum()) \n",
    "\n",
    "print('-----------------------------------') \n",
    "print ('Количество заказов в группе А -', orders.query('group == \"A\"').shape[0]) \n",
    "print ('Количество заказов в группе B -', orders.query('group == \"B\"').shape[0])\n"
   ]
  },
  {
   "cell_type": "code",
   "execution_count": 23,
   "metadata": {},
   "outputs": [
    {
     "name": "stdout",
     "output_type": "stream",
     "text": [
      "Различие количества пользователей в группах, % 0.9515753859166836\n"
     ]
    }
   ],
   "source": [
    "print ('Различие количества пользователей в группах, %', 100-(visitors.query('group == \"A\"')['visitors'].sum()/visitors.query('group == \"B\"')['visitors'].sum()*100))"
   ]
  },
  {
   "cell_type": "markdown",
   "metadata": {},
   "source": [
    "Количество пользователей в различных группах различается не более, чем на 1%"
   ]
  },
  {
   "cell_type": "markdown",
   "metadata": {},
   "source": [
    "Проверяем не попали ли одни и те же пользователи в разные группы А/В теста."
   ]
  },
  {
   "cell_type": "code",
   "execution_count": 24,
   "metadata": {},
   "outputs": [
    {
     "name": "stdout",
     "output_type": "stream",
     "text": [
      "Кол-во пользователей, попавших в обе группы теста  58\n"
     ]
    }
   ],
   "source": [
    "#группируем пользователей по группам и считаем уникальные значения\n",
    "df = orders.groupby('visitor_id').agg({'group': 'nunique'})\n",
    "print('Кол-во пользователей, попавших в обе группы теста ', df.query('group > 1').shape[0])"
   ]
  },
  {
   "cell_type": "markdown",
   "metadata": {},
   "source": [
    "Попавший в одну из групп посетитель должен оставаться в этой группе до конца теста. Если пользователь принимает участие в тестировании обоих гипотез в ходе одного исследования, неизвестно, какая именно повлияла на его решения. Значит, и результаты такого теста нельзя интерпретировать однозначно. "
   ]
  },
  {
   "cell_type": "markdown",
   "metadata": {},
   "source": [
    "**Выводы:** нами были проанализированны данные по трем дата фреймам. Пропусков значений и полных дубликатов строк не найдено. Количество пользователей в различных группах различается не более, чем на 1%, что является статистически допустимым.\n",
    "\n",
    "Было обнаружено, что 58 пользователей одновременно оказались в двух группах теста. При реально проводимом тесте, данная ошибка привела бы к ничтожности его результата. Тест было бы необходимо остановить и провести заново, при усиленном контроле возникновения данной ошибки вновь. Поскольку это учебный проект, отступим от данного требования."
   ]
  },
  {
   "cell_type": "markdown",
   "metadata": {},
   "source": [
    "## Приоритизация гипотез.\n",
    "### Фреймворк ICE для приоритизации гипотез. \n"
   ]
  },
  {
   "cell_type": "code",
   "execution_count": 25,
   "metadata": {},
   "outputs": [
    {
     "data": {
      "text/html": [
       "<div>\n",
       "<style scoped>\n",
       "    .dataframe tbody tr th:only-of-type {\n",
       "        vertical-align: middle;\n",
       "    }\n",
       "\n",
       "    .dataframe tbody tr th {\n",
       "        vertical-align: top;\n",
       "    }\n",
       "\n",
       "    .dataframe thead th {\n",
       "        text-align: right;\n",
       "    }\n",
       "</style>\n",
       "<table border=\"1\" class=\"dataframe\">\n",
       "  <thead>\n",
       "    <tr style=\"text-align: right;\">\n",
       "      <th></th>\n",
       "      <th>hypothesis</th>\n",
       "      <th>ICE</th>\n",
       "    </tr>\n",
       "  </thead>\n",
       "  <tbody>\n",
       "    <tr>\n",
       "      <th>8</th>\n",
       "      <td>Запустить акцию, дающую скидку на товар в день рождения</td>\n",
       "      <td>16.200000</td>\n",
       "    </tr>\n",
       "    <tr>\n",
       "      <th>0</th>\n",
       "      <td>Добавить два новых канала привлечения трафика, что позволит привлекать на 30% больше пользователей</td>\n",
       "      <td>13.333333</td>\n",
       "    </tr>\n",
       "    <tr>\n",
       "      <th>7</th>\n",
       "      <td>Добавить форму подписки на все основные страницы, чтобы собрать базу клиентов для email-рассылок</td>\n",
       "      <td>11.200000</td>\n",
       "    </tr>\n",
       "    <tr>\n",
       "      <th>6</th>\n",
       "      <td>Показать на главной странице баннеры с актуальными акциями и распродажами, чтобы увеличить конверсию</td>\n",
       "      <td>8.000000</td>\n",
       "    </tr>\n",
       "    <tr>\n",
       "      <th>2</th>\n",
       "      <td>Добавить блоки рекомендаций товаров на сайт интернет магазина, чтобы повысить конверсию и средний чек заказа</td>\n",
       "      <td>7.000000</td>\n",
       "    </tr>\n",
       "    <tr>\n",
       "      <th>1</th>\n",
       "      <td>Запустить собственную службу доставки, что сократит срок доставки заказов</td>\n",
       "      <td>2.000000</td>\n",
       "    </tr>\n",
       "    <tr>\n",
       "      <th>5</th>\n",
       "      <td>Добавить страницу отзывов клиентов о магазине, что позволит увеличить количество заказов</td>\n",
       "      <td>1.333333</td>\n",
       "    </tr>\n",
       "    <tr>\n",
       "      <th>3</th>\n",
       "      <td>Изменить структура категорий, что увеличит конверсию, т.к. пользователи быстрее найдут нужный товар</td>\n",
       "      <td>1.125000</td>\n",
       "    </tr>\n",
       "    <tr>\n",
       "      <th>4</th>\n",
       "      <td>Изменить цвет фона главной страницы, чтобы увеличить вовлеченность пользователей</td>\n",
       "      <td>1.000000</td>\n",
       "    </tr>\n",
       "  </tbody>\n",
       "</table>\n",
       "</div>"
      ],
      "text/plain": [
       "                                                                                                     hypothesis  \\\n",
       "8                                                       Запустить акцию, дающую скидку на товар в день рождения   \n",
       "0            Добавить два новых канала привлечения трафика, что позволит привлекать на 30% больше пользователей   \n",
       "7              Добавить форму подписки на все основные страницы, чтобы собрать базу клиентов для email-рассылок   \n",
       "6          Показать на главной странице баннеры с актуальными акциями и распродажами, чтобы увеличить конверсию   \n",
       "2  Добавить блоки рекомендаций товаров на сайт интернет магазина, чтобы повысить конверсию и средний чек заказа   \n",
       "1                                     Запустить собственную службу доставки, что сократит срок доставки заказов   \n",
       "5                      Добавить страницу отзывов клиентов о магазине, что позволит увеличить количество заказов   \n",
       "3           Изменить структура категорий, что увеличит конверсию, т.к. пользователи быстрее найдут нужный товар   \n",
       "4                              Изменить цвет фона главной страницы, чтобы увеличить вовлеченность пользователей   \n",
       "\n",
       "         ICE  \n",
       "8  16.200000  \n",
       "0  13.333333  \n",
       "7  11.200000  \n",
       "6   8.000000  \n",
       "2   7.000000  \n",
       "1   2.000000  \n",
       "5   1.333333  \n",
       "3   1.125000  \n",
       "4   1.000000  "
      ]
     },
     "execution_count": 25,
     "metadata": {},
     "output_type": "execute_result"
    }
   ],
   "source": [
    "data['ICE'] = (data['impact']*data['confidence'])/data['efforts']\n",
    "\n",
    "data[['hypothesis', 'ICE']].sort_values(by='ICE', ascending = False)"
   ]
  },
  {
   "cell_type": "markdown",
   "metadata": {},
   "source": [
    "Таким образом, 8, 0 и 7 гипотезы являются приоритетными при модели скоринга ICE"
   ]
  },
  {
   "cell_type": "markdown",
   "metadata": {},
   "source": [
    "### Фреймворк ICE для приоритизации гипотез."
   ]
  },
  {
   "cell_type": "code",
   "execution_count": 26,
   "metadata": {},
   "outputs": [
    {
     "data": {
      "text/html": [
       "<div>\n",
       "<style scoped>\n",
       "    .dataframe tbody tr th:only-of-type {\n",
       "        vertical-align: middle;\n",
       "    }\n",
       "\n",
       "    .dataframe tbody tr th {\n",
       "        vertical-align: top;\n",
       "    }\n",
       "\n",
       "    .dataframe thead th {\n",
       "        text-align: right;\n",
       "    }\n",
       "</style>\n",
       "<table border=\"1\" class=\"dataframe\">\n",
       "  <thead>\n",
       "    <tr style=\"text-align: right;\">\n",
       "      <th></th>\n",
       "      <th>hypothesis</th>\n",
       "      <th>RICE</th>\n",
       "    </tr>\n",
       "  </thead>\n",
       "  <tbody>\n",
       "    <tr>\n",
       "      <th>7</th>\n",
       "      <td>Добавить форму подписки на все основные страницы, чтобы собрать базу клиентов для email-рассылок</td>\n",
       "      <td>112.0</td>\n",
       "    </tr>\n",
       "    <tr>\n",
       "      <th>2</th>\n",
       "      <td>Добавить блоки рекомендаций товаров на сайт интернет магазина, чтобы повысить конверсию и средний чек заказа</td>\n",
       "      <td>56.0</td>\n",
       "    </tr>\n",
       "    <tr>\n",
       "      <th>0</th>\n",
       "      <td>Добавить два новых канала привлечения трафика, что позволит привлекать на 30% больше пользователей</td>\n",
       "      <td>40.0</td>\n",
       "    </tr>\n",
       "    <tr>\n",
       "      <th>6</th>\n",
       "      <td>Показать на главной странице баннеры с актуальными акциями и распродажами, чтобы увеличить конверсию</td>\n",
       "      <td>40.0</td>\n",
       "    </tr>\n",
       "    <tr>\n",
       "      <th>8</th>\n",
       "      <td>Запустить акцию, дающую скидку на товар в день рождения</td>\n",
       "      <td>16.2</td>\n",
       "    </tr>\n",
       "    <tr>\n",
       "      <th>3</th>\n",
       "      <td>Изменить структура категорий, что увеличит конверсию, т.к. пользователи быстрее найдут нужный товар</td>\n",
       "      <td>9.0</td>\n",
       "    </tr>\n",
       "    <tr>\n",
       "      <th>1</th>\n",
       "      <td>Запустить собственную службу доставки, что сократит срок доставки заказов</td>\n",
       "      <td>4.0</td>\n",
       "    </tr>\n",
       "    <tr>\n",
       "      <th>5</th>\n",
       "      <td>Добавить страницу отзывов клиентов о магазине, что позволит увеличить количество заказов</td>\n",
       "      <td>4.0</td>\n",
       "    </tr>\n",
       "    <tr>\n",
       "      <th>4</th>\n",
       "      <td>Изменить цвет фона главной страницы, чтобы увеличить вовлеченность пользователей</td>\n",
       "      <td>3.0</td>\n",
       "    </tr>\n",
       "  </tbody>\n",
       "</table>\n",
       "</div>"
      ],
      "text/plain": [
       "                                                                                                     hypothesis  \\\n",
       "7              Добавить форму подписки на все основные страницы, чтобы собрать базу клиентов для email-рассылок   \n",
       "2  Добавить блоки рекомендаций товаров на сайт интернет магазина, чтобы повысить конверсию и средний чек заказа   \n",
       "0            Добавить два новых канала привлечения трафика, что позволит привлекать на 30% больше пользователей   \n",
       "6          Показать на главной странице баннеры с актуальными акциями и распродажами, чтобы увеличить конверсию   \n",
       "8                                                       Запустить акцию, дающую скидку на товар в день рождения   \n",
       "3           Изменить структура категорий, что увеличит конверсию, т.к. пользователи быстрее найдут нужный товар   \n",
       "1                                     Запустить собственную службу доставки, что сократит срок доставки заказов   \n",
       "5                      Добавить страницу отзывов клиентов о магазине, что позволит увеличить количество заказов   \n",
       "4                              Изменить цвет фона главной страницы, чтобы увеличить вовлеченность пользователей   \n",
       "\n",
       "    RICE  \n",
       "7  112.0  \n",
       "2   56.0  \n",
       "0   40.0  \n",
       "6   40.0  \n",
       "8   16.2  \n",
       "3    9.0  \n",
       "1    4.0  \n",
       "5    4.0  \n",
       "4    3.0  "
      ]
     },
     "execution_count": 26,
     "metadata": {},
     "output_type": "execute_result"
    }
   ],
   "source": [
    "data['RICE'] = (data['reach']*data['impact']*data['confidence'])/data['efforts']\n",
    "\n",
    "data[['hypothesis', 'RICE']].sort_values(by='RICE', ascending = False)"
   ]
  },
  {
   "cell_type": "code",
   "execution_count": 27,
   "metadata": {},
   "outputs": [
    {
     "data": {
      "image/png": "[encoded data removed]",
      "text/plain": [
       "<Figure size 720x432 with 1 Axes>"
      ]
     },
     "metadata": {
      "needs_background": "light"
     },
     "output_type": "display_data"
    }
   ],
   "source": [
    "\n",
    "plt.figure(figsize=(10,6))\n",
    "plt.title('График значений метода ICE и RICE', size=15)\n",
    "sns.scatterplot(x=data['ICE'], y=data['RICE'])\n",
    "for line in range(0,data.shape[0]):\n",
    "     plt.text(data.ICE[line]+0.2, \n",
    "              data.RICE[line], \n",
    "              data.index[line], \n",
    "              horizontalalignment='left', size='medium', color='black', weight='semibold')\n",
    "plt.show()"
   ]
  },
  {
   "cell_type": "markdown",
   "metadata": {},
   "source": [
    "При применении модели приоретизации RICE в топе 7, 2 и 0 гипотезы. \n",
    "\n",
    "**Выводы:** при применении различных скоринговых моделей RICE и ICE в топе у нас разные гипотезы: ICE - 8, 0 и 7 гипотезы, RICE  в приоритете 7, 2 и 0. \n",
    "\n",
    "Различие в приоритете гипотез при применении RICE и ICE обусловлено парметром Reach (Охват пользователей). \n",
    "Парметром Reach позволяет избежать предвзятости и ответить на вопрос: сколько пользователей затронут изменения? Модель RICE позволяет оценить данный вопрос, соответственно в топ выходят гипотезы, затрагивающие максимальное количество пользователей."
   ]
  },
  {
   "cell_type": "markdown",
   "metadata": {},
   "source": [
    "## Анализ A/B-теста"
   ]
  },
  {
   "cell_type": "markdown",
   "metadata": {},
   "source": [
    "### График кумулятивной выручки по группам."
   ]
  },
  {
   "cell_type": "code",
   "execution_count": 28,
   "metadata": {},
   "outputs": [
    {
     "data": {
      "text/html": [
       "<div>\n",
       "<style scoped>\n",
       "    .dataframe tbody tr th:only-of-type {\n",
       "        vertical-align: middle;\n",
       "    }\n",
       "\n",
       "    .dataframe tbody tr th {\n",
       "        vertical-align: top;\n",
       "    }\n",
       "\n",
       "    .dataframe thead th {\n",
       "        text-align: right;\n",
       "    }\n",
       "</style>\n",
       "<table border=\"1\" class=\"dataframe\">\n",
       "  <thead>\n",
       "    <tr style=\"text-align: right;\">\n",
       "      <th></th>\n",
       "      <th>date</th>\n",
       "      <th>group</th>\n",
       "    </tr>\n",
       "  </thead>\n",
       "  <tbody>\n",
       "    <tr>\n",
       "      <th>0</th>\n",
       "      <td>2019-08-15</td>\n",
       "      <td>B</td>\n",
       "    </tr>\n",
       "    <tr>\n",
       "      <th>2</th>\n",
       "      <td>2019-08-15</td>\n",
       "      <td>A</td>\n",
       "    </tr>\n",
       "    <tr>\n",
       "      <th>45</th>\n",
       "      <td>2019-08-16</td>\n",
       "      <td>A</td>\n",
       "    </tr>\n",
       "    <tr>\n",
       "      <th>47</th>\n",
       "      <td>2019-08-16</td>\n",
       "      <td>B</td>\n",
       "    </tr>\n",
       "    <tr>\n",
       "      <th>55</th>\n",
       "      <td>2019-08-01</td>\n",
       "      <td>A</td>\n",
       "    </tr>\n",
       "    <tr>\n",
       "      <th>66</th>\n",
       "      <td>2019-08-01</td>\n",
       "      <td>B</td>\n",
       "    </tr>\n",
       "    <tr>\n",
       "      <th>85</th>\n",
       "      <td>2019-08-22</td>\n",
       "      <td>B</td>\n",
       "    </tr>\n",
       "    <tr>\n",
       "      <th>86</th>\n",
       "      <td>2019-08-22</td>\n",
       "      <td>A</td>\n",
       "    </tr>\n",
       "    <tr>\n",
       "      <th>124</th>\n",
       "      <td>2019-08-17</td>\n",
       "      <td>A</td>\n",
       "    </tr>\n",
       "    <tr>\n",
       "      <th>125</th>\n",
       "      <td>2019-08-17</td>\n",
       "      <td>B</td>\n",
       "    </tr>\n",
       "  </tbody>\n",
       "</table>\n",
       "</div>"
      ],
      "text/plain": [
       "          date group\n",
       "0   2019-08-15     B\n",
       "2   2019-08-15     A\n",
       "45  2019-08-16     A\n",
       "47  2019-08-16     B\n",
       "55  2019-08-01     A\n",
       "66  2019-08-01     B\n",
       "85  2019-08-22     B\n",
       "86  2019-08-22     A\n",
       "124 2019-08-17     A\n",
       "125 2019-08-17     B"
      ]
     },
     "execution_count": 28,
     "metadata": {},
     "output_type": "execute_result"
    }
   ],
   "source": [
    "#группируем заказы по датам и группам\n",
    "datesGroups = orders[['date', 'group']].drop_duplicates()\n",
    "datesGroups.head(10)"
   ]
  },
  {
   "cell_type": "code",
   "execution_count": 29,
   "metadata": {},
   "outputs": [
    {
     "data": {
      "text/html": [
       "<div>\n",
       "<style scoped>\n",
       "    .dataframe tbody tr th:only-of-type {\n",
       "        vertical-align: middle;\n",
       "    }\n",
       "\n",
       "    .dataframe tbody tr th {\n",
       "        vertical-align: top;\n",
       "    }\n",
       "\n",
       "    .dataframe thead th {\n",
       "        text-align: right;\n",
       "    }\n",
       "</style>\n",
       "<table border=\"1\" class=\"dataframe\">\n",
       "  <thead>\n",
       "    <tr style=\"text-align: right;\">\n",
       "      <th></th>\n",
       "      <th>date</th>\n",
       "      <th>group</th>\n",
       "      <th>transaction_id</th>\n",
       "      <th>visitor_id</th>\n",
       "      <th>revenue</th>\n",
       "    </tr>\n",
       "  </thead>\n",
       "  <tbody>\n",
       "    <tr>\n",
       "      <th>55</th>\n",
       "      <td>2019-08-01</td>\n",
       "      <td>A</td>\n",
       "      <td>24</td>\n",
       "      <td>20</td>\n",
       "      <td>148579</td>\n",
       "    </tr>\n",
       "    <tr>\n",
       "      <th>66</th>\n",
       "      <td>2019-08-01</td>\n",
       "      <td>B</td>\n",
       "      <td>21</td>\n",
       "      <td>20</td>\n",
       "      <td>101217</td>\n",
       "    </tr>\n",
       "    <tr>\n",
       "      <th>175</th>\n",
       "      <td>2019-08-02</td>\n",
       "      <td>A</td>\n",
       "      <td>44</td>\n",
       "      <td>38</td>\n",
       "      <td>242401</td>\n",
       "    </tr>\n",
       "    <tr>\n",
       "      <th>173</th>\n",
       "      <td>2019-08-02</td>\n",
       "      <td>B</td>\n",
       "      <td>45</td>\n",
       "      <td>43</td>\n",
       "      <td>266748</td>\n",
       "    </tr>\n",
       "    <tr>\n",
       "      <th>291</th>\n",
       "      <td>2019-08-03</td>\n",
       "      <td>A</td>\n",
       "      <td>68</td>\n",
       "      <td>62</td>\n",
       "      <td>354874</td>\n",
       "    </tr>\n",
       "  </tbody>\n",
       "</table>\n",
       "</div>"
      ],
      "text/plain": [
       "          date group  transaction_id  visitor_id  revenue\n",
       "55  2019-08-01     A              24          20   148579\n",
       "66  2019-08-01     B              21          20   101217\n",
       "175 2019-08-02     A              44          38   242401\n",
       "173 2019-08-02     B              45          43   266748\n",
       "291 2019-08-03     A              68          62   354874"
      ]
     },
     "execution_count": 29,
     "metadata": {},
     "output_type": "execute_result"
    }
   ],
   "source": [
    "#считаем коммулятивные количество заказов, пользователей и выручку, совершенных в дату для каждой группы\n",
    "ordersAggregated = datesGroups.apply(\n",
    "    lambda x: orders[\n",
    "        np.logical_and(\n",
    "            orders['date'] <= x['date'], orders['group'] == x['group']\n",
    "        )\n",
    "    ].agg(\n",
    "        {\n",
    "            'date': 'max',\n",
    "            'group': 'max',\n",
    "            'transaction_id': 'nunique',\n",
    "            'visitor_id': 'nunique',\n",
    "            'revenue': 'sum',\n",
    "        }\n",
    "    ),\n",
    "    axis=1,\n",
    ").sort_values(by=['date', 'group'])\n",
    "ordersAggregated.head()\n",
    "\n"
   ]
  },
  {
   "cell_type": "code",
   "execution_count": 30,
   "metadata": {},
   "outputs": [
    {
     "data": {
      "text/html": [
       "<div>\n",
       "<style scoped>\n",
       "    .dataframe tbody tr th:only-of-type {\n",
       "        vertical-align: middle;\n",
       "    }\n",
       "\n",
       "    .dataframe tbody tr th {\n",
       "        vertical-align: top;\n",
       "    }\n",
       "\n",
       "    .dataframe thead th {\n",
       "        text-align: right;\n",
       "    }\n",
       "</style>\n",
       "<table border=\"1\" class=\"dataframe\">\n",
       "  <thead>\n",
       "    <tr style=\"text-align: right;\">\n",
       "      <th></th>\n",
       "      <th>date</th>\n",
       "      <th>group</th>\n",
       "      <th>visitors</th>\n",
       "    </tr>\n",
       "  </thead>\n",
       "  <tbody>\n",
       "    <tr>\n",
       "      <th>55</th>\n",
       "      <td>2019-08-01</td>\n",
       "      <td>A</td>\n",
       "      <td>719</td>\n",
       "    </tr>\n",
       "    <tr>\n",
       "      <th>66</th>\n",
       "      <td>2019-08-01</td>\n",
       "      <td>B</td>\n",
       "      <td>713</td>\n",
       "    </tr>\n",
       "    <tr>\n",
       "      <th>175</th>\n",
       "      <td>2019-08-02</td>\n",
       "      <td>A</td>\n",
       "      <td>1338</td>\n",
       "    </tr>\n",
       "    <tr>\n",
       "      <th>173</th>\n",
       "      <td>2019-08-02</td>\n",
       "      <td>B</td>\n",
       "      <td>1294</td>\n",
       "    </tr>\n",
       "    <tr>\n",
       "      <th>291</th>\n",
       "      <td>2019-08-03</td>\n",
       "      <td>A</td>\n",
       "      <td>1845</td>\n",
       "    </tr>\n",
       "  </tbody>\n",
       "</table>\n",
       "</div>"
      ],
      "text/plain": [
       "          date group  visitors\n",
       "55  2019-08-01     A       719\n",
       "66  2019-08-01     B       713\n",
       "175 2019-08-02     A      1338\n",
       "173 2019-08-02     B      1294\n",
       "291 2019-08-03     A      1845"
      ]
     },
     "execution_count": 30,
     "metadata": {},
     "output_type": "execute_result"
    }
   ],
   "source": [
    "#Считаем количество посещений с нарастанием итога\n",
    "visitorsAggregated = datesGroups.apply(\n",
    "    lambda x: visitors[\n",
    "        np.logical_and(\n",
    "            visitors['date'] <= x['date'], visitors['group'] == x['group']\n",
    "        )\n",
    "    ].agg({'date': 'max', 'group': 'max', 'visitors': 'sum'}),\n",
    "    axis=1,\n",
    ").sort_values(by=['date', 'group'])\n",
    "visitorsAggregated.head()"
   ]
  },
  {
   "cell_type": "code",
   "execution_count": 31,
   "metadata": {},
   "outputs": [],
   "source": [
    "#соединяем дата фреймы\n",
    "cumulativeData = ordersAggregated.merge(\n",
    "    visitorsAggregated, left_on=['date', 'group'], right_on=['date', 'group']\n",
    ")\n",
    "#указываем новое название столбцов\n",
    "cumulativeData.columns = [\n",
    "    'date',\n",
    "    'group',\n",
    "    'orders',\n",
    "    'buyers',\n",
    "    'revenue',\n",
    "    'visitors',\n",
    "]\n",
    "# датафрейм с кумулятивным количеством заказов и кумулятивной выручкой по дням в группе А\n",
    "cumulativeRevenueA = cumulativeData[cumulativeData['group']=='A'][['date','revenue', 'orders', 'visitors']]\n",
    "\n",
    "# датафрейм с кумулятивным количеством заказов и кумулятивной выручкой по дням в группе B\n",
    "cumulativeRevenueB = cumulativeData[cumulativeData['group']=='B'][['date','revenue', 'orders', 'visitors']]\n"
   ]
  },
  {
   "cell_type": "code",
   "execution_count": 32,
   "metadata": {},
   "outputs": [
    {
     "data": {
      "image/png": "[encoded data removed]",
      "text/plain": [
       "<Figure size 720x432 with 1 Axes>"
      ]
     },
     "metadata": {
      "needs_background": "light"
     },
     "output_type": "display_data"
    }
   ],
   "source": [
    "plt.figure(figsize=(10,6))\n",
    "\n",
    "# Строим график выручки группы А\n",
    "plt.plot(cumulativeRevenueA['date'], cumulativeRevenueA['revenue'], label='A')\n",
    "\n",
    "# Строим график выручки группы B\n",
    "\n",
    "plt.plot(cumulativeRevenueB['date'], cumulativeRevenueB['revenue'], label='B')\n",
    "\n",
    "plt.tick_params(axis='x', labelsize=8)\n",
    "plt.grid()\n",
    "plt.title('График кумулятивной выручки по группам')\n",
    "plt.xlabel('Дата')\n",
    "plt.ylabel('Кумулятивная выручка')\n",
    "plt.xticks(rotation=45)\n",
    "plt.legend() \n",
    "\n",
    "plt.show()"
   ]
  },
  {
   "cell_type": "markdown",
   "metadata": {},
   "source": [
    "По графику прослеживается лидирование группы В по размеру кумулятивной выручки. Определяется скачок значений выручки 18-19 августа, что может говорить об аномально большом заказе или их количестве."
   ]
  },
  {
   "cell_type": "markdown",
   "metadata": {},
   "source": [
    "### График кумулятивного среднего чека по группам. "
   ]
  },
  {
   "cell_type": "code",
   "execution_count": 33,
   "metadata": {},
   "outputs": [
    {
     "data": {
      "image/png": "[encoded data removed]",
      "text/plain": [
       "<Figure size 720x432 with 1 Axes>"
      ]
     },
     "metadata": {
      "needs_background": "light"
     },
     "output_type": "display_data"
    }
   ],
   "source": [
    "plt.figure(figsize=(10,6))\n",
    "\n",
    "plt.plot(cumulativeRevenueA['date'], cumulativeRevenueA['revenue']/cumulativeRevenueA['orders'], label='A')\n",
    "\n",
    "plt.plot(cumulativeRevenueB['date'], cumulativeRevenueB['revenue']/cumulativeRevenueB['orders'], label='B')\n",
    "\n",
    "plt.tick_params(axis='x', labelsize=8)\n",
    "plt.grid()\n",
    "plt.title('График кумулятивного среднего чека по группам')\n",
    "plt.xlabel('Дата')\n",
    "plt.xticks(rotation=45)\n",
    "plt.legend() \n",
    "\n",
    "plt.show()"
   ]
  },
  {
   "cell_type": "markdown",
   "metadata": {},
   "source": [
    "На данном графике так же прослеживается скачок значений группы В 18 августа, в группе А - 13 августа. Видно, что в эти даты были совершены крупные, не типичные заказы."
   ]
  },
  {
   "cell_type": "markdown",
   "metadata": {},
   "source": [
    "### График относительного изменения кумулятивного среднего чека группы B к группе A. "
   ]
  },
  {
   "cell_type": "markdown",
   "metadata": {},
   "source": [
    "Результаты теста менялись значительно в несколько дат. Вероятно именно тогда были совершенны аномальные заказы."
   ]
  },
  {
   "cell_type": "code",
   "execution_count": 34,
   "metadata": {},
   "outputs": [
    {
     "data": {
      "image/png": "[encoded data removed]",
      "text/plain": [
       "<Figure size 720x432 with 1 Axes>"
      ]
     },
     "metadata": {
      "needs_background": "light"
     },
     "output_type": "display_data"
    }
   ],
   "source": [
    "# собираем данные в одном датафрейме\n",
    "mergedCumulativeRevenue = cumulativeRevenueA.merge(cumulativeRevenueB, left_on='date', right_on='date', how='left', suffixes=['A', 'B'])\n",
    "plt.figure(figsize=(10,6))\n",
    "# cтроим отношение средних чеков\n",
    "plt.plot(mergedCumulativeRevenue['date'], (mergedCumulativeRevenue['revenueB']/mergedCumulativeRevenue['ordersB'])/(mergedCumulativeRevenue['revenueA']/mergedCumulativeRevenue['ordersA'])-1)\n",
    "\n",
    "# добавляем ось X\n",
    "plt.axhline(y=0, color='black', linestyle='--') \n",
    "\n",
    "plt.grid()\n",
    "plt.title('График относительного изменения кумулятивного среднего чека группы B к группе A')\n",
    "plt.xlabel('Дата')\n",
    "plt.xticks(rotation=45)\n",
    "\n",
    "plt.show()"
   ]
  },
  {
   "cell_type": "markdown",
   "metadata": {},
   "source": [
    "На графике видно, что средний чек группы В, не всегда превышает средничий чек группы А. Группа В по значению среднего чека не может закрепится на одном уровне, это может объсняется анамально большими заказми."
   ]
  },
  {
   "cell_type": "markdown",
   "metadata": {},
   "source": [
    "### График кумулятивного среднего количества заказов на посетителя по группам. "
   ]
  },
  {
   "cell_type": "code",
   "execution_count": 35,
   "metadata": {},
   "outputs": [
    {
     "data": {
      "image/png": "[encoded data removed]",
      "text/plain": [
       "<Figure size 720x432 with 1 Axes>"
      ]
     },
     "metadata": {
      "needs_background": "light"
     },
     "output_type": "display_data"
    }
   ],
   "source": [
    "plt.figure(figsize=(10,6))\n",
    "\n",
    "plt.plot(cumulativeRevenueA['date'], cumulativeRevenueA['orders']/cumulativeRevenueA['visitors'], label='A')\n",
    "\n",
    "plt.plot(cumulativeRevenueB['date'], cumulativeRevenueB['orders']/cumulativeRevenueB['visitors'], label='B')\n",
    "\n",
    "plt.tick_params(axis='x', labelsize=8)\n",
    "plt.grid()\n",
    "plt.title('График кумулятивного среднего количества заказов на посетителя по группам')\n",
    "plt.xlabel('Дата')\n",
    "plt.xticks(rotation=45)\n",
    "plt.legend() \n",
    "\n",
    "plt.show()"
   ]
  },
  {
   "cell_type": "markdown",
   "metadata": {},
   "source": [
    "Пользователи группы В делают в среднем большее количество заказов."
   ]
  },
  {
   "cell_type": "markdown",
   "metadata": {},
   "source": [
    "### График относительного изменения кумулятивного среднего количества заказов на посетителя группы B к группе A. "
   ]
  },
  {
   "cell_type": "code",
   "execution_count": 36,
   "metadata": {},
   "outputs": [
    {
     "data": {
      "image/png": "[encoded data removed]",
      "text/plain": [
       "<Figure size 720x432 with 1 Axes>"
      ]
     },
     "metadata": {
      "needs_background": "light"
     },
     "output_type": "display_data"
    }
   ],
   "source": [
    "plt.figure(figsize=(10,6))\n",
    "# cтроим отношение средних чеков\n",
    "plt.plot(mergedCumulativeRevenue['date'], (mergedCumulativeRevenue['ordersB']/mergedCumulativeRevenue['visitorsB'])/(mergedCumulativeRevenue['ordersA']/mergedCumulativeRevenue['visitorsA'])-1)\n",
    "\n",
    "# добавляем ось X\n",
    "plt.axhline(y=0, color='black', linestyle='--') \n",
    "\n",
    "plt.grid()\n",
    "plt.title('График относительного изменения среднего количества заказов на посетителя группы B к группе A')\n",
    "plt.xlabel('Дата')\n",
    "plt.xticks(rotation=45)\n",
    "\n",
    "plt.show()"
   ]
  },
  {
   "cell_type": "markdown",
   "metadata": {},
   "source": [
    "С начала теста по количеству заказов на посетителя лидировала группа А. с 5 по 9 августа произошло резкое увеличение среднего количества заказов  на покупателя в группе В, что может говорить либо о большом количестве заказов, сделанных группой В, либо об уменьшении количества регистрируемых пользователей."
   ]
  },
  {
   "cell_type": "markdown",
   "metadata": {},
   "source": [
    "### Точечный график количества заказов по пользователям."
   ]
  },
  {
   "cell_type": "code",
   "execution_count": 37,
   "metadata": {},
   "outputs": [
    {
     "data": {
      "text/html": [
       "<div>\n",
       "<style scoped>\n",
       "    .dataframe tbody tr th:only-of-type {\n",
       "        vertical-align: middle;\n",
       "    }\n",
       "\n",
       "    .dataframe tbody tr th {\n",
       "        vertical-align: top;\n",
       "    }\n",
       "\n",
       "    .dataframe thead th {\n",
       "        text-align: right;\n",
       "    }\n",
       "</style>\n",
       "<table border=\"1\" class=\"dataframe\">\n",
       "  <thead>\n",
       "    <tr style=\"text-align: right;\">\n",
       "      <th></th>\n",
       "      <th>visitor_id</th>\n",
       "      <th>orders</th>\n",
       "    </tr>\n",
       "  </thead>\n",
       "  <tbody>\n",
       "    <tr>\n",
       "      <th>1023</th>\n",
       "      <td>4256040402</td>\n",
       "      <td>11</td>\n",
       "    </tr>\n",
       "    <tr>\n",
       "      <th>591</th>\n",
       "      <td>2458001652</td>\n",
       "      <td>11</td>\n",
       "    </tr>\n",
       "    <tr>\n",
       "      <th>569</th>\n",
       "      <td>2378935119</td>\n",
       "      <td>9</td>\n",
       "    </tr>\n",
       "    <tr>\n",
       "      <th>487</th>\n",
       "      <td>2038680547</td>\n",
       "      <td>8</td>\n",
       "    </tr>\n",
       "    <tr>\n",
       "      <th>44</th>\n",
       "      <td>199603092</td>\n",
       "      <td>5</td>\n",
       "    </tr>\n",
       "    <tr>\n",
       "      <th>744</th>\n",
       "      <td>3062433592</td>\n",
       "      <td>5</td>\n",
       "    </tr>\n",
       "    <tr>\n",
       "      <th>55</th>\n",
       "      <td>237748145</td>\n",
       "      <td>5</td>\n",
       "    </tr>\n",
       "    <tr>\n",
       "      <th>917</th>\n",
       "      <td>3803269165</td>\n",
       "      <td>5</td>\n",
       "    </tr>\n",
       "    <tr>\n",
       "      <th>299</th>\n",
       "      <td>1230306981</td>\n",
       "      <td>5</td>\n",
       "    </tr>\n",
       "    <tr>\n",
       "      <th>897</th>\n",
       "      <td>3717692402</td>\n",
       "      <td>5</td>\n",
       "    </tr>\n",
       "  </tbody>\n",
       "</table>\n",
       "</div>"
      ],
      "text/plain": [
       "      visitor_id  orders\n",
       "1023  4256040402      11\n",
       "591   2458001652      11\n",
       "569   2378935119       9\n",
       "487   2038680547       8\n",
       "44     199603092       5\n",
       "744   3062433592       5\n",
       "55     237748145       5\n",
       "917   3803269165       5\n",
       "299   1230306981       5\n",
       "897   3717692402       5"
      ]
     },
     "execution_count": 37,
     "metadata": {},
     "output_type": "execute_result"
    }
   ],
   "source": [
    "ordersByUsers = (\n",
    "    orders.groupby('visitor_id', as_index=False)\n",
    "    .agg({'transaction_id': 'nunique'})\n",
    ")\n",
    "ordersByUsers.columns = ['visitor_id', 'orders']\n",
    "\n",
    "ordersByUsers.sort_values(by='orders', ascending=False).head(10)"
   ]
  },
  {
   "cell_type": "code",
   "execution_count": 38,
   "metadata": {},
   "outputs": [
    {
     "data": {
      "image/png": "[encoded data removed]",
      "text/plain": [
       "<Figure size 720x432 with 1 Axes>"
      ]
     },
     "metadata": {
      "needs_background": "light"
     },
     "output_type": "display_data"
    }
   ],
   "source": [
    "plt.figure(figsize=(10,6))\n",
    "x_values = pd.Series(range(0, len(ordersByUsers)))\n",
    "plt.scatter(x_values, ordersByUsers['orders']) \n",
    "# серия из чисел от 0 до количества наблюдений в ordersByUsers\n",
    "plt.title('График количества заказов по пользователям')\n",
    "plt.ylabel('Количество заказов на одного пользователя')\n",
    "plt.show()"
   ]
  },
  {
   "cell_type": "markdown",
   "metadata": {},
   "source": [
    "Есть пользователи, совершающие большее количество заказов. "
   ]
  },
  {
   "cell_type": "markdown",
   "metadata": {},
   "source": [
    "### Расчет 95-й и 99-й перцентили количества заказов на пользователя."
   ]
  },
  {
   "cell_type": "code",
   "execution_count": 39,
   "metadata": {},
   "outputs": [
    {
     "data": {
      "text/plain": [
       "array([2., 4.])"
      ]
     },
     "execution_count": 39,
     "metadata": {},
     "output_type": "execute_result"
    }
   ],
   "source": [
    "np.percentile(ordersByUsers['orders'], [95, 99])\n"
   ]
  },
  {
   "cell_type": "markdown",
   "metadata": {},
   "source": [
    "95 % пользователей делают 1-2 заказа, 99 % пользователей совершают до 4 заказов. Определим аномальных пользователей - совершающих более 4 заказов, создадим переменную per_orders."
   ]
  },
  {
   "cell_type": "code",
   "execution_count": 40,
   "metadata": {},
   "outputs": [],
   "source": [
    "per_orders = np.percentile(ordersByUsers['orders'], [95])"
   ]
  },
  {
   "cell_type": "markdown",
   "metadata": {},
   "source": [
    "### Точечный график стоимостей заказов."
   ]
  },
  {
   "cell_type": "code",
   "execution_count": 41,
   "metadata": {},
   "outputs": [
    {
     "data": {
      "image/png": "[encoded data removed]",
      "text/plain": [
       "<Figure size 720x432 with 1 Axes>"
      ]
     },
     "metadata": {
      "needs_background": "light"
     },
     "output_type": "display_data"
    }
   ],
   "source": [
    "plt.figure(figsize=(10,6))\n",
    "x_values = pd.Series(range(0,len(orders['revenue'])))\n",
    "plt.scatter(x_values, orders['revenue'])\n",
    "plt.title('График стоимости заказов по пользователям')\n",
    "plt.ylabel('Стоимость заказа на одного пользователя')\n",
    "plt.show()"
   ]
  },
  {
   "cell_type": "markdown",
   "metadata": {},
   "source": [
    "По графику мы также видим аномально большие по сумме заказы."
   ]
  },
  {
   "cell_type": "markdown",
   "metadata": {},
   "source": [
    "### Расчет 95-й и 99-й перцентили стоимости заказов. "
   ]
  },
  {
   "cell_type": "code",
   "execution_count": 42,
   "metadata": {},
   "outputs": [
    {
     "data": {
      "text/plain": [
       "array([28000. , 58233.2])"
      ]
     },
     "execution_count": 42,
     "metadata": {},
     "output_type": "execute_result"
    }
   ],
   "source": [
    "np.percentile(orders['revenue'], [95, 99])\n"
   ]
  },
  {
   "cell_type": "markdown",
   "metadata": {},
   "source": [
    "95 % пользователей делают заказы на сумму до 28000, 99 % пользователей совершают заказы на сумму до 58233.2. Определим аномальных пользователей - совершающих заказы на сумму до 28000, создадим переменную per_revenue."
   ]
  },
  {
   "cell_type": "code",
   "execution_count": 43,
   "metadata": {},
   "outputs": [],
   "source": [
    "per_revenue = np.percentile(orders['revenue'], [95])"
   ]
  },
  {
   "cell_type": "markdown",
   "metadata": {},
   "source": [
    "### Статистическая значимость различий в среднем количестве заказов на посетителя между группами по «сырым» данным. "
   ]
  },
  {
   "cell_type": "markdown",
   "metadata": {},
   "source": [
    "Определим нулевую гипотезу Н0 - различий в среднем количестве заказов на посетителя между группами по «сырым» данным нет.\n",
    "\n",
    "Альтернативная гипотеза Н1 - различиz в среднем количестве заказов на посетителя между группами по «сырым» данным есть.\n",
    "\n",
    "Уровень статистической значимости aльфа установим - 0,05"
   ]
  },
  {
   "cell_type": "code",
   "execution_count": 44,
   "metadata": {},
   "outputs": [],
   "source": [
    "visitorsADaily = visitors[visitors['group'] == 'A'][['date', 'visitors']]\n",
    "visitorsADaily.columns = ['date', 'visitorsPerDateA']\n",
    "\n",
    "visitorsACummulative = visitorsADaily.apply(\n",
    "    lambda x: visitorsADaily[visitorsADaily['date'] <= x['date']].agg(\n",
    "        {'date': 'max', 'visitorsPerDateA': 'sum'}\n",
    "    ),\n",
    "    axis=1,\n",
    ")\n",
    "visitorsACummulative.columns = ['date', 'visitorsCummulativeA']\n",
    "\n",
    "visitorsBDaily = visitors[visitors['group'] == 'B'][['date', 'visitors']]\n",
    "visitorsBDaily.columns = ['date', 'visitorsPerDateB']\n",
    "\n",
    "visitorsBCummulative = visitorsBDaily.apply(\n",
    "    lambda x: visitorsBDaily[visitorsBDaily['date'] <= x['date']].agg(\n",
    "        {'date': 'max', 'visitorsPerDateB': 'sum'}\n",
    "    ),\n",
    "    axis=1,\n",
    ")\n",
    "visitorsBCummulative.columns = ['date', 'visitorsCummulativeB']\n",
    "\n",
    "ordersADaily = (\n",
    "    orders[orders['group'] == 'A'][['date', 'transaction_id', 'visitor_id', 'revenue']]\n",
    "    .groupby('date', as_index=False)\n",
    "    .agg({'transaction_id': pd.Series.nunique, 'revenue': 'sum'})\n",
    ")\n",
    "ordersADaily.columns = ['date', 'ordersPerDateA', 'revenuePerDateA']\n",
    "\n",
    "ordersACummulative = ordersADaily.apply(\n",
    "    lambda x: ordersADaily[ordersADaily['date'] <= x['date']].agg(\n",
    "        {'date': 'max', 'ordersPerDateA': 'sum', 'revenuePerDateA': 'sum'}\n",
    "    ),\n",
    "    axis=1,\n",
    ").sort_values(by=['date'])\n",
    "ordersACummulative.columns = [\n",
    "    'date',\n",
    "    'ordersCummulativeA',\n",
    "    'revenueCummulativeA',\n",
    "]\n",
    "\n",
    "ordersBDaily = (\n",
    "    orders[orders['group'] == 'B'][['date', 'transaction_id', 'visitor_id', 'revenue']]\n",
    "    .groupby('date', as_index=False)\n",
    "    .agg({'transaction_id': pd.Series.nunique, 'revenue': 'sum'})\n",
    ")\n",
    "ordersBDaily.columns = ['date', 'ordersPerDateB', 'revenuePerDateB']\n",
    "\n",
    "ordersBCummulative = ordersBDaily.apply(\n",
    "    lambda x: ordersBDaily[ordersBDaily['date'] <= x['date']].agg(\n",
    "        {'date': 'max', 'ordersPerDateB': 'sum', 'revenuePerDateB': 'sum'}\n",
    "    ),\n",
    "    axis=1,\n",
    ").sort_values(by=['date'])\n",
    "ordersBCummulative.columns = [\n",
    "    'date',\n",
    "    'ordersCummulativeB',\n",
    "    'revenueCummulativeB',\n",
    "]\n",
    "\n",
    "data = (\n",
    "    ordersADaily.merge(\n",
    "        ordersBDaily, left_on='date', right_on='date', how='left'\n",
    "    )\n",
    "    .merge(ordersACummulative, left_on='date', right_on='date', how='left')\n",
    "    .merge(ordersBCummulative, left_on='date', right_on='date', how='left')\n",
    "    .merge(visitorsADaily, left_on='date', right_on='date', how='left')\n",
    "    .merge(visitorsBDaily, left_on='date', right_on='date', how='left')\n",
    "    .merge(visitorsACummulative, left_on='date', right_on='date', how='left')\n",
    "    .merge(visitorsBCummulative, left_on='date', right_on='date', how='left')\n",
    ")\n",
    "\n",
    "ordersByUsersA = (\n",
    "    orders[orders['group'] == 'A']\n",
    "    .groupby('visitor_id', as_index=False)\n",
    "    .agg({'transaction_id': pd.Series.nunique})\n",
    ")\n",
    "ordersByUsersA.columns = ['visitor_id', 'orders']\n",
    "\n",
    "ordersByUsersB = (\n",
    "    orders[orders['group'] == 'B']\n",
    "    .groupby('visitor_id', as_index=False)\n",
    "    .agg({'transaction_id': pd.Series.nunique})\n",
    ")\n",
    "ordersByUsersB.columns = ['visitor_id', 'orders'] "
   ]
  },
  {
   "cell_type": "code",
   "execution_count": 45,
   "metadata": {},
   "outputs": [
    {
     "name": "stdout",
     "output_type": "stream",
     "text": [
      "P-value равен 0.017\n",
      "Относительный прирост в среднем количестве заказов на посетителя 0.138\n",
      "Отвергаем нулевую гипотезу\n"
     ]
    }
   ],
   "source": [
    "sampleA = pd.concat(\n",
    "    [\n",
    "        ordersByUsersA['orders'],\n",
    "        pd.Series(\n",
    "            0,\n",
    "            index=np.arange(\n",
    "                data['visitorsPerDateA'].sum() - len(ordersByUsersA['orders'])\n",
    "            ),\n",
    "            name='orders',\n",
    "        ),\n",
    "    ],\n",
    "    axis=0,\n",
    ")\n",
    "\n",
    "sampleB = pd.concat(\n",
    "    [\n",
    "        ordersByUsersB['orders'],\n",
    "        pd.Series(\n",
    "            0,\n",
    "            index=np.arange(\n",
    "                data['visitorsPerDateB'].sum() - len(ordersByUsersB['orders'])\n",
    "            ),\n",
    "            name='orders',\n",
    "        ),\n",
    "    ],\n",
    "    axis=0,\n",
    ")\n",
    "alpha = .05\n",
    "\n",
    "print('P-value равен {0:.3f}'.format(stats.mannwhitneyu(sampleA, sampleB)[1]))\n",
    "\n",
    "print('Относительный прирост в среднем количестве заказов на посетителя {0:.3f}'.format(sampleB.mean() / sampleA.mean() - 1))\n",
    "\n",
    "if (stats.mannwhitneyu(sampleA, sampleB)[1]) < alpha:\n",
    "    print(\"Отвергаем нулевую гипотезу\")\n",
    "else:\n",
    "    print(\"Не отвергаем нулевую гипотезу\") "
   ]
  },
  {
   "cell_type": "markdown",
   "metadata": {},
   "source": [
    "Нулевая гипотеза о равенстве двух групп отвергнута. По результатам обработки \"сырых\" данных статистически значимые различия между группами А и В есть. Относительный прирост в среднем количестве заказов на посетителя группы B к группе А равен 13.8%, что говорит о лидировании группы В по количеству заказов на посетителя.\n"
   ]
  },
  {
   "cell_type": "markdown",
   "metadata": {},
   "source": [
    "### Статистическая значимость различий в среднем чеке между группами по «сырым» данным. "
   ]
  },
  {
   "cell_type": "markdown",
   "metadata": {},
   "source": [
    "Определим нулевую гипотезу Н0 -различий в среднем чеке между группами по «сырым» данным нет.\n",
    "\n",
    "Альтернативная гипотеза Н1 - различия в среднем чеке между группами по «сырым» данным есть. \n",
    "\n",
    "Уровень статистической значимости aльфа установим - 0,05"
   ]
  },
  {
   "cell_type": "code",
   "execution_count": 46,
   "metadata": {},
   "outputs": [
    {
     "name": "stdout",
     "output_type": "stream",
     "text": [
      "P-value 0.729\n",
      "Относительное различие среднего чека между группами 0.259\n",
      "Не отвергаем нулевую гипотезу\n"
     ]
    }
   ],
   "source": [
    "alpha = .05\n",
    "\n",
    "print('P-value {0:.3f}'.format(stats.mannwhitneyu(orders[orders['group']=='A']['revenue'], orders[orders['group']=='B']['revenue'])[1]))\n",
    "print('Относительное различие среднего чека между группами {0:.3f}'.format(orders[orders['group']=='B']['revenue'].mean()/orders[orders['group']=='A']['revenue'].mean()-1))\n",
    "\n",
    "if ((stats.mannwhitneyu(orders[orders['group']=='A']['revenue'], orders[orders['group']=='B']['revenue'])[1]) < alpha):\n",
    "    print(\"Отвергаем нулевую гипотезу\")\n",
    "else:\n",
    "    print(\"Не отвергаем нулевую гипотезу\") "
   ]
  },
  {
   "cell_type": "markdown",
   "metadata": {},
   "source": [
    "Поскольку уровень статистической значимости равен 0.729, что больше значения альфа, отвергнуть нулевую гипотезу мы не можем.  При этом относительный прирост в среднем значении среднего чека группы B к группе А равен 25.9%. Возможно на значение относительного прироста влияют выбросы."
   ]
  },
  {
   "cell_type": "markdown",
   "metadata": {},
   "source": [
    "### Статистическая значимость различий в среднем количестве заказов на посетителя между группами по «очищенным» данным. "
   ]
  },
  {
   "cell_type": "markdown",
   "metadata": {},
   "source": [
    "Определим нулевую гипотезу Н0 - различий в среднем количестве заказов на посетителя между группами по «очищенным» данным нет.\n",
    "\n",
    "Альтернативная гипотеза Н1 - различия в среднем количестве заказов на посетителя между группами по «очищенным» данным есть.\n",
    "\n",
    "Уровень статистической значимости aльфа установим - 0,05."
   ]
  },
  {
   "cell_type": "code",
   "execution_count": 47,
   "metadata": {},
   "outputs": [],
   "source": [
    "#создаем дф с \"очищенными\" данными\n",
    "usersWithManyOrders = pd.concat(\n",
    "    [\n",
    "        ordersByUsersA[ordersByUsersA['orders'] > per_orders[0]]['visitor_id'],\n",
    "        ordersByUsersB[ordersByUsersB['orders'] > per_orders[0]]['visitor_id']\n",
    "    ],\n",
    "    axis=0,\n",
    ")\n",
    "usersWithExpensiveOrders = orders[orders['revenue'] > per_revenue[0]]['visitor_id']\n",
    "abnormalUsers = (\n",
    "    pd.concat([usersWithManyOrders, usersWithExpensiveOrders], axis=0)\n",
    "    .drop_duplicates()\n",
    "    .sort_values()\n",
    ")"
   ]
  },
  {
   "cell_type": "code",
   "execution_count": 48,
   "metadata": {},
   "outputs": [
    {
     "name": "stdout",
     "output_type": "stream",
     "text": [
      "P-value 0.01304\n",
      "Относительное различие среднего чека между группами 0.173\n",
      "Отвергаем нулевую гипотезу\n"
     ]
    }
   ],
   "source": [
    "sampleAFiltered = pd.concat(\n",
    "    [\n",
    "        ordersByUsersA[\n",
    "            np.logical_not(ordersByUsersA['visitor_id'].isin(abnormalUsers))\n",
    "        ]['orders'],\n",
    "        pd.Series(\n",
    "            0,\n",
    "            index=np.arange(\n",
    "                data['visitorsPerDateA'].sum() - len(ordersByUsersA['orders'])\n",
    "            ),\n",
    "            name='orders',\n",
    "        ),\n",
    "    ],\n",
    "    axis=0,\n",
    ")\n",
    "\n",
    "sampleBFiltered = pd.concat(\n",
    "    [\n",
    "        ordersByUsersB[\n",
    "            np.logical_not(ordersByUsersB['visitor_id'].isin(abnormalUsers))\n",
    "        ]['orders'],\n",
    "        pd.Series(\n",
    "            0,\n",
    "            index=np.arange(\n",
    "                data['visitorsPerDateB'].sum() - len(ordersByUsersB['orders'])\n",
    "            ),\n",
    "            name='orders',\n",
    "        ),\n",
    "    ],\n",
    "    axis=0,\n",
    ") \n",
    "alpha = .05\n",
    "print('P-value {0:.5f}'.format(stats.mannwhitneyu(sampleAFiltered, sampleBFiltered)[1]))\n",
    "print('Относительное различие среднего чека между группами {0:.3f}'.format(sampleBFiltered.mean()/sampleAFiltered.mean()-1)) \n",
    "\n",
    "if (stats.mannwhitneyu(sampleAFiltered, sampleBFiltered)[1]) < alpha:\n",
    "    print(\"Отвергаем нулевую гипотезу\")\n",
    "else:\n",
    "    print(\"Не отвергаем нулевую гипотезу\") "
   ]
  },
  {
   "cell_type": "markdown",
   "metadata": {},
   "source": [
    "После удаления выбросов в данных, результаты теста не изменились. Нулевую гипотезу так же отвергаем,  а значит среднее количество заказов на посетителя по «очищенным» данным у группы В больше группы А. Относительный прирост в среднем количестве заказов на посетителя группы B к группе А равен 17,3%."
   ]
  },
  {
   "cell_type": "markdown",
   "metadata": {},
   "source": [
    "### Статистическая значимость различий в среднем чеке заказа между группами по «очищенным» данным."
   ]
  },
  {
   "cell_type": "markdown",
   "metadata": {},
   "source": [
    "Определим нулевую гипотезу Н0 - различий в среднем чеке между группами по «очищенным» данным нет.\n",
    "\n",
    "Альтернативная гипотеза Н1 - различия в среднем чеке между группами по «очищенным» данным есть. \n",
    "\n",
    "Уровень статистической значимости aльфа установим - 0,05"
   ]
  },
  {
   "cell_type": "code",
   "execution_count": 49,
   "metadata": {},
   "outputs": [
    {
     "name": "stdout",
     "output_type": "stream",
     "text": [
      "P-value 0.738\n",
      "Относительное различие среднего чека между группами -0.020\n",
      "Не отвергаем нулевую гипотезу\n"
     ]
    }
   ],
   "source": [
    "alpha = .05\n",
    "resalt1 = stats.mannwhitneyu(\n",
    "    orders[\n",
    "        np.logical_and(\n",
    "            orders['group'] == 'A',\n",
    "            np.logical_not(orders['visitor_id'].isin(abnormalUsers)),\n",
    "        )\n",
    "    ]['revenue'],\n",
    "    orders[\n",
    "        np.logical_and(\n",
    "            orders['group'] == 'B',\n",
    "            np.logical_not(orders['visitor_id'].isin(abnormalUsers)),\n",
    "        )\n",
    "    ]['revenue'],\n",
    ")[1]\n",
    "\n",
    "resalt2 = orders[\n",
    "    np.logical_and(\n",
    "        orders['group'] == 'B',\n",
    "        np.logical_not(orders['visitor_id'].isin(abnormalUsers)),\n",
    "    )\n",
    "]['revenue'].mean()/orders[\n",
    "    np.logical_and(\n",
    "        orders['group'] == 'A',\n",
    "        np.logical_not(orders['visitor_id'].isin(abnormalUsers)),\n",
    "    )\n",
    "]['revenue'].mean() - 1\n",
    "\n",
    "\n",
    "print(\n",
    "    'P-value {0:.3f}'.format(resalt1)\n",
    ")\n",
    "\n",
    "print(\n",
    "    \"Относительное различие среднего чека между группами {0:.3f}\".format(resalt2)\n",
    ") \n",
    "\n",
    "\n",
    "if (resalt1 < alpha):\n",
    "    print(\"Отвергаем нулевую гипотезу\")\n",
    "else:\n",
    "    print(\"Не отвергаем нулевую гипотезу\") "
   ]
  },
  {
   "cell_type": "markdown",
   "metadata": {},
   "source": [
    "Статистически значимых отличий в среднем чеке между группами нет. При проведении теста на очищенных от аномальных выбросов данных, мы получили относительное различие среднего чека между группами -2%, что указывает на то, что средний чек заказа группы В меньше среднего чека группы А. "
   ]
  },
  {
   "cell_type": "markdown",
   "metadata": {},
   "source": [
    "### Выводы по результатам теста"
   ]
  },
  {
   "cell_type": "markdown",
   "metadata": {},
   "source": [
    "По результатам проведенного анализа, на чистых данных, была выявлена статестическая значимость в конверсии (среднем количестве заказов на посетителя), конверсия в группе В выше на 17,3 %. \n",
    "\n",
    "В среднем чеке групп не найдено статистически значимых различий, несмотря на то, что средний чек группы В немного меньше.\n",
    "\n",
    "Учитывая,  группа В имеет конверсию больше, чем у группы А, и больший размер куммулитивной выручки, принимаем решение остановить тест и зафиксировать победу группы В."
   ]
  },
  {
   "cell_type": "markdown",
   "metadata": {},
   "source": [
    "## Общий вывод"
   ]
  },
  {
   "cell_type": "markdown",
   "metadata": {},
   "source": [
    "Нами были проанализированны данные и проведен А/В- тест. Пропусков значений и полных дубликатов строк не найдено. Количество пользователей в различных группах различается не более, чем на 1%, что является статитстически допустимым.\n",
    "\n",
    "Было обнаружено, что 58 пользователей одновременно оказались в двух группах теста. Рекомендовано: перед проведение А/В-теста тщательно проверять выборки и исключать возможно попадания пользователей в обе группы одвновременно.\n",
    "\n",
    "В рамках проекта были пиоретизированы гипотезы по двум моделям скоринга RICE и ICE. \n",
    "\n",
    "По результатам проведенного А/В-теста, на очищенных от выбросаов данных, была выявлена статестическая значимость в конверсии (среднем количестве заказов на посетителя), конверсия в группе В выше на 17,3 %. \n",
    "\n",
    "Напротив в среднем чеке групп не найдено статистически значимых различий, относительное различие среднего чека между группами -2%, что указывает на то, что средний чек заказа группы В меньше среднего чека группы А. \n",
    "\n",
    "Учитывая выше сказанное, принято решение остановить тест и зафиксировать победу группы В.\n"
   ]
  }
 ],
 "metadata": {
  "ExecuteTimeLog": [
   {
    "duration": 784,
    "start_time": "2023-01-04T09:51:02.496Z"
   },
   {
    "duration": 60,
    "start_time": "2023-01-04T09:51:04.769Z"
   },
   {
    "duration": 3,
    "start_time": "2023-01-04T09:51:23.081Z"
   },
   {
    "duration": 14,
    "start_time": "2023-01-04T09:51:32.473Z"
   },
   {
    "duration": 7,
    "start_time": "2023-01-04T09:52:05.874Z"
   },
   {
    "duration": 8,
    "start_time": "2023-01-04T09:54:17.314Z"
   },
   {
    "duration": 11,
    "start_time": "2023-01-04T09:56:32.346Z"
   },
   {
    "duration": 6,
    "start_time": "2023-01-04T09:56:58.594Z"
   },
   {
    "duration": 5,
    "start_time": "2023-01-04T09:57:52.179Z"
   },
   {
    "duration": 95,
    "start_time": "2023-01-04T10:03:05.382Z"
   },
   {
    "duration": 9,
    "start_time": "2023-01-04T10:03:59.446Z"
   },
   {
    "duration": 8,
    "start_time": "2023-01-04T10:04:08.854Z"
   },
   {
    "duration": 10,
    "start_time": "2023-01-04T10:04:28.608Z"
   },
   {
    "duration": 6,
    "start_time": "2023-01-04T10:04:58.024Z"
   },
   {
    "duration": 6,
    "start_time": "2023-01-04T10:05:13.143Z"
   },
   {
    "duration": 829,
    "start_time": "2023-01-04T10:11:47.280Z"
   },
   {
    "duration": 3,
    "start_time": "2023-01-04T10:16:48.752Z"
   },
   {
    "duration": 4,
    "start_time": "2023-01-04T10:18:53.745Z"
   },
   {
    "duration": 4,
    "start_time": "2023-01-04T10:19:41.540Z"
   },
   {
    "duration": 4,
    "start_time": "2023-01-04T10:19:44.250Z"
   },
   {
    "duration": 11,
    "start_time": "2023-01-04T10:20:05.465Z"
   },
   {
    "duration": 12,
    "start_time": "2023-01-04T10:20:54.249Z"
   },
   {
    "duration": 10,
    "start_time": "2023-01-04T10:21:39.298Z"
   },
   {
    "duration": 9,
    "start_time": "2023-01-04T10:40:07.432Z"
   },
   {
    "duration": 771,
    "start_time": "2023-01-04T10:40:21.160Z"
   },
   {
    "duration": 583,
    "start_time": "2023-01-04T10:40:49.688Z"
   },
   {
    "duration": 649,
    "start_time": "2023-01-04T10:44:07.848Z"
   },
   {
    "duration": 614,
    "start_time": "2023-01-04T10:44:23.608Z"
   },
   {
    "duration": 605,
    "start_time": "2023-01-04T10:44:48.008Z"
   },
   {
    "duration": 598,
    "start_time": "2023-01-04T10:44:57.312Z"
   },
   {
    "duration": 593,
    "start_time": "2023-01-04T10:45:18.284Z"
   },
   {
    "duration": 702,
    "start_time": "2023-01-04T10:46:09.744Z"
   },
   {
    "duration": 609,
    "start_time": "2023-01-04T10:46:27.925Z"
   },
   {
    "duration": 737,
    "start_time": "2023-01-04T10:48:16.447Z"
   },
   {
    "duration": 681,
    "start_time": "2023-01-04T10:48:29.048Z"
   },
   {
    "duration": 603,
    "start_time": "2023-01-04T10:48:37.081Z"
   },
   {
    "duration": 574,
    "start_time": "2023-01-04T10:51:19.475Z"
   },
   {
    "duration": 625,
    "start_time": "2023-01-04T10:51:43.943Z"
   },
   {
    "duration": 625,
    "start_time": "2023-01-04T10:52:34.224Z"
   },
   {
    "duration": 621,
    "start_time": "2023-01-04T10:53:04.904Z"
   },
   {
    "duration": 311,
    "start_time": "2023-01-04T10:55:17.119Z"
   },
   {
    "duration": 260,
    "start_time": "2023-01-04T10:56:37.561Z"
   },
   {
    "duration": 308,
    "start_time": "2023-01-04T10:57:22.623Z"
   },
   {
    "duration": 240,
    "start_time": "2023-01-04T10:57:34.054Z"
   },
   {
    "duration": 323,
    "start_time": "2023-01-04T10:57:40.477Z"
   },
   {
    "duration": 299,
    "start_time": "2023-01-04T10:58:13.918Z"
   },
   {
    "duration": 292,
    "start_time": "2023-01-04T10:58:21.894Z"
   },
   {
    "duration": 271,
    "start_time": "2023-01-04T10:58:43.638Z"
   },
   {
    "duration": 304,
    "start_time": "2023-01-04T10:58:59.216Z"
   },
   {
    "duration": 269,
    "start_time": "2023-01-04T10:59:19.814Z"
   },
   {
    "duration": 242,
    "start_time": "2023-01-04T10:59:37.344Z"
   },
   {
    "duration": 275,
    "start_time": "2023-01-04T11:00:24.584Z"
   },
   {
    "duration": 221,
    "start_time": "2023-01-04T11:08:00.416Z"
   },
   {
    "duration": 204,
    "start_time": "2023-01-04T11:08:13.845Z"
   },
   {
    "duration": 562,
    "start_time": "2023-01-04T11:09:40.678Z"
   },
   {
    "duration": 3,
    "start_time": "2023-01-04T11:13:18.294Z"
   },
   {
    "duration": 26,
    "start_time": "2023-01-04T11:13:19.900Z"
   },
   {
    "duration": 37,
    "start_time": "2023-01-04T11:13:20.772Z"
   },
   {
    "duration": 8,
    "start_time": "2023-01-04T11:13:21.885Z"
   },
   {
    "duration": 8,
    "start_time": "2023-01-04T11:13:23.006Z"
   },
   {
    "duration": 10,
    "start_time": "2023-01-04T11:13:24.206Z"
   },
   {
    "duration": 10,
    "start_time": "2023-01-04T11:13:25.389Z"
   },
   {
    "duration": 6,
    "start_time": "2023-01-04T11:13:26.517Z"
   },
   {
    "duration": 6,
    "start_time": "2023-01-04T11:13:27.773Z"
   },
   {
    "duration": 5,
    "start_time": "2023-01-04T11:13:28.852Z"
   },
   {
    "duration": 6,
    "start_time": "2023-01-04T11:13:30.408Z"
   },
   {
    "duration": 3,
    "start_time": "2023-01-04T11:13:32.181Z"
   },
   {
    "duration": 3,
    "start_time": "2023-01-04T11:13:33.124Z"
   },
   {
    "duration": 4,
    "start_time": "2023-01-04T11:13:34.147Z"
   },
   {
    "duration": 4,
    "start_time": "2023-01-04T11:13:35.052Z"
   },
   {
    "duration": 3,
    "start_time": "2023-01-04T11:13:55.132Z"
   },
   {
    "duration": 11,
    "start_time": "2023-01-04T11:13:58.092Z"
   },
   {
    "duration": 13,
    "start_time": "2023-01-04T11:14:00.056Z"
   },
   {
    "duration": 6,
    "start_time": "2023-01-04T11:14:06.620Z"
   },
   {
    "duration": 11,
    "start_time": "2023-01-04T11:14:40.350Z"
   },
   {
    "duration": 9,
    "start_time": "2023-01-04T11:15:15.085Z"
   },
   {
    "duration": 20,
    "start_time": "2023-01-04T11:15:32.333Z"
   },
   {
    "duration": 90,
    "start_time": "2023-01-04T11:15:41.149Z"
   },
   {
    "duration": 20,
    "start_time": "2023-01-04T11:17:23.392Z"
   },
   {
    "duration": 61,
    "start_time": "2023-01-04T11:20:46.924Z"
   },
   {
    "duration": 23,
    "start_time": "2023-01-04T11:21:26.656Z"
   },
   {
    "duration": 7,
    "start_time": "2023-01-04T11:22:52.252Z"
   },
   {
    "duration": 8,
    "start_time": "2023-01-04T11:22:59.012Z"
   },
   {
    "duration": 10,
    "start_time": "2023-01-04T11:23:20.541Z"
   },
   {
    "duration": 6,
    "start_time": "2023-01-04T11:23:38.211Z"
   },
   {
    "duration": 6,
    "start_time": "2023-01-04T11:24:11.712Z"
   },
   {
    "duration": 20,
    "start_time": "2023-01-04T11:25:05.990Z"
   },
   {
    "duration": 19,
    "start_time": "2023-01-04T11:26:25.007Z"
   },
   {
    "duration": 600,
    "start_time": "2023-01-04T11:26:47.862Z"
   },
   {
    "duration": 26,
    "start_time": "2023-01-04T11:26:48.464Z"
   },
   {
    "duration": 36,
    "start_time": "2023-01-04T11:26:48.492Z"
   },
   {
    "duration": 15,
    "start_time": "2023-01-04T11:26:48.529Z"
   },
   {
    "duration": 11,
    "start_time": "2023-01-04T11:26:48.545Z"
   },
   {
    "duration": 7,
    "start_time": "2023-01-04T11:26:48.557Z"
   },
   {
    "duration": 75,
    "start_time": "2023-01-04T11:26:48.565Z"
   },
   {
    "duration": 0,
    "start_time": "2023-01-04T11:26:48.642Z"
   },
   {
    "duration": 0,
    "start_time": "2023-01-04T11:26:48.643Z"
   },
   {
    "duration": 0,
    "start_time": "2023-01-04T11:26:48.644Z"
   },
   {
    "duration": 0,
    "start_time": "2023-01-04T11:26:48.645Z"
   },
   {
    "duration": 0,
    "start_time": "2023-01-04T11:26:48.645Z"
   },
   {
    "duration": 0,
    "start_time": "2023-01-04T11:26:48.647Z"
   },
   {
    "duration": 0,
    "start_time": "2023-01-04T11:26:48.648Z"
   },
   {
    "duration": 0,
    "start_time": "2023-01-04T11:26:48.649Z"
   },
   {
    "duration": 0,
    "start_time": "2023-01-04T11:26:48.650Z"
   },
   {
    "duration": 0,
    "start_time": "2023-01-04T11:26:48.651Z"
   },
   {
    "duration": 0,
    "start_time": "2023-01-04T11:26:48.652Z"
   },
   {
    "duration": 0,
    "start_time": "2023-01-04T11:26:48.653Z"
   },
   {
    "duration": 0,
    "start_time": "2023-01-04T11:26:48.654Z"
   },
   {
    "duration": 0,
    "start_time": "2023-01-04T11:26:48.655Z"
   },
   {
    "duration": 0,
    "start_time": "2023-01-04T11:26:48.656Z"
   },
   {
    "duration": 0,
    "start_time": "2023-01-04T11:26:48.656Z"
   },
   {
    "duration": 0,
    "start_time": "2023-01-04T11:26:48.657Z"
   },
   {
    "duration": 0,
    "start_time": "2023-01-04T11:26:48.658Z"
   },
   {
    "duration": 0,
    "start_time": "2023-01-04T11:26:48.659Z"
   },
   {
    "duration": 0,
    "start_time": "2023-01-04T11:26:48.660Z"
   },
   {
    "duration": 0,
    "start_time": "2023-01-04T11:26:48.662Z"
   },
   {
    "duration": 0,
    "start_time": "2023-01-04T11:26:48.663Z"
   },
   {
    "duration": 0,
    "start_time": "2023-01-04T11:26:48.664Z"
   },
   {
    "duration": 0,
    "start_time": "2023-01-04T11:26:48.666Z"
   },
   {
    "duration": 9,
    "start_time": "2023-01-04T11:28:10.839Z"
   },
   {
    "duration": 7,
    "start_time": "2023-01-04T11:28:21.223Z"
   },
   {
    "duration": 581,
    "start_time": "2023-01-04T11:28:50.837Z"
   },
   {
    "duration": 27,
    "start_time": "2023-01-04T11:28:51.421Z"
   },
   {
    "duration": 36,
    "start_time": "2023-01-04T11:28:51.449Z"
   },
   {
    "duration": 15,
    "start_time": "2023-01-04T11:28:51.487Z"
   },
   {
    "duration": 11,
    "start_time": "2023-01-04T11:28:51.504Z"
   },
   {
    "duration": 10,
    "start_time": "2023-01-04T11:28:51.517Z"
   },
   {
    "duration": 11,
    "start_time": "2023-01-04T11:28:51.529Z"
   },
   {
    "duration": 13,
    "start_time": "2023-01-04T11:28:51.542Z"
   },
   {
    "duration": 11,
    "start_time": "2023-01-04T11:28:51.557Z"
   },
   {
    "duration": 11,
    "start_time": "2023-01-04T11:28:51.571Z"
   },
   {
    "duration": 32,
    "start_time": "2023-01-04T11:28:51.584Z"
   },
   {
    "duration": 7,
    "start_time": "2023-01-04T11:28:51.618Z"
   },
   {
    "duration": 13,
    "start_time": "2023-01-04T11:28:51.627Z"
   },
   {
    "duration": 15,
    "start_time": "2023-01-04T11:28:51.642Z"
   },
   {
    "duration": 7,
    "start_time": "2023-01-04T11:28:51.659Z"
   },
   {
    "duration": 6,
    "start_time": "2023-01-04T11:28:51.667Z"
   },
   {
    "duration": 5,
    "start_time": "2023-01-04T11:28:51.674Z"
   },
   {
    "duration": 7,
    "start_time": "2023-01-04T11:28:51.680Z"
   },
   {
    "duration": 6,
    "start_time": "2023-01-04T11:28:51.689Z"
   },
   {
    "duration": 20,
    "start_time": "2023-01-04T11:28:51.697Z"
   },
   {
    "duration": 5,
    "start_time": "2023-01-04T11:28:51.719Z"
   },
   {
    "duration": 14,
    "start_time": "2023-01-04T11:28:51.725Z"
   },
   {
    "duration": 13,
    "start_time": "2023-01-04T11:28:51.740Z"
   },
   {
    "duration": 14,
    "start_time": "2023-01-04T11:28:51.754Z"
   },
   {
    "duration": 216,
    "start_time": "2023-01-04T11:28:51.769Z"
   },
   {
    "duration": 134,
    "start_time": "2023-01-04T11:28:51.987Z"
   },
   {
    "duration": 106,
    "start_time": "2023-01-04T11:28:52.123Z"
   },
   {
    "duration": 0,
    "start_time": "2023-01-04T11:28:52.231Z"
   },
   {
    "duration": 0,
    "start_time": "2023-01-04T11:28:52.232Z"
   },
   {
    "duration": 0,
    "start_time": "2023-01-04T11:28:52.233Z"
   },
   {
    "duration": 0,
    "start_time": "2023-01-04T11:28:52.234Z"
   },
   {
    "duration": 5,
    "start_time": "2023-01-04T11:31:04.501Z"
   },
   {
    "duration": 10,
    "start_time": "2023-01-04T11:31:52.822Z"
   },
   {
    "duration": 307,
    "start_time": "2023-01-04T11:32:43.315Z"
   },
   {
    "duration": 272,
    "start_time": "2023-01-04T11:33:01.151Z"
   },
   {
    "duration": 289,
    "start_time": "2023-01-04T12:05:35.859Z"
   },
   {
    "duration": 335,
    "start_time": "2023-01-04T12:07:52.194Z"
   },
   {
    "duration": 272,
    "start_time": "2023-01-04T12:08:10.067Z"
   },
   {
    "duration": 419,
    "start_time": "2023-01-04T12:08:26.698Z"
   },
   {
    "duration": 398,
    "start_time": "2023-01-04T12:08:59.170Z"
   },
   {
    "duration": 705,
    "start_time": "2023-01-04T12:16:55.946Z"
   },
   {
    "duration": 9,
    "start_time": "2023-01-04T12:18:39.164Z"
   },
   {
    "duration": 285,
    "start_time": "2023-01-04T12:18:50.177Z"
   },
   {
    "duration": 287,
    "start_time": "2023-01-04T12:19:05.785Z"
   },
   {
    "duration": 325,
    "start_time": "2023-01-04T12:19:32.301Z"
   },
   {
    "duration": 286,
    "start_time": "2023-01-04T12:19:43.753Z"
   },
   {
    "duration": 362,
    "start_time": "2023-01-04T12:21:16.840Z"
   },
   {
    "duration": 392,
    "start_time": "2023-01-04T12:22:32.696Z"
   },
   {
    "duration": 13,
    "start_time": "2023-01-04T12:44:35.438Z"
   },
   {
    "duration": 10,
    "start_time": "2023-01-04T12:46:30.417Z"
   },
   {
    "duration": 12,
    "start_time": "2023-01-04T12:46:43.367Z"
   },
   {
    "duration": 7,
    "start_time": "2023-01-04T12:47:04.080Z"
   },
   {
    "duration": 4,
    "start_time": "2023-01-04T12:47:19.982Z"
   },
   {
    "duration": 9,
    "start_time": "2023-01-04T12:47:32.440Z"
   },
   {
    "duration": 176,
    "start_time": "2023-01-04T12:48:34.985Z"
   },
   {
    "duration": 5,
    "start_time": "2023-01-04T12:51:15.417Z"
   },
   {
    "duration": 10,
    "start_time": "2023-01-04T12:52:36.215Z"
   },
   {
    "duration": 719,
    "start_time": "2023-01-04T12:56:20.942Z"
   },
   {
    "duration": 672,
    "start_time": "2023-01-04T12:58:54.296Z"
   },
   {
    "duration": 145,
    "start_time": "2023-01-04T12:59:06.160Z"
   },
   {
    "duration": 112,
    "start_time": "2023-01-04T12:59:33.144Z"
   },
   {
    "duration": 5,
    "start_time": "2023-01-04T13:00:44.403Z"
   },
   {
    "duration": 6,
    "start_time": "2023-01-04T13:00:50.055Z"
   },
   {
    "duration": 181,
    "start_time": "2023-01-04T13:23:41.277Z"
   },
   {
    "duration": 165,
    "start_time": "2023-01-04T13:24:00.943Z"
   },
   {
    "duration": 186,
    "start_time": "2023-01-04T13:25:14.810Z"
   },
   {
    "duration": 173,
    "start_time": "2023-01-04T13:26:40.607Z"
   },
   {
    "duration": 175,
    "start_time": "2023-01-04T13:26:54.983Z"
   },
   {
    "duration": 203,
    "start_time": "2023-01-04T13:27:12.097Z"
   },
   {
    "duration": 243,
    "start_time": "2023-01-04T13:34:50.575Z"
   },
   {
    "duration": 213,
    "start_time": "2023-01-04T13:34:53.614Z"
   },
   {
    "duration": 6,
    "start_time": "2023-01-04T13:44:07.094Z"
   },
   {
    "duration": 102,
    "start_time": "2023-01-04T14:02:11.085Z"
   },
   {
    "duration": 633,
    "start_time": "2023-01-04T14:06:54.977Z"
   },
   {
    "duration": 27,
    "start_time": "2023-01-04T14:06:55.612Z"
   },
   {
    "duration": 37,
    "start_time": "2023-01-04T14:06:55.641Z"
   },
   {
    "duration": 16,
    "start_time": "2023-01-04T14:06:55.680Z"
   },
   {
    "duration": 12,
    "start_time": "2023-01-04T14:06:55.697Z"
   },
   {
    "duration": 11,
    "start_time": "2023-01-04T14:06:55.710Z"
   },
   {
    "duration": 14,
    "start_time": "2023-01-04T14:06:55.722Z"
   },
   {
    "duration": 12,
    "start_time": "2023-01-04T14:06:55.738Z"
   },
   {
    "duration": 12,
    "start_time": "2023-01-04T14:06:55.752Z"
   },
   {
    "duration": 13,
    "start_time": "2023-01-04T14:06:55.766Z"
   },
   {
    "duration": 10,
    "start_time": "2023-01-04T14:06:55.780Z"
   },
   {
    "duration": 12,
    "start_time": "2023-01-04T14:06:55.791Z"
   },
   {
    "duration": 6,
    "start_time": "2023-01-04T14:06:55.816Z"
   },
   {
    "duration": 7,
    "start_time": "2023-01-04T14:06:55.824Z"
   },
   {
    "duration": 7,
    "start_time": "2023-01-04T14:06:55.833Z"
   },
   {
    "duration": 4,
    "start_time": "2023-01-04T14:06:55.842Z"
   },
   {
    "duration": 5,
    "start_time": "2023-01-04T14:06:55.848Z"
   },
   {
    "duration": 7,
    "start_time": "2023-01-04T14:06:55.854Z"
   },
   {
    "duration": 6,
    "start_time": "2023-01-04T14:06:55.862Z"
   },
   {
    "duration": 7,
    "start_time": "2023-01-04T14:06:55.869Z"
   },
   {
    "duration": 41,
    "start_time": "2023-01-04T14:06:55.877Z"
   },
   {
    "duration": 14,
    "start_time": "2023-01-04T14:06:55.920Z"
   },
   {
    "duration": 11,
    "start_time": "2023-01-04T14:06:55.935Z"
   },
   {
    "duration": 13,
    "start_time": "2023-01-04T14:06:55.948Z"
   },
   {
    "duration": 197,
    "start_time": "2023-01-04T14:06:55.963Z"
   },
   {
    "duration": 152,
    "start_time": "2023-01-04T14:06:56.161Z"
   },
   {
    "duration": 13,
    "start_time": "2023-01-04T14:06:56.316Z"
   },
   {
    "duration": 310,
    "start_time": "2023-01-04T14:06:56.333Z"
   },
   {
    "duration": 223,
    "start_time": "2023-01-04T14:06:56.645Z"
   },
   {
    "duration": 310,
    "start_time": "2023-01-04T14:06:56.870Z"
   },
   {
    "duration": 306,
    "start_time": "2023-01-04T14:06:57.181Z"
   },
   {
    "duration": 329,
    "start_time": "2023-01-04T14:06:57.489Z"
   },
   {
    "duration": 115,
    "start_time": "2023-01-04T14:06:57.819Z"
   },
   {
    "duration": 7,
    "start_time": "2023-01-04T14:06:57.936Z"
   },
   {
    "duration": 6,
    "start_time": "2023-01-04T14:06:57.945Z"
   },
   {
    "duration": 144,
    "start_time": "2023-01-04T14:06:57.952Z"
   },
   {
    "duration": 5,
    "start_time": "2023-01-04T14:06:58.098Z"
   },
   {
    "duration": 178,
    "start_time": "2023-01-04T14:06:58.116Z"
   },
   {
    "duration": 0,
    "start_time": "2023-01-04T14:06:58.296Z"
   },
   {
    "duration": 52,
    "start_time": "2023-01-04T14:10:26.641Z"
   },
   {
    "duration": 203,
    "start_time": "2023-01-04T14:10:55.303Z"
   },
   {
    "duration": 325,
    "start_time": "2023-01-04T14:15:30.895Z"
   },
   {
    "duration": 11,
    "start_time": "2023-01-04T14:17:48.798Z"
   },
   {
    "duration": 374,
    "start_time": "2023-01-04T14:18:39.839Z"
   },
   {
    "duration": 26,
    "start_time": "2023-01-04T14:18:45.604Z"
   },
   {
    "duration": 10,
    "start_time": "2023-01-04T14:40:50.388Z"
   },
   {
    "duration": 27,
    "start_time": "2023-01-04T14:52:40.018Z"
   },
   {
    "duration": 10,
    "start_time": "2023-01-04T14:53:34.473Z"
   },
   {
    "duration": 60,
    "start_time": "2023-01-05T11:59:46.736Z"
   },
   {
    "duration": 1396,
    "start_time": "2023-01-05T12:00:14.840Z"
   },
   {
    "duration": 69,
    "start_time": "2023-01-05T12:00:16.238Z"
   },
   {
    "duration": 81,
    "start_time": "2023-01-05T12:00:16.309Z"
   },
   {
    "duration": 52,
    "start_time": "2023-01-05T12:00:16.393Z"
   },
   {
    "duration": 14,
    "start_time": "2023-01-05T12:00:16.447Z"
   },
   {
    "duration": 39,
    "start_time": "2023-01-05T12:00:16.463Z"
   },
   {
    "duration": 64,
    "start_time": "2023-01-05T12:00:16.504Z"
   },
   {
    "duration": 64,
    "start_time": "2023-01-05T12:00:16.570Z"
   },
   {
    "duration": 105,
    "start_time": "2023-01-05T12:00:16.636Z"
   },
   {
    "duration": 33,
    "start_time": "2023-01-05T12:00:16.745Z"
   },
   {
    "duration": 16,
    "start_time": "2023-01-05T12:00:16.781Z"
   },
   {
    "duration": 24,
    "start_time": "2023-01-05T12:00:16.800Z"
   },
   {
    "duration": 14,
    "start_time": "2023-01-05T12:00:16.826Z"
   },
   {
    "duration": 10,
    "start_time": "2023-01-05T12:00:16.842Z"
   },
   {
    "duration": 25,
    "start_time": "2023-01-05T12:00:16.855Z"
   },
   {
    "duration": 16,
    "start_time": "2023-01-05T12:00:16.882Z"
   },
   {
    "duration": 25,
    "start_time": "2023-01-05T12:00:16.901Z"
   },
   {
    "duration": 15,
    "start_time": "2023-01-05T12:00:16.929Z"
   },
   {
    "duration": 19,
    "start_time": "2023-01-05T12:00:16.945Z"
   },
   {
    "duration": 12,
    "start_time": "2023-01-05T12:00:16.967Z"
   },
   {
    "duration": 18,
    "start_time": "2023-01-05T12:00:16.981Z"
   },
   {
    "duration": 18,
    "start_time": "2023-01-05T12:00:17.001Z"
   },
   {
    "duration": 15,
    "start_time": "2023-01-05T12:00:17.020Z"
   },
   {
    "duration": 14,
    "start_time": "2023-01-05T12:00:17.037Z"
   },
   {
    "duration": 177,
    "start_time": "2023-01-05T12:00:17.053Z"
   },
   {
    "duration": 135,
    "start_time": "2023-01-05T12:00:17.232Z"
   },
   {
    "duration": 11,
    "start_time": "2023-01-05T12:00:17.368Z"
   },
   {
    "duration": 325,
    "start_time": "2023-01-05T12:00:17.383Z"
   },
   {
    "duration": 228,
    "start_time": "2023-01-05T12:00:17.709Z"
   },
   {
    "duration": 365,
    "start_time": "2023-01-05T12:00:17.940Z"
   },
   {
    "duration": 237,
    "start_time": "2023-01-05T12:00:18.307Z"
   },
   {
    "duration": 324,
    "start_time": "2023-01-05T12:00:18.546Z"
   },
   {
    "duration": 123,
    "start_time": "2023-01-05T12:00:18.872Z"
   },
   {
    "duration": 9,
    "start_time": "2023-01-05T12:00:18.997Z"
   },
   {
    "duration": 24,
    "start_time": "2023-01-05T12:00:19.008Z"
   },
   {
    "duration": 175,
    "start_time": "2023-01-05T12:00:19.036Z"
   },
   {
    "duration": 6,
    "start_time": "2023-01-05T12:00:19.214Z"
   },
   {
    "duration": 365,
    "start_time": "2023-01-05T12:00:19.235Z"
   },
   {
    "duration": 39,
    "start_time": "2023-01-05T12:00:19.602Z"
   },
   {
    "duration": 12,
    "start_time": "2023-01-05T12:00:19.644Z"
   },
   {
    "duration": 135,
    "start_time": "2023-01-05T12:00:19.658Z"
   },
   {
    "duration": 13,
    "start_time": "2023-01-05T12:02:05.970Z"
   },
   {
    "duration": 8,
    "start_time": "2023-01-05T12:02:19.725Z"
   },
   {
    "duration": 45,
    "start_time": "2023-01-05T12:07:33.809Z"
   },
   {
    "duration": 4,
    "start_time": "2023-01-05T12:07:48.113Z"
   },
   {
    "duration": 51,
    "start_time": "2023-01-05T12:08:26.168Z"
   },
   {
    "duration": 3,
    "start_time": "2023-01-05T12:08:33.929Z"
   },
   {
    "duration": 14,
    "start_time": "2023-01-05T12:10:05.282Z"
   },
   {
    "duration": 11,
    "start_time": "2023-01-05T12:17:10.489Z"
   },
   {
    "duration": 13,
    "start_time": "2023-01-05T12:17:25.799Z"
   },
   {
    "duration": 5,
    "start_time": "2023-01-05T12:17:47.239Z"
   },
   {
    "duration": 7,
    "start_time": "2023-01-05T12:17:52.914Z"
   },
   {
    "duration": 4,
    "start_time": "2023-01-05T12:18:21.256Z"
   },
   {
    "duration": 736,
    "start_time": "2023-01-05T12:21:55.704Z"
   },
   {
    "duration": 30,
    "start_time": "2023-01-05T12:22:27.417Z"
   },
   {
    "duration": 14,
    "start_time": "2023-01-05T12:24:36.153Z"
   },
   {
    "duration": 1000,
    "start_time": "2023-01-05T12:25:13.483Z"
   },
   {
    "duration": 26,
    "start_time": "2023-01-05T12:25:14.485Z"
   },
   {
    "duration": 36,
    "start_time": "2023-01-05T12:25:14.513Z"
   },
   {
    "duration": 15,
    "start_time": "2023-01-05T12:25:14.551Z"
   },
   {
    "duration": 15,
    "start_time": "2023-01-05T12:25:14.568Z"
   },
   {
    "duration": 10,
    "start_time": "2023-01-05T12:25:14.585Z"
   },
   {
    "duration": 10,
    "start_time": "2023-01-05T12:25:14.597Z"
   },
   {
    "duration": 18,
    "start_time": "2023-01-05T12:25:14.609Z"
   },
   {
    "duration": 16,
    "start_time": "2023-01-05T12:25:14.628Z"
   },
   {
    "duration": 12,
    "start_time": "2023-01-05T12:25:14.646Z"
   },
   {
    "duration": 8,
    "start_time": "2023-01-05T12:25:14.659Z"
   },
   {
    "duration": 14,
    "start_time": "2023-01-05T12:25:14.669Z"
   },
   {
    "duration": 21,
    "start_time": "2023-01-05T12:25:14.685Z"
   },
   {
    "duration": 14,
    "start_time": "2023-01-05T12:25:14.708Z"
   },
   {
    "duration": 8,
    "start_time": "2023-01-05T12:25:14.723Z"
   },
   {
    "duration": 5,
    "start_time": "2023-01-05T12:25:14.733Z"
   },
   {
    "duration": 8,
    "start_time": "2023-01-05T12:25:14.740Z"
   },
   {
    "duration": 9,
    "start_time": "2023-01-05T12:25:14.749Z"
   },
   {
    "duration": 11,
    "start_time": "2023-01-05T12:25:14.759Z"
   },
   {
    "duration": 24,
    "start_time": "2023-01-05T12:25:14.771Z"
   },
   {
    "duration": 14,
    "start_time": "2023-01-05T12:25:14.796Z"
   },
   {
    "duration": 25,
    "start_time": "2023-01-05T12:25:14.812Z"
   },
   {
    "duration": 11,
    "start_time": "2023-01-05T12:25:14.839Z"
   },
   {
    "duration": 16,
    "start_time": "2023-01-05T12:25:14.851Z"
   },
   {
    "duration": 194,
    "start_time": "2023-01-05T12:25:14.869Z"
   },
   {
    "duration": 124,
    "start_time": "2023-01-05T12:25:15.065Z"
   },
   {
    "duration": 13,
    "start_time": "2023-01-05T12:25:15.191Z"
   },
   {
    "duration": 354,
    "start_time": "2023-01-05T12:25:15.207Z"
   },
   {
    "duration": 219,
    "start_time": "2023-01-05T12:25:15.562Z"
   },
   {
    "duration": 314,
    "start_time": "2023-01-05T12:25:15.783Z"
   },
   {
    "duration": 243,
    "start_time": "2023-01-05T12:25:16.099Z"
   },
   {
    "duration": 337,
    "start_time": "2023-01-05T12:25:16.344Z"
   },
   {
    "duration": 142,
    "start_time": "2023-01-05T12:25:16.684Z"
   },
   {
    "duration": 8,
    "start_time": "2023-01-05T12:25:16.834Z"
   },
   {
    "duration": 13,
    "start_time": "2023-01-05T12:25:16.844Z"
   },
   {
    "duration": 131,
    "start_time": "2023-01-05T12:25:16.859Z"
   },
   {
    "duration": 3,
    "start_time": "2023-01-05T12:25:16.992Z"
   },
   {
    "duration": 348,
    "start_time": "2023-01-05T12:25:16.997Z"
   },
   {
    "duration": 31,
    "start_time": "2023-01-05T12:25:17.347Z"
   },
   {
    "duration": 10,
    "start_time": "2023-01-05T12:25:17.380Z"
   },
   {
    "duration": 8,
    "start_time": "2023-01-05T12:25:17.391Z"
   },
   {
    "duration": 58,
    "start_time": "2023-01-05T12:25:17.400Z"
   },
   {
    "duration": 13,
    "start_time": "2023-01-05T12:25:17.459Z"
   },
   {
    "duration": 1195,
    "start_time": "2023-01-09T06:15:46.672Z"
   },
   {
    "duration": 69,
    "start_time": "2023-01-09T06:15:47.868Z"
   },
   {
    "duration": 68,
    "start_time": "2023-01-09T06:15:47.939Z"
   },
   {
    "duration": 54,
    "start_time": "2023-01-09T06:15:48.009Z"
   },
   {
    "duration": 12,
    "start_time": "2023-01-09T06:15:48.065Z"
   },
   {
    "duration": 8,
    "start_time": "2023-01-09T06:15:48.078Z"
   },
   {
    "duration": 10,
    "start_time": "2023-01-09T06:15:48.088Z"
   },
   {
    "duration": 13,
    "start_time": "2023-01-09T06:15:48.099Z"
   },
   {
    "duration": 12,
    "start_time": "2023-01-09T06:15:48.113Z"
   },
   {
    "duration": 8,
    "start_time": "2023-01-09T06:15:48.128Z"
   },
   {
    "duration": 8,
    "start_time": "2023-01-09T06:15:48.138Z"
   },
   {
    "duration": 8,
    "start_time": "2023-01-09T06:15:48.147Z"
   },
   {
    "duration": 8,
    "start_time": "2023-01-09T06:15:48.156Z"
   },
   {
    "duration": 7,
    "start_time": "2023-01-09T06:15:48.165Z"
   },
   {
    "duration": 7,
    "start_time": "2023-01-09T06:15:48.173Z"
   },
   {
    "duration": 5,
    "start_time": "2023-01-09T06:15:48.182Z"
   },
   {
    "duration": 34,
    "start_time": "2023-01-09T06:15:48.188Z"
   },
   {
    "duration": 6,
    "start_time": "2023-01-09T06:15:48.224Z"
   },
   {
    "duration": 8,
    "start_time": "2023-01-09T06:15:48.231Z"
   },
   {
    "duration": 5,
    "start_time": "2023-01-09T06:15:48.241Z"
   },
   {
    "duration": 9,
    "start_time": "2023-01-09T06:15:48.248Z"
   },
   {
    "duration": 16,
    "start_time": "2023-01-09T06:15:48.258Z"
   },
   {
    "duration": 11,
    "start_time": "2023-01-09T06:15:48.275Z"
   },
   {
    "duration": 9,
    "start_time": "2023-01-09T06:15:48.288Z"
   },
   {
    "duration": 171,
    "start_time": "2023-01-09T06:15:48.322Z"
   },
   {
    "duration": 114,
    "start_time": "2023-01-09T06:15:48.495Z"
   },
   {
    "duration": 19,
    "start_time": "2023-01-09T06:15:48.610Z"
   },
   {
    "duration": 281,
    "start_time": "2023-01-09T06:15:48.632Z"
   },
   {
    "duration": 202,
    "start_time": "2023-01-09T06:15:48.915Z"
   },
   {
    "duration": 348,
    "start_time": "2023-01-09T06:15:49.122Z"
   },
   {
    "duration": 222,
    "start_time": "2023-01-09T06:15:49.472Z"
   },
   {
    "duration": 338,
    "start_time": "2023-01-09T06:15:49.695Z"
   },
   {
    "duration": 111,
    "start_time": "2023-01-09T06:15:50.035Z"
   },
   {
    "duration": 8,
    "start_time": "2023-01-09T06:15:50.147Z"
   },
   {
    "duration": 4,
    "start_time": "2023-01-09T06:15:50.156Z"
   },
   {
    "duration": 163,
    "start_time": "2023-01-09T06:15:50.161Z"
   },
   {
    "duration": 4,
    "start_time": "2023-01-09T06:15:50.325Z"
   },
   {
    "duration": 397,
    "start_time": "2023-01-09T06:15:50.331Z"
   },
   {
    "duration": 28,
    "start_time": "2023-01-09T06:15:50.730Z"
   },
   {
    "duration": 10,
    "start_time": "2023-01-09T06:15:50.760Z"
   },
   {
    "duration": 10,
    "start_time": "2023-01-09T06:15:50.772Z"
   },
   {
    "duration": 47,
    "start_time": "2023-01-09T06:15:50.784Z"
   },
   {
    "duration": 13,
    "start_time": "2023-01-09T06:15:50.833Z"
   },
   {
    "duration": 71,
    "start_time": "2023-01-09T06:19:22.916Z"
   },
   {
    "duration": 28,
    "start_time": "2023-01-09T06:19:37.773Z"
   },
   {
    "duration": 13,
    "start_time": "2023-01-09T06:23:43.060Z"
   },
   {
    "duration": 20,
    "start_time": "2023-01-09T06:27:46.635Z"
   },
   {
    "duration": 71,
    "start_time": "2023-01-09T06:28:01.452Z"
   },
   {
    "duration": 17,
    "start_time": "2023-01-09T06:28:22.122Z"
   },
   {
    "duration": 16,
    "start_time": "2023-01-09T06:28:36.947Z"
   },
   {
    "duration": 18,
    "start_time": "2023-01-09T06:33:10.024Z"
   },
   {
    "duration": 17,
    "start_time": "2023-01-09T06:33:30.727Z"
   },
   {
    "duration": 22,
    "start_time": "2023-01-09T06:34:30.424Z"
   },
   {
    "duration": 9,
    "start_time": "2023-01-09T06:35:03.180Z"
   },
   {
    "duration": 12,
    "start_time": "2023-01-09T06:35:04.518Z"
   },
   {
    "duration": 93,
    "start_time": "2023-01-09T06:41:59.411Z"
   },
   {
    "duration": 63,
    "start_time": "2023-01-09T06:42:09.710Z"
   },
   {
    "duration": 345,
    "start_time": "2023-01-09T06:43:39.175Z"
   },
   {
    "duration": 69,
    "start_time": "2023-01-09T06:44:41.823Z"
   },
   {
    "duration": 76,
    "start_time": "2023-01-09T06:44:47.514Z"
   },
   {
    "duration": 62,
    "start_time": "2023-01-09T06:45:15.515Z"
   },
   {
    "duration": 65,
    "start_time": "2023-01-09T06:45:27.555Z"
   },
   {
    "duration": 88,
    "start_time": "2023-01-09T06:45:48.076Z"
   },
   {
    "duration": 345,
    "start_time": "2023-01-09T06:46:55.061Z"
   },
   {
    "duration": 81,
    "start_time": "2023-01-09T06:47:14.340Z"
   },
   {
    "duration": 55,
    "start_time": "2023-01-09T06:48:17.591Z"
   },
   {
    "duration": 64,
    "start_time": "2023-01-09T06:48:23.306Z"
   },
   {
    "duration": 60,
    "start_time": "2023-01-09T06:49:23.715Z"
   },
   {
    "duration": 16,
    "start_time": "2023-01-09T06:51:24.807Z"
   },
   {
    "duration": 91,
    "start_time": "2023-01-09T06:57:56.058Z"
   },
   {
    "duration": 69,
    "start_time": "2023-01-09T06:58:09.878Z"
   },
   {
    "duration": 14,
    "start_time": "2023-01-09T06:58:18.738Z"
   },
   {
    "duration": 13,
    "start_time": "2023-01-09T06:59:18.545Z"
   },
   {
    "duration": 7,
    "start_time": "2023-01-09T06:59:29.761Z"
   },
   {
    "duration": 11,
    "start_time": "2023-01-09T06:59:51.568Z"
   },
   {
    "duration": 58,
    "start_time": "2023-01-09T07:01:33.323Z"
   },
   {
    "duration": 75,
    "start_time": "2023-01-09T07:01:40.519Z"
   },
   {
    "duration": 99,
    "start_time": "2023-01-09T07:02:18.474Z"
   },
   {
    "duration": 14,
    "start_time": "2023-01-09T07:03:30.528Z"
   },
   {
    "duration": 4,
    "start_time": "2023-01-09T07:08:44.086Z"
   },
   {
    "duration": 32,
    "start_time": "2023-01-09T07:08:58.821Z"
   },
   {
    "duration": 100,
    "start_time": "2023-01-09T07:10:06.345Z"
   },
   {
    "duration": 33,
    "start_time": "2023-01-09T07:10:24.124Z"
   },
   {
    "duration": 98,
    "start_time": "2023-01-09T07:10:29.970Z"
   },
   {
    "duration": 26,
    "start_time": "2023-01-09T07:10:44.332Z"
   },
   {
    "duration": 12,
    "start_time": "2023-01-09T07:12:25.607Z"
   },
   {
    "duration": 12,
    "start_time": "2023-01-09T07:13:07.723Z"
   },
   {
    "duration": 13,
    "start_time": "2023-01-09T07:13:48.516Z"
   },
   {
    "duration": 10,
    "start_time": "2023-01-09T07:14:09.264Z"
   },
   {
    "duration": 73,
    "start_time": "2023-01-09T07:15:18.628Z"
   },
   {
    "duration": 9,
    "start_time": "2023-01-09T07:15:22.331Z"
   },
   {
    "duration": 8,
    "start_time": "2023-01-09T07:16:12.729Z"
   },
   {
    "duration": 88,
    "start_time": "2023-01-09T07:27:23.023Z"
   },
   {
    "duration": 1138,
    "start_time": "2023-01-09T07:27:37.357Z"
   },
   {
    "duration": 8,
    "start_time": "2023-01-09T07:28:14.541Z"
   },
   {
    "duration": 5,
    "start_time": "2023-01-09T07:29:06.114Z"
   },
   {
    "duration": 11,
    "start_time": "2023-01-09T07:29:13.413Z"
   },
   {
    "duration": 6,
    "start_time": "2023-01-09T07:29:55.253Z"
   },
   {
    "duration": 6,
    "start_time": "2023-01-09T07:30:04.850Z"
   },
   {
    "duration": 1294,
    "start_time": "2023-01-09T07:30:20.149Z"
   },
   {
    "duration": 1193,
    "start_time": "2023-01-09T07:30:56.644Z"
   },
   {
    "duration": 1148,
    "start_time": "2023-01-09T07:31:06.125Z"
   },
   {
    "duration": 1119,
    "start_time": "2023-01-09T07:31:33.909Z"
   },
   {
    "duration": 8,
    "start_time": "2023-01-09T07:33:02.122Z"
   },
   {
    "duration": 9,
    "start_time": "2023-01-09T07:33:25.205Z"
   },
   {
    "duration": 10,
    "start_time": "2023-01-09T07:37:39.878Z"
   },
   {
    "duration": 9,
    "start_time": "2023-01-09T07:37:55.341Z"
   },
   {
    "duration": 1270,
    "start_time": "2023-01-09T07:38:05.420Z"
   },
   {
    "duration": 1141,
    "start_time": "2023-01-09T07:38:25.670Z"
   },
   {
    "duration": 10,
    "start_time": "2023-01-09T07:39:11.879Z"
   },
   {
    "duration": 283,
    "start_time": "2023-01-09T07:40:28.940Z"
   },
   {
    "duration": 4,
    "start_time": "2023-01-09T07:40:47.461Z"
   },
   {
    "duration": 1214,
    "start_time": "2023-01-09T07:41:00.917Z"
   },
   {
    "duration": 8,
    "start_time": "2023-01-09T07:41:11.780Z"
   },
   {
    "duration": 87,
    "start_time": "2023-01-09T07:41:17.117Z"
   },
   {
    "duration": 3,
    "start_time": "2023-01-09T07:41:31.234Z"
   },
   {
    "duration": 5,
    "start_time": "2023-01-09T07:41:39.821Z"
   },
   {
    "duration": 4,
    "start_time": "2023-01-09T07:41:47.957Z"
   },
   {
    "duration": 6,
    "start_time": "2023-01-09T07:42:14.934Z"
   },
   {
    "duration": 12,
    "start_time": "2023-01-09T07:42:24.772Z"
   },
   {
    "duration": 1047,
    "start_time": "2023-01-09T07:53:57.660Z"
   },
   {
    "duration": 27,
    "start_time": "2023-01-09T07:53:58.708Z"
   },
   {
    "duration": 36,
    "start_time": "2023-01-09T07:53:58.736Z"
   },
   {
    "duration": 15,
    "start_time": "2023-01-09T07:53:58.775Z"
   },
   {
    "duration": 13,
    "start_time": "2023-01-09T07:53:58.791Z"
   },
   {
    "duration": 9,
    "start_time": "2023-01-09T07:53:58.805Z"
   },
   {
    "duration": 9,
    "start_time": "2023-01-09T07:53:58.816Z"
   },
   {
    "duration": 13,
    "start_time": "2023-01-09T07:53:58.827Z"
   },
   {
    "duration": 11,
    "start_time": "2023-01-09T07:53:58.841Z"
   },
   {
    "duration": 10,
    "start_time": "2023-01-09T07:53:58.856Z"
   },
   {
    "duration": 10,
    "start_time": "2023-01-09T07:53:58.868Z"
   },
   {
    "duration": 10,
    "start_time": "2023-01-09T07:53:58.879Z"
   },
   {
    "duration": 32,
    "start_time": "2023-01-09T07:53:58.890Z"
   },
   {
    "duration": 5,
    "start_time": "2023-01-09T07:53:58.924Z"
   },
   {
    "duration": 7,
    "start_time": "2023-01-09T07:53:58.931Z"
   },
   {
    "duration": 7,
    "start_time": "2023-01-09T07:53:58.940Z"
   },
   {
    "duration": 11,
    "start_time": "2023-01-09T07:53:58.949Z"
   },
   {
    "duration": 34,
    "start_time": "2023-01-09T07:53:58.961Z"
   },
   {
    "duration": 8,
    "start_time": "2023-01-09T07:53:58.997Z"
   },
   {
    "duration": 5,
    "start_time": "2023-01-09T07:53:59.007Z"
   },
   {
    "duration": 10,
    "start_time": "2023-01-09T07:53:59.014Z"
   },
   {
    "duration": 14,
    "start_time": "2023-01-09T07:53:59.025Z"
   },
   {
    "duration": 6,
    "start_time": "2023-01-09T07:53:59.041Z"
   },
   {
    "duration": 15,
    "start_time": "2023-01-09T07:53:59.048Z"
   },
   {
    "duration": 10,
    "start_time": "2023-01-09T07:53:59.065Z"
   },
   {
    "duration": 13,
    "start_time": "2023-01-09T07:53:59.076Z"
   },
   {
    "duration": 13,
    "start_time": "2023-01-09T07:53:59.091Z"
   },
   {
    "duration": 159,
    "start_time": "2023-01-09T07:53:59.123Z"
   },
   {
    "duration": 122,
    "start_time": "2023-01-09T07:53:59.284Z"
   },
   {
    "duration": 22,
    "start_time": "2023-01-09T07:53:59.408Z"
   },
   {
    "duration": 275,
    "start_time": "2023-01-09T07:53:59.431Z"
   },
   {
    "duration": 215,
    "start_time": "2023-01-09T07:53:59.708Z"
   },
   {
    "duration": 321,
    "start_time": "2023-01-09T07:53:59.924Z"
   },
   {
    "duration": 233,
    "start_time": "2023-01-09T07:54:00.246Z"
   },
   {
    "duration": 287,
    "start_time": "2023-01-09T07:54:00.480Z"
   },
   {
    "duration": 111,
    "start_time": "2023-01-09T07:54:00.768Z"
   },
   {
    "duration": 8,
    "start_time": "2023-01-09T07:54:00.881Z"
   },
   {
    "duration": 37,
    "start_time": "2023-01-09T07:54:00.890Z"
   },
   {
    "duration": 150,
    "start_time": "2023-01-09T07:54:00.929Z"
   },
   {
    "duration": 4,
    "start_time": "2023-01-09T07:54:01.081Z"
   },
   {
    "duration": 332,
    "start_time": "2023-01-09T07:54:01.086Z"
   },
   {
    "duration": 26,
    "start_time": "2023-01-09T07:54:01.422Z"
   },
   {
    "duration": 26,
    "start_time": "2023-01-09T07:54:01.450Z"
   },
   {
    "duration": 18,
    "start_time": "2023-01-09T07:54:01.477Z"
   },
   {
    "duration": 57,
    "start_time": "2023-01-09T07:54:01.496Z"
   },
   {
    "duration": 136,
    "start_time": "2023-01-09T07:54:01.555Z"
   },
   {
    "duration": 156,
    "start_time": "2023-01-09T08:17:04.951Z"
   },
   {
    "duration": 133,
    "start_time": "2023-01-09T08:18:50.768Z"
   },
   {
    "duration": 13,
    "start_time": "2023-01-09T08:20:37.947Z"
   },
   {
    "duration": 19,
    "start_time": "2023-01-09T08:48:00.674Z"
   },
   {
    "duration": 11,
    "start_time": "2023-01-09T08:50:11.763Z"
   },
   {
    "duration": 19,
    "start_time": "2023-01-09T08:50:25.517Z"
   },
   {
    "duration": 19,
    "start_time": "2023-01-09T08:52:17.783Z"
   },
   {
    "duration": 10,
    "start_time": "2023-01-09T08:53:37.917Z"
   },
   {
    "duration": 12,
    "start_time": "2023-01-09T09:02:16.830Z"
   },
   {
    "duration": 197,
    "start_time": "2023-01-09T09:06:31.068Z"
   },
   {
    "duration": 143,
    "start_time": "2023-01-09T09:06:59.417Z"
   },
   {
    "duration": 4,
    "start_time": "2023-01-09T09:09:24.531Z"
   },
   {
    "duration": 5,
    "start_time": "2023-01-09T09:09:43.580Z"
   },
   {
    "duration": 3,
    "start_time": "2023-01-09T09:10:19.917Z"
   },
   {
    "duration": 5,
    "start_time": "2023-01-09T09:10:21.320Z"
   },
   {
    "duration": 147,
    "start_time": "2023-01-09T09:16:52.770Z"
   },
   {
    "duration": 5,
    "start_time": "2023-01-09T09:24:00.561Z"
   },
   {
    "duration": 4,
    "start_time": "2023-01-09T09:27:15.984Z"
   },
   {
    "duration": 1186,
    "start_time": "2023-01-09T09:28:01.015Z"
   },
   {
    "duration": 37,
    "start_time": "2023-01-09T09:28:02.203Z"
   },
   {
    "duration": 38,
    "start_time": "2023-01-09T09:28:02.241Z"
   },
   {
    "duration": 15,
    "start_time": "2023-01-09T09:28:02.281Z"
   },
   {
    "duration": 12,
    "start_time": "2023-01-09T09:28:02.298Z"
   },
   {
    "duration": 21,
    "start_time": "2023-01-09T09:28:02.312Z"
   },
   {
    "duration": 18,
    "start_time": "2023-01-09T09:28:02.335Z"
   },
   {
    "duration": 17,
    "start_time": "2023-01-09T09:28:02.356Z"
   },
   {
    "duration": 17,
    "start_time": "2023-01-09T09:28:02.375Z"
   },
   {
    "duration": 12,
    "start_time": "2023-01-09T09:28:02.396Z"
   },
   {
    "duration": 14,
    "start_time": "2023-01-09T09:28:02.411Z"
   },
   {
    "duration": 10,
    "start_time": "2023-01-09T09:28:02.427Z"
   },
   {
    "duration": 24,
    "start_time": "2023-01-09T09:28:02.438Z"
   },
   {
    "duration": 16,
    "start_time": "2023-01-09T09:28:02.463Z"
   },
   {
    "duration": 12,
    "start_time": "2023-01-09T09:28:02.481Z"
   },
   {
    "duration": 8,
    "start_time": "2023-01-09T09:28:02.495Z"
   },
   {
    "duration": 6,
    "start_time": "2023-01-09T09:28:02.505Z"
   },
   {
    "duration": 11,
    "start_time": "2023-01-09T09:28:02.513Z"
   },
   {
    "duration": 7,
    "start_time": "2023-01-09T09:28:02.526Z"
   },
   {
    "duration": 9,
    "start_time": "2023-01-09T09:28:02.535Z"
   },
   {
    "duration": 10,
    "start_time": "2023-01-09T09:28:02.545Z"
   },
   {
    "duration": 18,
    "start_time": "2023-01-09T09:28:02.556Z"
   },
   {
    "duration": 8,
    "start_time": "2023-01-09T09:28:02.576Z"
   },
   {
    "duration": 11,
    "start_time": "2023-01-09T09:28:02.586Z"
   },
   {
    "duration": 32,
    "start_time": "2023-01-09T09:28:02.599Z"
   },
   {
    "duration": 15,
    "start_time": "2023-01-09T09:28:02.633Z"
   },
   {
    "duration": 16,
    "start_time": "2023-01-09T09:28:02.649Z"
   },
   {
    "duration": 197,
    "start_time": "2023-01-09T09:28:02.668Z"
   },
   {
    "duration": 136,
    "start_time": "2023-01-09T09:28:02.867Z"
   },
   {
    "duration": 26,
    "start_time": "2023-01-09T09:28:03.004Z"
   },
   {
    "duration": 306,
    "start_time": "2023-01-09T09:28:03.032Z"
   },
   {
    "duration": 231,
    "start_time": "2023-01-09T09:28:03.340Z"
   },
   {
    "duration": 313,
    "start_time": "2023-01-09T09:28:03.573Z"
   },
   {
    "duration": 265,
    "start_time": "2023-01-09T09:28:03.887Z"
   },
   {
    "duration": 326,
    "start_time": "2023-01-09T09:28:04.154Z"
   },
   {
    "duration": 11,
    "start_time": "2023-01-09T09:28:04.482Z"
   },
   {
    "duration": 115,
    "start_time": "2023-01-09T09:28:04.494Z"
   },
   {
    "duration": 0,
    "start_time": "2023-01-09T09:28:04.610Z"
   },
   {
    "duration": 0,
    "start_time": "2023-01-09T09:28:04.624Z"
   },
   {
    "duration": 0,
    "start_time": "2023-01-09T09:28:04.625Z"
   },
   {
    "duration": 0,
    "start_time": "2023-01-09T09:28:04.626Z"
   },
   {
    "duration": 0,
    "start_time": "2023-01-09T09:28:04.627Z"
   },
   {
    "duration": 0,
    "start_time": "2023-01-09T09:28:04.628Z"
   },
   {
    "duration": 0,
    "start_time": "2023-01-09T09:28:04.629Z"
   },
   {
    "duration": 0,
    "start_time": "2023-01-09T09:28:04.630Z"
   },
   {
    "duration": 0,
    "start_time": "2023-01-09T09:28:04.631Z"
   },
   {
    "duration": 0,
    "start_time": "2023-01-09T09:28:04.632Z"
   },
   {
    "duration": 0,
    "start_time": "2023-01-09T09:28:04.633Z"
   },
   {
    "duration": 135,
    "start_time": "2023-01-09T09:30:15.160Z"
   },
   {
    "duration": 1165,
    "start_time": "2023-01-09T09:30:29.044Z"
   },
   {
    "duration": 27,
    "start_time": "2023-01-09T09:30:30.211Z"
   },
   {
    "duration": 47,
    "start_time": "2023-01-09T09:30:30.240Z"
   },
   {
    "duration": 16,
    "start_time": "2023-01-09T09:30:30.289Z"
   },
   {
    "duration": 25,
    "start_time": "2023-01-09T09:30:30.308Z"
   },
   {
    "duration": 56,
    "start_time": "2023-01-09T09:30:30.334Z"
   },
   {
    "duration": 34,
    "start_time": "2023-01-09T09:30:30.392Z"
   },
   {
    "duration": 30,
    "start_time": "2023-01-09T09:30:30.427Z"
   },
   {
    "duration": 47,
    "start_time": "2023-01-09T09:30:30.459Z"
   },
   {
    "duration": 45,
    "start_time": "2023-01-09T09:30:30.508Z"
   },
   {
    "duration": 39,
    "start_time": "2023-01-09T09:30:30.556Z"
   },
   {
    "duration": 35,
    "start_time": "2023-01-09T09:30:30.597Z"
   },
   {
    "duration": 46,
    "start_time": "2023-01-09T09:30:30.633Z"
   },
   {
    "duration": 46,
    "start_time": "2023-01-09T09:30:30.682Z"
   },
   {
    "duration": 17,
    "start_time": "2023-01-09T09:30:30.730Z"
   },
   {
    "duration": 23,
    "start_time": "2023-01-09T09:30:30.748Z"
   },
   {
    "duration": 36,
    "start_time": "2023-01-09T09:30:30.772Z"
   },
   {
    "duration": 33,
    "start_time": "2023-01-09T09:30:30.809Z"
   },
   {
    "duration": 50,
    "start_time": "2023-01-09T09:30:30.843Z"
   },
   {
    "duration": 28,
    "start_time": "2023-01-09T09:30:30.895Z"
   },
   {
    "duration": 38,
    "start_time": "2023-01-09T09:30:30.925Z"
   },
   {
    "duration": 37,
    "start_time": "2023-01-09T09:30:30.964Z"
   },
   {
    "duration": 26,
    "start_time": "2023-01-09T09:30:31.003Z"
   },
   {
    "duration": 37,
    "start_time": "2023-01-09T09:30:31.031Z"
   },
   {
    "duration": 63,
    "start_time": "2023-01-09T09:30:31.070Z"
   },
   {
    "duration": 41,
    "start_time": "2023-01-09T09:30:31.135Z"
   },
   {
    "duration": 35,
    "start_time": "2023-01-09T09:30:31.178Z"
   },
   {
    "duration": 203,
    "start_time": "2023-01-09T09:30:31.214Z"
   },
   {
    "duration": 171,
    "start_time": "2023-01-09T09:30:31.421Z"
   },
   {
    "duration": 28,
    "start_time": "2023-01-09T09:30:31.594Z"
   },
   {
    "duration": 330,
    "start_time": "2023-01-09T09:30:31.624Z"
   },
   {
    "duration": 245,
    "start_time": "2023-01-09T09:30:31.956Z"
   },
   {
    "duration": 355,
    "start_time": "2023-01-09T09:30:32.203Z"
   },
   {
    "duration": 262,
    "start_time": "2023-01-09T09:30:32.560Z"
   },
   {
    "duration": 359,
    "start_time": "2023-01-09T09:30:32.823Z"
   },
   {
    "duration": 12,
    "start_time": "2023-01-09T09:30:33.184Z"
   },
   {
    "duration": 165,
    "start_time": "2023-01-09T09:30:33.199Z"
   },
   {
    "duration": 6,
    "start_time": "2023-01-09T09:30:33.365Z"
   },
   {
    "duration": 7,
    "start_time": "2023-01-09T09:30:33.372Z"
   },
   {
    "duration": 159,
    "start_time": "2023-01-09T09:30:33.381Z"
   },
   {
    "duration": 5,
    "start_time": "2023-01-09T09:30:33.544Z"
   },
   {
    "duration": 6,
    "start_time": "2023-01-09T09:30:33.551Z"
   },
   {
    "duration": 391,
    "start_time": "2023-01-09T09:30:33.559Z"
   },
   {
    "duration": 29,
    "start_time": "2023-01-09T09:30:33.951Z"
   },
   {
    "duration": 11,
    "start_time": "2023-01-09T09:30:33.982Z"
   },
   {
    "duration": 29,
    "start_time": "2023-01-09T09:30:33.995Z"
   },
   {
    "duration": 37,
    "start_time": "2023-01-09T09:30:34.025Z"
   },
   {
    "duration": 19,
    "start_time": "2023-01-09T09:30:34.065Z"
   },
   {
    "duration": 7,
    "start_time": "2023-01-09T09:44:41.646Z"
   },
   {
    "duration": 6,
    "start_time": "2023-01-09T09:45:18.661Z"
   },
   {
    "duration": 47,
    "start_time": "2023-01-09T09:45:36.586Z"
   },
   {
    "duration": 174,
    "start_time": "2023-01-09T09:46:31.063Z"
   },
   {
    "duration": 48,
    "start_time": "2023-01-09T09:47:13.303Z"
   },
   {
    "duration": 6,
    "start_time": "2023-01-09T09:47:51.683Z"
   },
   {
    "duration": 6,
    "start_time": "2023-01-09T09:54:05.651Z"
   },
   {
    "duration": 16,
    "start_time": "2023-01-09T10:02:53.731Z"
   },
   {
    "duration": 17,
    "start_time": "2023-01-09T10:04:02.709Z"
   },
   {
    "duration": 416,
    "start_time": "2023-01-09T10:08:16.919Z"
   },
   {
    "duration": 329,
    "start_time": "2023-01-09T10:09:24.481Z"
   },
   {
    "duration": 298,
    "start_time": "2023-01-09T10:09:40.960Z"
   },
   {
    "duration": 328,
    "start_time": "2023-01-09T10:10:52.924Z"
   },
   {
    "duration": 1129,
    "start_time": "2023-01-09T10:16:18.875Z"
   },
   {
    "duration": 28,
    "start_time": "2023-01-09T10:16:20.006Z"
   },
   {
    "duration": 36,
    "start_time": "2023-01-09T10:16:20.035Z"
   },
   {
    "duration": 16,
    "start_time": "2023-01-09T10:16:20.073Z"
   },
   {
    "duration": 12,
    "start_time": "2023-01-09T10:16:20.091Z"
   },
   {
    "duration": 11,
    "start_time": "2023-01-09T10:16:20.105Z"
   },
   {
    "duration": 16,
    "start_time": "2023-01-09T10:16:20.118Z"
   },
   {
    "duration": 13,
    "start_time": "2023-01-09T10:16:20.136Z"
   },
   {
    "duration": 14,
    "start_time": "2023-01-09T10:16:20.151Z"
   },
   {
    "duration": 12,
    "start_time": "2023-01-09T10:16:20.168Z"
   },
   {
    "duration": 23,
    "start_time": "2023-01-09T10:16:20.181Z"
   },
   {
    "duration": 24,
    "start_time": "2023-01-09T10:16:20.206Z"
   },
   {
    "duration": 21,
    "start_time": "2023-01-09T10:16:20.231Z"
   },
   {
    "duration": 8,
    "start_time": "2023-01-09T10:16:20.253Z"
   },
   {
    "duration": 14,
    "start_time": "2023-01-09T10:16:20.263Z"
   },
   {
    "duration": 12,
    "start_time": "2023-01-09T10:16:20.279Z"
   },
   {
    "duration": 25,
    "start_time": "2023-01-09T10:16:20.293Z"
   },
   {
    "duration": 7,
    "start_time": "2023-01-09T10:16:20.320Z"
   },
   {
    "duration": 9,
    "start_time": "2023-01-09T10:16:20.329Z"
   },
   {
    "duration": 5,
    "start_time": "2023-01-09T10:16:20.340Z"
   },
   {
    "duration": 11,
    "start_time": "2023-01-09T10:16:20.347Z"
   },
   {
    "duration": 15,
    "start_time": "2023-01-09T10:16:20.360Z"
   },
   {
    "duration": 8,
    "start_time": "2023-01-09T10:16:20.377Z"
   },
   {
    "duration": 36,
    "start_time": "2023-01-09T10:16:20.387Z"
   },
   {
    "duration": 11,
    "start_time": "2023-01-09T10:16:20.425Z"
   },
   {
    "duration": 14,
    "start_time": "2023-01-09T10:16:20.438Z"
   },
   {
    "duration": 12,
    "start_time": "2023-01-09T10:16:20.454Z"
   },
   {
    "duration": 216,
    "start_time": "2023-01-09T10:16:20.471Z"
   },
   {
    "duration": 141,
    "start_time": "2023-01-09T10:16:20.689Z"
   },
   {
    "duration": 12,
    "start_time": "2023-01-09T10:16:20.832Z"
   },
   {
    "duration": 319,
    "start_time": "2023-01-09T10:16:20.846Z"
   },
   {
    "duration": 222,
    "start_time": "2023-01-09T10:16:21.167Z"
   },
   {
    "duration": 380,
    "start_time": "2023-01-09T10:16:21.390Z"
   },
   {
    "duration": 269,
    "start_time": "2023-01-09T10:16:21.772Z"
   },
   {
    "duration": 319,
    "start_time": "2023-01-09T10:16:22.042Z"
   },
   {
    "duration": 12,
    "start_time": "2023-01-09T10:16:22.363Z"
   },
   {
    "duration": 167,
    "start_time": "2023-01-09T10:16:22.377Z"
   },
   {
    "duration": 6,
    "start_time": "2023-01-09T10:16:22.545Z"
   },
   {
    "duration": 6,
    "start_time": "2023-01-09T10:16:22.553Z"
   },
   {
    "duration": 156,
    "start_time": "2023-01-09T10:16:22.561Z"
   },
   {
    "duration": 5,
    "start_time": "2023-01-09T10:16:22.723Z"
   },
   {
    "duration": 10,
    "start_time": "2023-01-09T10:16:22.729Z"
   },
   {
    "duration": 368,
    "start_time": "2023-01-09T10:16:22.740Z"
   },
   {
    "duration": 48,
    "start_time": "2023-01-09T10:16:23.109Z"
   },
   {
    "duration": 16,
    "start_time": "2023-01-09T10:16:23.159Z"
   },
   {
    "duration": 7,
    "start_time": "2023-01-09T10:16:23.177Z"
   },
   {
    "duration": 36,
    "start_time": "2023-01-09T10:16:23.186Z"
   },
   {
    "duration": 62,
    "start_time": "2023-01-09T10:16:23.224Z"
   },
   {
    "duration": 14,
    "start_time": "2023-01-09T10:16:23.289Z"
   },
   {
    "duration": 6,
    "start_time": "2023-01-09T10:25:55.614Z"
   },
   {
    "duration": 6,
    "start_time": "2023-01-09T10:25:57.443Z"
   },
   {
    "duration": 9,
    "start_time": "2023-01-09T10:26:25.244Z"
   },
   {
    "duration": 17,
    "start_time": "2023-01-09T11:28:36.966Z"
   },
   {
    "duration": 42,
    "start_time": "2023-01-09T11:41:43.301Z"
   },
   {
    "duration": 20,
    "start_time": "2023-01-09T12:01:06.306Z"
   },
   {
    "duration": 11,
    "start_time": "2023-01-09T12:03:14.151Z"
   },
   {
    "duration": 11,
    "start_time": "2023-01-09T12:05:02.062Z"
   },
   {
    "duration": 83,
    "start_time": "2023-01-09T12:06:21.527Z"
   },
   {
    "duration": 19,
    "start_time": "2023-01-09T12:07:22.245Z"
   },
   {
    "duration": 21,
    "start_time": "2023-01-09T12:08:47.868Z"
   },
   {
    "duration": 15,
    "start_time": "2023-01-09T12:10:41.613Z"
   },
   {
    "duration": 1083,
    "start_time": "2023-01-09T12:11:11.476Z"
   },
   {
    "duration": 26,
    "start_time": "2023-01-09T12:11:12.561Z"
   },
   {
    "duration": 36,
    "start_time": "2023-01-09T12:11:12.588Z"
   },
   {
    "duration": 15,
    "start_time": "2023-01-09T12:11:12.626Z"
   },
   {
    "duration": 12,
    "start_time": "2023-01-09T12:11:12.642Z"
   },
   {
    "duration": 20,
    "start_time": "2023-01-09T12:11:12.655Z"
   },
   {
    "duration": 28,
    "start_time": "2023-01-09T12:11:12.676Z"
   },
   {
    "duration": 16,
    "start_time": "2023-01-09T12:11:12.705Z"
   },
   {
    "duration": 12,
    "start_time": "2023-01-09T12:11:12.723Z"
   },
   {
    "duration": 11,
    "start_time": "2023-01-09T12:11:12.737Z"
   },
   {
    "duration": 11,
    "start_time": "2023-01-09T12:11:12.749Z"
   },
   {
    "duration": 24,
    "start_time": "2023-01-09T12:11:12.761Z"
   },
   {
    "duration": 17,
    "start_time": "2023-01-09T12:11:12.787Z"
   },
   {
    "duration": 12,
    "start_time": "2023-01-09T12:11:12.805Z"
   },
   {
    "duration": 9,
    "start_time": "2023-01-09T12:11:12.818Z"
   },
   {
    "duration": 8,
    "start_time": "2023-01-09T12:11:12.828Z"
   },
   {
    "duration": 8,
    "start_time": "2023-01-09T12:11:12.837Z"
   },
   {
    "duration": 8,
    "start_time": "2023-01-09T12:11:12.847Z"
   },
   {
    "duration": 18,
    "start_time": "2023-01-09T12:11:12.856Z"
   },
   {
    "duration": 16,
    "start_time": "2023-01-09T12:11:12.876Z"
   },
   {
    "duration": 9,
    "start_time": "2023-01-09T12:11:12.893Z"
   },
   {
    "duration": 14,
    "start_time": "2023-01-09T12:11:12.904Z"
   },
   {
    "duration": 7,
    "start_time": "2023-01-09T12:11:12.919Z"
   },
   {
    "duration": 13,
    "start_time": "2023-01-09T12:11:12.927Z"
   },
   {
    "duration": 11,
    "start_time": "2023-01-09T12:11:12.942Z"
   },
   {
    "duration": 13,
    "start_time": "2023-01-09T12:11:12.954Z"
   },
   {
    "duration": 13,
    "start_time": "2023-01-09T12:11:12.969Z"
   },
   {
    "duration": 190,
    "start_time": "2023-01-09T12:11:12.985Z"
   },
   {
    "duration": 146,
    "start_time": "2023-01-09T12:11:13.176Z"
   },
   {
    "duration": 13,
    "start_time": "2023-01-09T12:11:13.324Z"
   },
   {
    "duration": 311,
    "start_time": "2023-01-09T12:11:13.339Z"
   },
   {
    "duration": 228,
    "start_time": "2023-01-09T12:11:13.652Z"
   },
   {
    "duration": 397,
    "start_time": "2023-01-09T12:11:13.882Z"
   },
   {
    "duration": 252,
    "start_time": "2023-01-09T12:11:14.280Z"
   },
   {
    "duration": 310,
    "start_time": "2023-01-09T12:11:14.534Z"
   },
   {
    "duration": 12,
    "start_time": "2023-01-09T12:11:14.845Z"
   },
   {
    "duration": 145,
    "start_time": "2023-01-09T12:11:14.859Z"
   },
   {
    "duration": 6,
    "start_time": "2023-01-09T12:11:15.005Z"
   },
   {
    "duration": 24,
    "start_time": "2023-01-09T12:11:15.012Z"
   },
   {
    "duration": 163,
    "start_time": "2023-01-09T12:11:15.037Z"
   },
   {
    "duration": 6,
    "start_time": "2023-01-09T12:11:15.202Z"
   },
   {
    "duration": 19,
    "start_time": "2023-01-09T12:11:15.210Z"
   },
   {
    "duration": 349,
    "start_time": "2023-01-09T12:11:15.230Z"
   },
   {
    "duration": 55,
    "start_time": "2023-01-09T12:11:15.581Z"
   },
   {
    "duration": 16,
    "start_time": "2023-01-09T12:11:15.637Z"
   },
   {
    "duration": 21,
    "start_time": "2023-01-09T12:11:15.655Z"
   },
   {
    "duration": 65,
    "start_time": "2023-01-09T12:11:15.677Z"
   },
   {
    "duration": 14,
    "start_time": "2023-01-09T12:11:15.744Z"
   },
   {
    "duration": 10,
    "start_time": "2023-01-09T12:17:58.205Z"
   },
   {
    "duration": 170,
    "start_time": "2023-01-09T12:18:07.804Z"
   },
   {
    "duration": 190,
    "start_time": "2023-01-09T12:19:09.157Z"
   },
   {
    "duration": 1180,
    "start_time": "2023-01-09T12:20:57.619Z"
   },
   {
    "duration": 27,
    "start_time": "2023-01-09T12:20:58.801Z"
   },
   {
    "duration": 36,
    "start_time": "2023-01-09T12:20:58.830Z"
   },
   {
    "duration": 15,
    "start_time": "2023-01-09T12:20:58.869Z"
   },
   {
    "duration": 14,
    "start_time": "2023-01-09T12:20:58.886Z"
   },
   {
    "duration": 10,
    "start_time": "2023-01-09T12:20:58.902Z"
   },
   {
    "duration": 25,
    "start_time": "2023-01-09T12:20:58.913Z"
   },
   {
    "duration": 27,
    "start_time": "2023-01-09T12:20:58.940Z"
   },
   {
    "duration": 29,
    "start_time": "2023-01-09T12:20:58.970Z"
   },
   {
    "duration": 24,
    "start_time": "2023-01-09T12:20:59.002Z"
   },
   {
    "duration": 16,
    "start_time": "2023-01-09T12:20:59.028Z"
   },
   {
    "duration": 15,
    "start_time": "2023-01-09T12:20:59.045Z"
   },
   {
    "duration": 15,
    "start_time": "2023-01-09T12:20:59.062Z"
   },
   {
    "duration": 12,
    "start_time": "2023-01-09T12:20:59.078Z"
   },
   {
    "duration": 11,
    "start_time": "2023-01-09T12:20:59.091Z"
   },
   {
    "duration": 8,
    "start_time": "2023-01-09T12:20:59.103Z"
   },
   {
    "duration": 7,
    "start_time": "2023-01-09T12:20:59.113Z"
   },
   {
    "duration": 11,
    "start_time": "2023-01-09T12:20:59.122Z"
   },
   {
    "duration": 10,
    "start_time": "2023-01-09T12:20:59.135Z"
   },
   {
    "duration": 9,
    "start_time": "2023-01-09T12:20:59.147Z"
   },
   {
    "duration": 13,
    "start_time": "2023-01-09T12:20:59.158Z"
   },
   {
    "duration": 21,
    "start_time": "2023-01-09T12:20:59.172Z"
   },
   {
    "duration": 13,
    "start_time": "2023-01-09T12:20:59.195Z"
   },
   {
    "duration": 14,
    "start_time": "2023-01-09T12:20:59.209Z"
   },
   {
    "duration": 13,
    "start_time": "2023-01-09T12:20:59.224Z"
   },
   {
    "duration": 36,
    "start_time": "2023-01-09T12:20:59.238Z"
   },
   {
    "duration": 26,
    "start_time": "2023-01-09T12:20:59.276Z"
   },
   {
    "duration": 190,
    "start_time": "2023-01-09T12:20:59.306Z"
   },
   {
    "duration": 156,
    "start_time": "2023-01-09T12:20:59.498Z"
   },
   {
    "duration": 11,
    "start_time": "2023-01-09T12:20:59.656Z"
   },
   {
    "duration": 364,
    "start_time": "2023-01-09T12:20:59.669Z"
   },
   {
    "duration": 225,
    "start_time": "2023-01-09T12:21:00.035Z"
   },
   {
    "duration": 305,
    "start_time": "2023-01-09T12:21:00.261Z"
   },
   {
    "duration": 259,
    "start_time": "2023-01-09T12:21:00.567Z"
   },
   {
    "duration": 326,
    "start_time": "2023-01-09T12:21:00.828Z"
   },
   {
    "duration": 10,
    "start_time": "2023-01-09T12:21:01.156Z"
   },
   {
    "duration": 159,
    "start_time": "2023-01-09T12:21:01.167Z"
   },
   {
    "duration": 4,
    "start_time": "2023-01-09T12:21:01.328Z"
   },
   {
    "duration": 49,
    "start_time": "2023-01-09T12:21:01.334Z"
   },
   {
    "duration": 200,
    "start_time": "2023-01-09T12:21:01.385Z"
   },
   {
    "duration": 6,
    "start_time": "2023-01-09T12:21:01.587Z"
   },
   {
    "duration": 31,
    "start_time": "2023-01-09T12:21:01.595Z"
   },
   {
    "duration": 420,
    "start_time": "2023-01-09T12:21:01.628Z"
   },
   {
    "duration": 42,
    "start_time": "2023-01-09T12:21:02.050Z"
   },
   {
    "duration": 29,
    "start_time": "2023-01-09T12:21:02.094Z"
   },
   {
    "duration": 29,
    "start_time": "2023-01-09T12:21:02.125Z"
   },
   {
    "duration": 72,
    "start_time": "2023-01-09T12:21:02.156Z"
   },
   {
    "duration": 14,
    "start_time": "2023-01-09T12:21:02.229Z"
   },
   {
    "duration": 44,
    "start_time": "2023-01-09T12:23:43.430Z"
   },
   {
    "duration": 40,
    "start_time": "2023-01-09T12:24:41.891Z"
   },
   {
    "duration": 14,
    "start_time": "2023-01-09T12:24:58.693Z"
   },
   {
    "duration": 45,
    "start_time": "2023-01-09T12:25:21.953Z"
   },
   {
    "duration": 16,
    "start_time": "2023-01-09T12:34:17.479Z"
   },
   {
    "duration": 1127,
    "start_time": "2023-01-09T13:02:13.961Z"
   },
   {
    "duration": 26,
    "start_time": "2023-01-09T13:02:15.090Z"
   },
   {
    "duration": 35,
    "start_time": "2023-01-09T13:02:15.118Z"
   },
   {
    "duration": 15,
    "start_time": "2023-01-09T13:02:15.155Z"
   },
   {
    "duration": 11,
    "start_time": "2023-01-09T13:02:15.172Z"
   },
   {
    "duration": 10,
    "start_time": "2023-01-09T13:02:15.185Z"
   },
   {
    "duration": 8,
    "start_time": "2023-01-09T13:02:15.197Z"
   },
   {
    "duration": 13,
    "start_time": "2023-01-09T13:02:15.207Z"
   },
   {
    "duration": 12,
    "start_time": "2023-01-09T13:02:15.222Z"
   },
   {
    "duration": 17,
    "start_time": "2023-01-09T13:02:15.237Z"
   },
   {
    "duration": 11,
    "start_time": "2023-01-09T13:02:15.255Z"
   },
   {
    "duration": 11,
    "start_time": "2023-01-09T13:02:15.268Z"
   },
   {
    "duration": 9,
    "start_time": "2023-01-09T13:02:15.280Z"
   },
   {
    "duration": 11,
    "start_time": "2023-01-09T13:02:15.290Z"
   },
   {
    "duration": 21,
    "start_time": "2023-01-09T13:02:15.302Z"
   },
   {
    "duration": 8,
    "start_time": "2023-01-09T13:02:15.325Z"
   },
   {
    "duration": 7,
    "start_time": "2023-01-09T13:02:15.334Z"
   },
   {
    "duration": 16,
    "start_time": "2023-01-09T13:02:15.342Z"
   },
   {
    "duration": 9,
    "start_time": "2023-01-09T13:02:15.360Z"
   },
   {
    "duration": 8,
    "start_time": "2023-01-09T13:02:15.370Z"
   },
   {
    "duration": 11,
    "start_time": "2023-01-09T13:02:15.379Z"
   },
   {
    "duration": 17,
    "start_time": "2023-01-09T13:02:15.392Z"
   },
   {
    "duration": 16,
    "start_time": "2023-01-09T13:02:15.411Z"
   },
   {
    "duration": 16,
    "start_time": "2023-01-09T13:02:15.429Z"
   },
   {
    "duration": 11,
    "start_time": "2023-01-09T13:02:15.447Z"
   },
   {
    "duration": 20,
    "start_time": "2023-01-09T13:02:15.460Z"
   },
   {
    "duration": 21,
    "start_time": "2023-01-09T13:02:15.481Z"
   },
   {
    "duration": 182,
    "start_time": "2023-01-09T13:02:15.506Z"
   },
   {
    "duration": 148,
    "start_time": "2023-01-09T13:02:15.690Z"
   },
   {
    "duration": 13,
    "start_time": "2023-01-09T13:02:15.841Z"
   },
   {
    "duration": 310,
    "start_time": "2023-01-09T13:02:15.856Z"
   },
   {
    "duration": 222,
    "start_time": "2023-01-09T13:02:16.168Z"
   },
   {
    "duration": 351,
    "start_time": "2023-01-09T13:02:16.392Z"
   },
   {
    "duration": 233,
    "start_time": "2023-01-09T13:02:16.745Z"
   },
   {
    "duration": 326,
    "start_time": "2023-01-09T13:02:16.980Z"
   },
   {
    "duration": 19,
    "start_time": "2023-01-09T13:02:17.308Z"
   },
   {
    "duration": 123,
    "start_time": "2023-01-09T13:02:17.328Z"
   },
   {
    "duration": 4,
    "start_time": "2023-01-09T13:02:17.453Z"
   },
   {
    "duration": 6,
    "start_time": "2023-01-09T13:02:17.459Z"
   },
   {
    "duration": 144,
    "start_time": "2023-01-09T13:02:17.466Z"
   },
   {
    "duration": 5,
    "start_time": "2023-01-09T13:02:17.611Z"
   },
   {
    "duration": 3,
    "start_time": "2023-01-09T13:02:17.622Z"
   },
   {
    "duration": 334,
    "start_time": "2023-01-09T13:02:17.627Z"
   },
   {
    "duration": 40,
    "start_time": "2023-01-09T13:02:17.963Z"
   },
   {
    "duration": 26,
    "start_time": "2023-01-09T13:02:18.005Z"
   },
   {
    "duration": 8,
    "start_time": "2023-01-09T13:02:18.032Z"
   },
   {
    "duration": 60,
    "start_time": "2023-01-09T13:02:18.042Z"
   },
   {
    "duration": 14,
    "start_time": "2023-01-09T13:02:18.104Z"
   },
   {
    "duration": 1103,
    "start_time": "2023-01-09T13:16:39.384Z"
   },
   {
    "duration": 27,
    "start_time": "2023-01-09T13:16:40.489Z"
   },
   {
    "duration": 37,
    "start_time": "2023-01-09T13:16:40.517Z"
   },
   {
    "duration": 15,
    "start_time": "2023-01-09T13:16:40.556Z"
   },
   {
    "duration": 12,
    "start_time": "2023-01-09T13:16:40.573Z"
   },
   {
    "duration": 12,
    "start_time": "2023-01-09T13:16:40.586Z"
   },
   {
    "duration": 17,
    "start_time": "2023-01-09T13:16:40.599Z"
   },
   {
    "duration": 20,
    "start_time": "2023-01-09T13:16:40.618Z"
   },
   {
    "duration": 13,
    "start_time": "2023-01-09T13:16:40.640Z"
   },
   {
    "duration": 21,
    "start_time": "2023-01-09T13:16:40.656Z"
   },
   {
    "duration": 11,
    "start_time": "2023-01-09T13:16:40.679Z"
   },
   {
    "duration": 20,
    "start_time": "2023-01-09T13:16:40.692Z"
   },
   {
    "duration": 15,
    "start_time": "2023-01-09T13:16:40.714Z"
   },
   {
    "duration": 8,
    "start_time": "2023-01-09T13:16:40.731Z"
   },
   {
    "duration": 12,
    "start_time": "2023-01-09T13:16:40.741Z"
   },
   {
    "duration": 8,
    "start_time": "2023-01-09T13:16:40.754Z"
   },
   {
    "duration": 6,
    "start_time": "2023-01-09T13:16:40.763Z"
   },
   {
    "duration": 17,
    "start_time": "2023-01-09T13:16:40.770Z"
   },
   {
    "duration": 10,
    "start_time": "2023-01-09T13:16:40.789Z"
   },
   {
    "duration": 15,
    "start_time": "2023-01-09T13:16:40.800Z"
   },
   {
    "duration": 12,
    "start_time": "2023-01-09T13:16:40.817Z"
   },
   {
    "duration": 24,
    "start_time": "2023-01-09T13:16:40.831Z"
   },
   {
    "duration": 7,
    "start_time": "2023-01-09T13:16:40.857Z"
   },
   {
    "duration": 12,
    "start_time": "2023-01-09T13:16:40.866Z"
   },
   {
    "duration": 15,
    "start_time": "2023-01-09T13:16:40.879Z"
   },
   {
    "duration": 31,
    "start_time": "2023-01-09T13:16:40.895Z"
   },
   {
    "duration": 19,
    "start_time": "2023-01-09T13:16:40.928Z"
   },
   {
    "duration": 179,
    "start_time": "2023-01-09T13:16:40.950Z"
   },
   {
    "duration": 135,
    "start_time": "2023-01-09T13:16:41.131Z"
   },
   {
    "duration": 12,
    "start_time": "2023-01-09T13:16:41.268Z"
   },
   {
    "duration": 296,
    "start_time": "2023-01-09T13:16:41.281Z"
   },
   {
    "duration": 225,
    "start_time": "2023-01-09T13:16:41.578Z"
   },
   {
    "duration": 337,
    "start_time": "2023-01-09T13:16:41.805Z"
   },
   {
    "duration": 233,
    "start_time": "2023-01-09T13:16:42.143Z"
   },
   {
    "duration": 298,
    "start_time": "2023-01-09T13:16:42.378Z"
   },
   {
    "duration": 11,
    "start_time": "2023-01-09T13:16:42.678Z"
   },
   {
    "duration": 138,
    "start_time": "2023-01-09T13:16:42.690Z"
   },
   {
    "duration": 4,
    "start_time": "2023-01-09T13:16:42.830Z"
   },
   {
    "duration": 23,
    "start_time": "2023-01-09T13:16:42.836Z"
   },
   {
    "duration": 133,
    "start_time": "2023-01-09T13:16:42.860Z"
   },
   {
    "duration": 4,
    "start_time": "2023-01-09T13:16:42.995Z"
   },
   {
    "duration": 11,
    "start_time": "2023-01-09T13:16:43.001Z"
   },
   {
    "duration": 349,
    "start_time": "2023-01-09T13:16:43.014Z"
   },
   {
    "duration": 42,
    "start_time": "2023-01-09T13:16:43.365Z"
   },
   {
    "duration": 26,
    "start_time": "2023-01-09T13:16:43.409Z"
   },
   {
    "duration": 7,
    "start_time": "2023-01-09T13:16:43.437Z"
   },
   {
    "duration": 43,
    "start_time": "2023-01-09T13:16:43.446Z"
   },
   {
    "duration": 37,
    "start_time": "2023-01-09T13:16:43.491Z"
   },
   {
    "duration": 65,
    "start_time": "2023-01-09T19:14:51.239Z"
   },
   {
    "duration": 1386,
    "start_time": "2023-01-09T19:15:22.023Z"
   },
   {
    "duration": 10,
    "start_time": "2023-01-09T19:15:29.939Z"
   },
   {
    "duration": 128,
    "start_time": "2023-01-09T19:15:35.161Z"
   },
   {
    "duration": 1026,
    "start_time": "2023-01-09T19:15:44.334Z"
   },
   {
    "duration": 78,
    "start_time": "2023-01-09T19:15:45.362Z"
   },
   {
    "duration": 95,
    "start_time": "2023-01-09T19:15:45.442Z"
   },
   {
    "duration": 63,
    "start_time": "2023-01-09T19:15:45.539Z"
   },
   {
    "duration": 11,
    "start_time": "2023-01-09T19:15:45.604Z"
   },
   {
    "duration": 29,
    "start_time": "2023-01-09T19:15:45.616Z"
   },
   {
    "duration": 25,
    "start_time": "2023-01-09T19:15:45.647Z"
   },
   {
    "duration": 30,
    "start_time": "2023-01-09T19:15:45.673Z"
   },
   {
    "duration": 31,
    "start_time": "2023-01-09T19:15:45.705Z"
   },
   {
    "duration": 23,
    "start_time": "2023-01-09T19:15:45.738Z"
   },
   {
    "duration": 28,
    "start_time": "2023-01-09T19:15:45.762Z"
   },
   {
    "duration": 11,
    "start_time": "2023-01-09T19:15:45.791Z"
   },
   {
    "duration": 29,
    "start_time": "2023-01-09T19:15:45.803Z"
   },
   {
    "duration": 18,
    "start_time": "2023-01-09T19:15:45.833Z"
   },
   {
    "duration": 35,
    "start_time": "2023-01-09T19:15:45.853Z"
   },
   {
    "duration": 22,
    "start_time": "2023-01-09T19:15:45.890Z"
   },
   {
    "duration": 14,
    "start_time": "2023-01-09T19:15:45.914Z"
   },
   {
    "duration": 19,
    "start_time": "2023-01-09T19:15:45.930Z"
   },
   {
    "duration": 24,
    "start_time": "2023-01-09T19:15:45.950Z"
   },
   {
    "duration": 12,
    "start_time": "2023-01-09T19:15:45.976Z"
   },
   {
    "duration": 32,
    "start_time": "2023-01-09T19:15:45.989Z"
   },
   {
    "duration": 33,
    "start_time": "2023-01-09T19:15:46.023Z"
   },
   {
    "duration": 11,
    "start_time": "2023-01-09T19:15:46.057Z"
   },
   {
    "duration": 14,
    "start_time": "2023-01-09T19:15:46.070Z"
   },
   {
    "duration": 15,
    "start_time": "2023-01-09T19:15:46.085Z"
   },
   {
    "duration": 18,
    "start_time": "2023-01-09T19:15:46.101Z"
   },
   {
    "duration": 232,
    "start_time": "2023-01-09T19:15:46.120Z"
   },
   {
    "duration": 20,
    "start_time": "2023-01-09T19:15:46.355Z"
   },
   {
    "duration": 209,
    "start_time": "2023-01-09T19:15:46.378Z"
   },
   {
    "duration": 143,
    "start_time": "2023-01-09T19:15:46.589Z"
   },
   {
    "duration": 9,
    "start_time": "2023-01-09T19:15:46.734Z"
   },
   {
    "duration": 285,
    "start_time": "2023-01-09T19:15:46.745Z"
   },
   {
    "duration": 205,
    "start_time": "2023-01-09T19:15:47.032Z"
   },
   {
    "duration": 298,
    "start_time": "2023-01-09T19:15:47.239Z"
   },
   {
    "duration": 222,
    "start_time": "2023-01-09T19:15:47.538Z"
   },
   {
    "duration": 294,
    "start_time": "2023-01-09T19:15:47.761Z"
   },
   {
    "duration": 11,
    "start_time": "2023-01-09T19:15:48.057Z"
   },
   {
    "duration": 142,
    "start_time": "2023-01-09T19:15:48.070Z"
   },
   {
    "duration": 4,
    "start_time": "2023-01-09T19:15:48.214Z"
   },
   {
    "duration": 5,
    "start_time": "2023-01-09T19:15:48.219Z"
   },
   {
    "duration": 215,
    "start_time": "2023-01-09T19:15:48.226Z"
   },
   {
    "duration": 4,
    "start_time": "2023-01-09T19:15:48.443Z"
   },
   {
    "duration": 6,
    "start_time": "2023-01-09T19:15:48.449Z"
   },
   {
    "duration": 339,
    "start_time": "2023-01-09T19:15:48.456Z"
   },
   {
    "duration": 39,
    "start_time": "2023-01-09T19:15:48.797Z"
   },
   {
    "duration": 14,
    "start_time": "2023-01-09T19:15:48.838Z"
   },
   {
    "duration": 6,
    "start_time": "2023-01-09T19:15:48.854Z"
   },
   {
    "duration": 68,
    "start_time": "2023-01-09T19:15:48.862Z"
   },
   {
    "duration": 13,
    "start_time": "2023-01-09T19:15:48.932Z"
   },
   {
    "duration": 39,
    "start_time": "2023-01-09T19:16:47.595Z"
   },
   {
    "duration": 56,
    "start_time": "2023-01-09T19:44:51.609Z"
   },
   {
    "duration": 58,
    "start_time": "2023-01-10T08:37:49.454Z"
   },
   {
    "duration": 42,
    "start_time": "2023-01-10T08:37:57.864Z"
   },
   {
    "duration": 1259,
    "start_time": "2023-01-10T08:38:07.305Z"
   },
   {
    "duration": 73,
    "start_time": "2023-01-10T08:38:08.567Z"
   },
   {
    "duration": 94,
    "start_time": "2023-01-10T08:38:08.642Z"
   },
   {
    "duration": 61,
    "start_time": "2023-01-10T08:38:08.739Z"
   },
   {
    "duration": 16,
    "start_time": "2023-01-10T08:38:08.802Z"
   },
   {
    "duration": 12,
    "start_time": "2023-01-10T08:38:08.820Z"
   },
   {
    "duration": 15,
    "start_time": "2023-01-10T08:38:08.834Z"
   },
   {
    "duration": 18,
    "start_time": "2023-01-10T08:38:08.851Z"
   },
   {
    "duration": 35,
    "start_time": "2023-01-10T08:38:08.872Z"
   },
   {
    "duration": 13,
    "start_time": "2023-01-10T08:38:08.910Z"
   },
   {
    "duration": 9,
    "start_time": "2023-01-10T08:38:08.925Z"
   },
   {
    "duration": 8,
    "start_time": "2023-01-10T08:38:08.936Z"
   },
   {
    "duration": 8,
    "start_time": "2023-01-10T08:38:08.946Z"
   },
   {
    "duration": 7,
    "start_time": "2023-01-10T08:38:08.955Z"
   },
   {
    "duration": 42,
    "start_time": "2023-01-10T08:38:08.964Z"
   },
   {
    "duration": 7,
    "start_time": "2023-01-10T08:38:09.008Z"
   },
   {
    "duration": 7,
    "start_time": "2023-01-10T08:38:09.016Z"
   },
   {
    "duration": 10,
    "start_time": "2023-01-10T08:38:09.024Z"
   },
   {
    "duration": 7,
    "start_time": "2023-01-10T08:38:09.036Z"
   },
   {
    "duration": 6,
    "start_time": "2023-01-10T08:38:09.045Z"
   },
   {
    "duration": 10,
    "start_time": "2023-01-10T08:38:09.054Z"
   },
   {
    "duration": 35,
    "start_time": "2023-01-10T08:38:09.066Z"
   },
   {
    "duration": 9,
    "start_time": "2023-01-10T08:38:09.103Z"
   },
   {
    "duration": 13,
    "start_time": "2023-01-10T08:38:09.114Z"
   },
   {
    "duration": 13,
    "start_time": "2023-01-10T08:38:09.129Z"
   },
   {
    "duration": 15,
    "start_time": "2023-01-10T08:38:09.144Z"
   },
   {
    "duration": 54,
    "start_time": "2023-01-10T08:38:09.161Z"
   },
   {
    "duration": 196,
    "start_time": "2023-01-10T08:38:09.220Z"
   },
   {
    "duration": 143,
    "start_time": "2023-01-10T08:38:09.418Z"
   },
   {
    "duration": 11,
    "start_time": "2023-01-10T08:38:09.562Z"
   },
   {
    "duration": 309,
    "start_time": "2023-01-10T08:38:09.574Z"
   },
   {
    "duration": 249,
    "start_time": "2023-01-10T08:38:09.884Z"
   },
   {
    "duration": 394,
    "start_time": "2023-01-10T08:38:10.134Z"
   },
   {
    "duration": 244,
    "start_time": "2023-01-10T08:38:10.530Z"
   },
   {
    "duration": 355,
    "start_time": "2023-01-10T08:38:10.776Z"
   },
   {
    "duration": 12,
    "start_time": "2023-01-10T08:38:11.133Z"
   },
   {
    "duration": 157,
    "start_time": "2023-01-10T08:38:11.146Z"
   },
   {
    "duration": 5,
    "start_time": "2023-01-10T08:38:11.305Z"
   },
   {
    "duration": 8,
    "start_time": "2023-01-10T08:38:11.312Z"
   },
   {
    "duration": 156,
    "start_time": "2023-01-10T08:38:11.321Z"
   },
   {
    "duration": 17,
    "start_time": "2023-01-10T08:38:11.479Z"
   },
   {
    "duration": 4,
    "start_time": "2023-01-10T08:38:11.498Z"
   },
   {
    "duration": 350,
    "start_time": "2023-01-10T08:38:11.503Z"
   },
   {
    "duration": 50,
    "start_time": "2023-01-10T08:38:11.855Z"
   },
   {
    "duration": 18,
    "start_time": "2023-01-10T08:38:11.907Z"
   },
   {
    "duration": 10,
    "start_time": "2023-01-10T08:38:11.927Z"
   },
   {
    "duration": 94,
    "start_time": "2023-01-10T08:38:11.938Z"
   },
   {
    "duration": 15,
    "start_time": "2023-01-10T08:38:12.034Z"
   },
   {
    "duration": 6,
    "start_time": "2023-01-10T08:40:34.136Z"
   },
   {
    "duration": 5,
    "start_time": "2023-01-10T08:40:37.158Z"
   },
   {
    "duration": 42,
    "start_time": "2023-01-10T08:41:24.890Z"
   },
   {
    "duration": 1226,
    "start_time": "2023-01-10T08:41:47.446Z"
   },
   {
    "duration": 131,
    "start_time": "2023-01-10T08:42:24.343Z"
   },
   {
    "duration": 1135,
    "start_time": "2023-01-10T08:43:29.965Z"
   },
   {
    "duration": 135,
    "start_time": "2023-01-10T08:45:07.448Z"
   },
   {
    "duration": 1228,
    "start_time": "2023-01-10T08:45:23.796Z"
   },
   {
    "duration": 875,
    "start_time": "2023-01-10T08:46:40.280Z"
   },
   {
    "duration": 989,
    "start_time": "2023-01-10T08:50:53.222Z"
   },
   {
    "duration": 1051,
    "start_time": "2023-01-10T08:51:18.842Z"
   },
   {
    "duration": 42,
    "start_time": "2023-01-10T08:51:19.895Z"
   },
   {
    "duration": 54,
    "start_time": "2023-01-10T08:51:19.938Z"
   },
   {
    "duration": 17,
    "start_time": "2023-01-10T08:51:19.994Z"
   },
   {
    "duration": 30,
    "start_time": "2023-01-10T08:51:20.012Z"
   },
   {
    "duration": 27,
    "start_time": "2023-01-10T08:51:20.043Z"
   },
   {
    "duration": 45,
    "start_time": "2023-01-10T08:51:20.071Z"
   },
   {
    "duration": 33,
    "start_time": "2023-01-10T08:51:20.117Z"
   },
   {
    "duration": 58,
    "start_time": "2023-01-10T08:51:20.152Z"
   },
   {
    "duration": 18,
    "start_time": "2023-01-10T08:51:20.213Z"
   },
   {
    "duration": 12,
    "start_time": "2023-01-10T08:51:20.233Z"
   },
   {
    "duration": 15,
    "start_time": "2023-01-10T08:51:20.247Z"
   },
   {
    "duration": 31,
    "start_time": "2023-01-10T08:51:20.264Z"
   },
   {
    "duration": 16,
    "start_time": "2023-01-10T08:51:20.304Z"
   },
   {
    "duration": 22,
    "start_time": "2023-01-10T08:51:20.321Z"
   },
   {
    "duration": 12,
    "start_time": "2023-01-10T08:51:20.345Z"
   },
   {
    "duration": 35,
    "start_time": "2023-01-10T08:51:20.359Z"
   },
   {
    "duration": 24,
    "start_time": "2023-01-10T08:51:20.396Z"
   },
   {
    "duration": 25,
    "start_time": "2023-01-10T08:51:20.422Z"
   },
   {
    "duration": 5,
    "start_time": "2023-01-10T08:51:20.448Z"
   },
   {
    "duration": 16,
    "start_time": "2023-01-10T08:51:20.455Z"
   },
   {
    "duration": 19,
    "start_time": "2023-01-10T08:51:20.473Z"
   },
   {
    "duration": 29,
    "start_time": "2023-01-10T08:51:20.494Z"
   },
   {
    "duration": 13,
    "start_time": "2023-01-10T08:51:20.524Z"
   },
   {
    "duration": 11,
    "start_time": "2023-01-10T08:51:20.539Z"
   },
   {
    "duration": 41,
    "start_time": "2023-01-10T08:51:20.552Z"
   },
   {
    "duration": 356,
    "start_time": "2023-01-10T08:51:20.595Z"
   },
   {
    "duration": 10,
    "start_time": "2023-01-10T08:51:20.955Z"
   },
   {
    "duration": 188,
    "start_time": "2023-01-10T08:51:20.967Z"
   },
   {
    "duration": 136,
    "start_time": "2023-01-10T08:51:21.157Z"
   },
   {
    "duration": 17,
    "start_time": "2023-01-10T08:51:21.294Z"
   },
   {
    "duration": 279,
    "start_time": "2023-01-10T08:51:21.313Z"
   },
   {
    "duration": 214,
    "start_time": "2023-01-10T08:51:21.597Z"
   },
   {
    "duration": 336,
    "start_time": "2023-01-10T08:51:21.813Z"
   },
   {
    "duration": 259,
    "start_time": "2023-01-10T08:51:22.150Z"
   },
   {
    "duration": 324,
    "start_time": "2023-01-10T08:51:22.412Z"
   },
   {
    "duration": 12,
    "start_time": "2023-01-10T08:51:22.737Z"
   },
   {
    "duration": 139,
    "start_time": "2023-01-10T08:51:22.751Z"
   },
   {
    "duration": 13,
    "start_time": "2023-01-10T08:51:22.891Z"
   },
   {
    "duration": 11,
    "start_time": "2023-01-10T08:51:22.906Z"
   },
   {
    "duration": 224,
    "start_time": "2023-01-10T08:51:22.918Z"
   },
   {
    "duration": 5,
    "start_time": "2023-01-10T08:51:23.143Z"
   },
   {
    "duration": 7,
    "start_time": "2023-01-10T08:51:23.150Z"
   },
   {
    "duration": 369,
    "start_time": "2023-01-10T08:51:23.159Z"
   },
   {
    "duration": 40,
    "start_time": "2023-01-10T08:51:23.529Z"
   },
   {
    "duration": 14,
    "start_time": "2023-01-10T08:51:23.570Z"
   },
   {
    "duration": 13,
    "start_time": "2023-01-10T08:51:23.599Z"
   },
   {
    "duration": 43,
    "start_time": "2023-01-10T08:51:23.614Z"
   },
   {
    "duration": 14,
    "start_time": "2023-01-10T08:51:23.658Z"
   },
   {
    "duration": 1027,
    "start_time": "2023-01-10T08:52:17.378Z"
   },
   {
    "duration": 996,
    "start_time": "2023-01-10T08:53:03.091Z"
   },
   {
    "duration": 1047,
    "start_time": "2023-01-10T08:53:10.987Z"
   },
   {
    "duration": 1004,
    "start_time": "2023-01-10T08:55:16.163Z"
   },
   {
    "duration": 48,
    "start_time": "2023-01-10T08:55:33.410Z"
   },
   {
    "duration": 133,
    "start_time": "2023-01-10T08:55:40.659Z"
   },
   {
    "duration": 966,
    "start_time": "2023-01-10T08:57:18.533Z"
   },
   {
    "duration": 1118,
    "start_time": "2023-01-10T08:58:52.932Z"
   },
   {
    "duration": 27,
    "start_time": "2023-01-10T08:58:54.052Z"
   },
   {
    "duration": 37,
    "start_time": "2023-01-10T08:58:54.081Z"
   },
   {
    "duration": 16,
    "start_time": "2023-01-10T08:58:54.121Z"
   },
   {
    "duration": 14,
    "start_time": "2023-01-10T08:58:54.138Z"
   },
   {
    "duration": 12,
    "start_time": "2023-01-10T08:58:54.153Z"
   },
   {
    "duration": 10,
    "start_time": "2023-01-10T08:58:54.166Z"
   },
   {
    "duration": 22,
    "start_time": "2023-01-10T08:58:54.178Z"
   },
   {
    "duration": 14,
    "start_time": "2023-01-10T08:58:54.202Z"
   },
   {
    "duration": 29,
    "start_time": "2023-01-10T08:58:54.219Z"
   },
   {
    "duration": 13,
    "start_time": "2023-01-10T08:58:54.250Z"
   },
   {
    "duration": 16,
    "start_time": "2023-01-10T08:58:54.265Z"
   },
   {
    "duration": 16,
    "start_time": "2023-01-10T08:58:54.282Z"
   },
   {
    "duration": 7,
    "start_time": "2023-01-10T08:58:54.300Z"
   },
   {
    "duration": 19,
    "start_time": "2023-01-10T08:58:54.309Z"
   },
   {
    "duration": 15,
    "start_time": "2023-01-10T08:58:54.329Z"
   },
   {
    "duration": 13,
    "start_time": "2023-01-10T08:58:54.346Z"
   },
   {
    "duration": 18,
    "start_time": "2023-01-10T08:58:54.360Z"
   },
   {
    "duration": 24,
    "start_time": "2023-01-10T08:58:54.380Z"
   },
   {
    "duration": 24,
    "start_time": "2023-01-10T08:58:54.406Z"
   },
   {
    "duration": 26,
    "start_time": "2023-01-10T08:58:54.432Z"
   },
   {
    "duration": 29,
    "start_time": "2023-01-10T08:58:54.460Z"
   },
   {
    "duration": 15,
    "start_time": "2023-01-10T08:58:54.490Z"
   },
   {
    "duration": 23,
    "start_time": "2023-01-10T08:58:54.507Z"
   },
   {
    "duration": 28,
    "start_time": "2023-01-10T08:58:54.532Z"
   },
   {
    "duration": 23,
    "start_time": "2023-01-10T08:58:54.563Z"
   },
   {
    "duration": 355,
    "start_time": "2023-01-10T08:58:54.588Z"
   },
   {
    "duration": 13,
    "start_time": "2023-01-10T08:58:54.947Z"
   },
   {
    "duration": 219,
    "start_time": "2023-01-10T08:58:54.962Z"
   },
   {
    "duration": 158,
    "start_time": "2023-01-10T08:58:55.182Z"
   },
   {
    "duration": 13,
    "start_time": "2023-01-10T08:58:55.342Z"
   },
   {
    "duration": 331,
    "start_time": "2023-01-10T08:58:55.357Z"
   },
   {
    "duration": 221,
    "start_time": "2023-01-10T08:58:55.690Z"
   },
   {
    "duration": 364,
    "start_time": "2023-01-10T08:58:55.913Z"
   },
   {
    "duration": 235,
    "start_time": "2023-01-10T08:58:56.279Z"
   },
   {
    "duration": 312,
    "start_time": "2023-01-10T08:58:56.515Z"
   },
   {
    "duration": 12,
    "start_time": "2023-01-10T08:58:56.829Z"
   },
   {
    "duration": 174,
    "start_time": "2023-01-10T08:58:56.843Z"
   },
   {
    "duration": 6,
    "start_time": "2023-01-10T08:58:57.019Z"
   },
   {
    "duration": 8,
    "start_time": "2023-01-10T08:58:57.027Z"
   },
   {
    "duration": 216,
    "start_time": "2023-01-10T08:58:57.037Z"
   },
   {
    "duration": 5,
    "start_time": "2023-01-10T08:58:57.255Z"
   },
   {
    "duration": 8,
    "start_time": "2023-01-10T08:58:57.261Z"
   },
   {
    "duration": 373,
    "start_time": "2023-01-10T08:58:57.271Z"
   },
   {
    "duration": 54,
    "start_time": "2023-01-10T08:58:57.646Z"
   },
   {
    "duration": 15,
    "start_time": "2023-01-10T08:58:57.702Z"
   },
   {
    "duration": 10,
    "start_time": "2023-01-10T08:58:57.719Z"
   },
   {
    "duration": 75,
    "start_time": "2023-01-10T08:58:57.731Z"
   },
   {
    "duration": 13,
    "start_time": "2023-01-10T08:58:57.808Z"
   },
   {
    "duration": 1115,
    "start_time": "2023-01-10T09:01:10.940Z"
   },
   {
    "duration": 142,
    "start_time": "2023-01-10T09:07:52.095Z"
   },
   {
    "duration": 143,
    "start_time": "2023-01-10T09:08:43.068Z"
   },
   {
    "duration": 130,
    "start_time": "2023-01-10T09:09:23.356Z"
   },
   {
    "duration": 131,
    "start_time": "2023-01-10T09:10:11.076Z"
   },
   {
    "duration": 762,
    "start_time": "2023-01-10T09:18:38.917Z"
   },
   {
    "duration": 1126,
    "start_time": "2023-01-10T09:18:56.411Z"
   },
   {
    "duration": 28,
    "start_time": "2023-01-10T09:18:57.538Z"
   },
   {
    "duration": 38,
    "start_time": "2023-01-10T09:18:57.568Z"
   },
   {
    "duration": 15,
    "start_time": "2023-01-10T09:18:57.608Z"
   },
   {
    "duration": 12,
    "start_time": "2023-01-10T09:18:57.625Z"
   },
   {
    "duration": 8,
    "start_time": "2023-01-10T09:18:57.639Z"
   },
   {
    "duration": 18,
    "start_time": "2023-01-10T09:18:57.649Z"
   },
   {
    "duration": 13,
    "start_time": "2023-01-10T09:18:57.669Z"
   },
   {
    "duration": 18,
    "start_time": "2023-01-10T09:18:57.684Z"
   },
   {
    "duration": 11,
    "start_time": "2023-01-10T09:18:57.706Z"
   },
   {
    "duration": 7,
    "start_time": "2023-01-10T09:18:57.719Z"
   },
   {
    "duration": 7,
    "start_time": "2023-01-10T09:18:57.728Z"
   },
   {
    "duration": 10,
    "start_time": "2023-01-10T09:18:57.737Z"
   },
   {
    "duration": 8,
    "start_time": "2023-01-10T09:18:57.748Z"
   },
   {
    "duration": 9,
    "start_time": "2023-01-10T09:18:57.758Z"
   },
   {
    "duration": 29,
    "start_time": "2023-01-10T09:18:57.769Z"
   },
   {
    "duration": 3,
    "start_time": "2023-01-10T09:18:57.799Z"
   },
   {
    "duration": 6,
    "start_time": "2023-01-10T09:18:57.804Z"
   },
   {
    "duration": 6,
    "start_time": "2023-01-10T09:18:57.812Z"
   },
   {
    "duration": 5,
    "start_time": "2023-01-10T09:18:57.820Z"
   },
   {
    "duration": 8,
    "start_time": "2023-01-10T09:18:57.827Z"
   },
   {
    "duration": 17,
    "start_time": "2023-01-10T09:18:57.837Z"
   },
   {
    "duration": 6,
    "start_time": "2023-01-10T09:18:57.855Z"
   },
   {
    "duration": 39,
    "start_time": "2023-01-10T09:18:57.863Z"
   },
   {
    "duration": 11,
    "start_time": "2023-01-10T09:18:57.904Z"
   },
   {
    "duration": 17,
    "start_time": "2023-01-10T09:18:57.917Z"
   },
   {
    "duration": 336,
    "start_time": "2023-01-10T09:18:57.936Z"
   },
   {
    "duration": 10,
    "start_time": "2023-01-10T09:18:58.275Z"
   },
   {
    "duration": 183,
    "start_time": "2023-01-10T09:18:58.287Z"
   },
   {
    "duration": 132,
    "start_time": "2023-01-10T09:18:58.471Z"
   },
   {
    "duration": 11,
    "start_time": "2023-01-10T09:18:58.605Z"
   },
   {
    "duration": 282,
    "start_time": "2023-01-10T09:18:58.618Z"
   },
   {
    "duration": 208,
    "start_time": "2023-01-10T09:18:58.902Z"
   },
   {
    "duration": 310,
    "start_time": "2023-01-10T09:18:59.112Z"
   },
   {
    "duration": 232,
    "start_time": "2023-01-10T09:18:59.424Z"
   },
   {
    "duration": 291,
    "start_time": "2023-01-10T09:18:59.658Z"
   },
   {
    "duration": 12,
    "start_time": "2023-01-10T09:18:59.951Z"
   },
   {
    "duration": 137,
    "start_time": "2023-01-10T09:18:59.964Z"
   },
   {
    "duration": 4,
    "start_time": "2023-01-10T09:19:00.103Z"
   },
   {
    "duration": 24,
    "start_time": "2023-01-10T09:19:00.109Z"
   },
   {
    "duration": 253,
    "start_time": "2023-01-10T09:19:00.135Z"
   },
   {
    "duration": 9,
    "start_time": "2023-01-10T09:19:00.390Z"
   },
   {
    "duration": 15,
    "start_time": "2023-01-10T09:19:00.401Z"
   },
   {
    "duration": 392,
    "start_time": "2023-01-10T09:19:00.418Z"
   },
   {
    "duration": 47,
    "start_time": "2023-01-10T09:19:00.811Z"
   },
   {
    "duration": 37,
    "start_time": "2023-01-10T09:19:00.861Z"
   },
   {
    "duration": 13,
    "start_time": "2023-01-10T09:19:00.900Z"
   },
   {
    "duration": 63,
    "start_time": "2023-01-10T09:19:00.915Z"
   },
   {
    "duration": 15,
    "start_time": "2023-01-10T09:19:00.979Z"
   },
   {
    "duration": 1206,
    "start_time": "2023-01-10T09:19:46.233Z"
   },
   {
    "duration": 1105,
    "start_time": "2023-01-10T09:20:00.245Z"
   },
   {
    "duration": 28,
    "start_time": "2023-01-10T09:20:01.352Z"
   },
   {
    "duration": 70,
    "start_time": "2023-01-10T09:20:01.381Z"
   },
   {
    "duration": 17,
    "start_time": "2023-01-10T09:20:01.453Z"
   },
   {
    "duration": 39,
    "start_time": "2023-01-10T09:20:01.471Z"
   },
   {
    "duration": 108,
    "start_time": "2023-01-10T09:20:01.512Z"
   },
   {
    "duration": 75,
    "start_time": "2023-01-10T09:20:01.622Z"
   },
   {
    "duration": 23,
    "start_time": "2023-01-10T09:20:01.699Z"
   },
   {
    "duration": 38,
    "start_time": "2023-01-10T09:20:01.724Z"
   },
   {
    "duration": 44,
    "start_time": "2023-01-10T09:20:01.765Z"
   },
   {
    "duration": 20,
    "start_time": "2023-01-10T09:20:01.811Z"
   },
   {
    "duration": 95,
    "start_time": "2023-01-10T09:20:01.833Z"
   },
   {
    "duration": 62,
    "start_time": "2023-01-10T09:20:01.930Z"
   },
   {
    "duration": 119,
    "start_time": "2023-01-10T09:20:01.994Z"
   },
   {
    "duration": 36,
    "start_time": "2023-01-10T09:20:02.115Z"
   },
   {
    "duration": 71,
    "start_time": "2023-01-10T09:20:02.153Z"
   },
   {
    "duration": 82,
    "start_time": "2023-01-10T09:20:02.226Z"
   },
   {
    "duration": 140,
    "start_time": "2023-01-10T09:20:02.310Z"
   },
   {
    "duration": 80,
    "start_time": "2023-01-10T09:20:02.453Z"
   },
   {
    "duration": 23,
    "start_time": "2023-01-10T09:20:02.535Z"
   },
   {
    "duration": 44,
    "start_time": "2023-01-10T09:20:02.560Z"
   },
   {
    "duration": 21,
    "start_time": "2023-01-10T09:20:02.606Z"
   },
   {
    "duration": 7,
    "start_time": "2023-01-10T09:20:02.629Z"
   },
   {
    "duration": 37,
    "start_time": "2023-01-10T09:20:02.638Z"
   },
   {
    "duration": 17,
    "start_time": "2023-01-10T09:20:02.677Z"
   },
   {
    "duration": 15,
    "start_time": "2023-01-10T09:20:02.696Z"
   },
   {
    "duration": 493,
    "start_time": "2023-01-10T09:20:02.713Z"
   },
   {
    "duration": 11,
    "start_time": "2023-01-10T09:20:03.209Z"
   },
   {
    "duration": 203,
    "start_time": "2023-01-10T09:20:03.222Z"
   },
   {
    "duration": 133,
    "start_time": "2023-01-10T09:20:03.427Z"
   },
   {
    "duration": 10,
    "start_time": "2023-01-10T09:20:03.562Z"
   },
   {
    "duration": 293,
    "start_time": "2023-01-10T09:20:03.574Z"
   },
   {
    "duration": 219,
    "start_time": "2023-01-10T09:20:03.869Z"
   },
   {
    "duration": 339,
    "start_time": "2023-01-10T09:20:04.090Z"
   },
   {
    "duration": 230,
    "start_time": "2023-01-10T09:20:04.430Z"
   },
   {
    "duration": 343,
    "start_time": "2023-01-10T09:20:04.662Z"
   },
   {
    "duration": 13,
    "start_time": "2023-01-10T09:20:05.007Z"
   },
   {
    "duration": 141,
    "start_time": "2023-01-10T09:20:05.021Z"
   },
   {
    "duration": 5,
    "start_time": "2023-01-10T09:20:05.163Z"
   },
   {
    "duration": 64,
    "start_time": "2023-01-10T09:20:05.172Z"
   },
   {
    "duration": 245,
    "start_time": "2023-01-10T09:20:05.239Z"
   },
   {
    "duration": 11,
    "start_time": "2023-01-10T09:20:05.486Z"
   },
   {
    "duration": 106,
    "start_time": "2023-01-10T09:20:05.498Z"
   },
   {
    "duration": 359,
    "start_time": "2023-01-10T09:20:05.606Z"
   },
   {
    "duration": 48,
    "start_time": "2023-01-10T09:20:05.967Z"
   },
   {
    "duration": 18,
    "start_time": "2023-01-10T09:20:06.018Z"
   },
   {
    "duration": 35,
    "start_time": "2023-01-10T09:20:06.039Z"
   },
   {
    "duration": 56,
    "start_time": "2023-01-10T09:20:06.076Z"
   },
   {
    "duration": 18,
    "start_time": "2023-01-10T09:20:06.134Z"
   },
   {
    "duration": 217,
    "start_time": "2023-01-10T09:28:01.557Z"
   },
   {
    "duration": 170,
    "start_time": "2023-01-10T09:30:55.425Z"
   },
   {
    "duration": 148,
    "start_time": "2023-01-10T09:31:06.633Z"
   },
   {
    "duration": 133,
    "start_time": "2023-01-10T09:31:13.028Z"
   },
   {
    "duration": 158,
    "start_time": "2023-01-10T09:32:10.306Z"
   },
   {
    "duration": 1378,
    "start_time": "2023-01-10T17:38:46.351Z"
   },
   {
    "duration": 111,
    "start_time": "2023-01-10T17:38:47.732Z"
   },
   {
    "duration": 117,
    "start_time": "2023-01-10T17:38:47.844Z"
   },
   {
    "duration": 93,
    "start_time": "2023-01-10T17:38:47.963Z"
   },
   {
    "duration": 14,
    "start_time": "2023-01-10T17:38:48.058Z"
   },
   {
    "duration": 21,
    "start_time": "2023-01-10T17:38:48.075Z"
   },
   {
    "duration": 31,
    "start_time": "2023-01-10T17:38:48.098Z"
   },
   {
    "duration": 20,
    "start_time": "2023-01-10T17:38:48.131Z"
   },
   {
    "duration": 19,
    "start_time": "2023-01-10T17:38:48.154Z"
   },
   {
    "duration": 52,
    "start_time": "2023-01-10T17:38:48.177Z"
   },
   {
    "duration": 13,
    "start_time": "2023-01-10T17:38:48.231Z"
   },
   {
    "duration": 9,
    "start_time": "2023-01-10T17:38:48.246Z"
   },
   {
    "duration": 11,
    "start_time": "2023-01-10T17:38:48.257Z"
   },
   {
    "duration": 14,
    "start_time": "2023-01-10T17:38:48.270Z"
   },
   {
    "duration": 36,
    "start_time": "2023-01-10T17:38:48.286Z"
   },
   {
    "duration": 5,
    "start_time": "2023-01-10T17:38:48.324Z"
   },
   {
    "duration": 6,
    "start_time": "2023-01-10T17:38:48.330Z"
   },
   {
    "duration": 7,
    "start_time": "2023-01-10T17:38:48.338Z"
   },
   {
    "duration": 10,
    "start_time": "2023-01-10T17:38:48.347Z"
   },
   {
    "duration": 7,
    "start_time": "2023-01-10T17:38:48.358Z"
   },
   {
    "duration": 10,
    "start_time": "2023-01-10T17:38:48.366Z"
   },
   {
    "duration": 53,
    "start_time": "2023-01-10T17:38:48.380Z"
   },
   {
    "duration": 7,
    "start_time": "2023-01-10T17:38:48.434Z"
   },
   {
    "duration": 12,
    "start_time": "2023-01-10T17:38:48.443Z"
   },
   {
    "duration": 11,
    "start_time": "2023-01-10T17:38:48.456Z"
   },
   {
    "duration": 15,
    "start_time": "2023-01-10T17:38:48.469Z"
   },
   {
    "duration": 19,
    "start_time": "2023-01-10T17:38:48.485Z"
   },
   {
    "duration": 202,
    "start_time": "2023-01-10T17:38:48.516Z"
   },
   {
    "duration": 135,
    "start_time": "2023-01-10T17:38:48.719Z"
   },
   {
    "duration": 11,
    "start_time": "2023-01-10T17:38:48.856Z"
   },
   {
    "duration": 459,
    "start_time": "2023-01-10T17:38:48.868Z"
   },
   {
    "duration": 221,
    "start_time": "2023-01-10T17:38:49.328Z"
   },
   {
    "duration": 334,
    "start_time": "2023-01-10T17:38:49.551Z"
   },
   {
    "duration": 271,
    "start_time": "2023-01-10T17:38:49.888Z"
   },
   {
    "duration": 386,
    "start_time": "2023-01-10T17:38:50.160Z"
   },
   {
    "duration": 14,
    "start_time": "2023-01-10T17:38:50.548Z"
   },
   {
    "duration": 173,
    "start_time": "2023-01-10T17:38:50.564Z"
   },
   {
    "duration": 6,
    "start_time": "2023-01-10T17:38:50.739Z"
   },
   {
    "duration": 9,
    "start_time": "2023-01-10T17:38:50.746Z"
   },
   {
    "duration": 190,
    "start_time": "2023-01-10T17:38:50.758Z"
   },
   {
    "duration": 5,
    "start_time": "2023-01-10T17:38:50.950Z"
   },
   {
    "duration": 16,
    "start_time": "2023-01-10T17:38:50.957Z"
   },
   {
    "duration": 412,
    "start_time": "2023-01-10T17:38:50.974Z"
   },
   {
    "duration": 57,
    "start_time": "2023-01-10T17:38:51.388Z"
   },
   {
    "duration": 14,
    "start_time": "2023-01-10T17:38:51.447Z"
   },
   {
    "duration": 11,
    "start_time": "2023-01-10T17:38:51.479Z"
   },
   {
    "duration": 88,
    "start_time": "2023-01-10T17:38:51.498Z"
   },
   {
    "duration": 18,
    "start_time": "2023-01-10T17:38:51.593Z"
   },
   {
    "duration": 1826,
    "start_time": "2023-01-10T17:39:21.647Z"
   },
   {
    "duration": 4776,
    "start_time": "2023-01-10T17:40:04.628Z"
   },
   {
    "duration": 22,
    "start_time": "2023-01-10T17:40:18.418Z"
   },
   {
    "duration": 5,
    "start_time": "2023-01-10T17:40:25.358Z"
   },
   {
    "duration": 53,
    "start_time": "2023-01-10T17:40:25.365Z"
   },
   {
    "duration": 38,
    "start_time": "2023-01-10T17:40:25.421Z"
   },
   {
    "duration": 35,
    "start_time": "2023-01-10T17:40:25.462Z"
   },
   {
    "duration": 19,
    "start_time": "2023-01-10T17:40:25.505Z"
   },
   {
    "duration": 16,
    "start_time": "2023-01-10T17:40:25.526Z"
   },
   {
    "duration": 10,
    "start_time": "2023-01-10T17:40:25.544Z"
   },
   {
    "duration": 16,
    "start_time": "2023-01-10T17:40:25.556Z"
   },
   {
    "duration": 55,
    "start_time": "2023-01-10T17:40:25.575Z"
   },
   {
    "duration": 13,
    "start_time": "2023-01-10T17:40:25.632Z"
   },
   {
    "duration": 9,
    "start_time": "2023-01-10T17:40:25.648Z"
   },
   {
    "duration": 9,
    "start_time": "2023-01-10T17:40:25.658Z"
   },
   {
    "duration": 7,
    "start_time": "2023-01-10T17:40:25.669Z"
   },
   {
    "duration": 38,
    "start_time": "2023-01-10T17:40:25.682Z"
   },
   {
    "duration": 6,
    "start_time": "2023-01-10T17:40:25.723Z"
   },
   {
    "duration": 5,
    "start_time": "2023-01-10T17:40:25.731Z"
   },
   {
    "duration": 6,
    "start_time": "2023-01-10T17:40:25.737Z"
   },
   {
    "duration": 6,
    "start_time": "2023-01-10T17:40:25.745Z"
   },
   {
    "duration": 11,
    "start_time": "2023-01-10T17:40:25.753Z"
   },
   {
    "duration": 6,
    "start_time": "2023-01-10T17:40:25.765Z"
   },
   {
    "duration": 21,
    "start_time": "2023-01-10T17:40:25.773Z"
   },
   {
    "duration": 39,
    "start_time": "2023-01-10T17:40:25.798Z"
   },
   {
    "duration": 10,
    "start_time": "2023-01-10T17:40:25.839Z"
   },
   {
    "duration": 11,
    "start_time": "2023-01-10T17:40:25.852Z"
   },
   {
    "duration": 32,
    "start_time": "2023-01-10T17:40:25.864Z"
   },
   {
    "duration": 35,
    "start_time": "2023-01-10T17:40:25.898Z"
   },
   {
    "duration": 201,
    "start_time": "2023-01-10T17:40:41.740Z"
   },
   {
    "duration": 1039,
    "start_time": "2023-01-10T18:06:37.797Z"
   },
   {
    "duration": 27,
    "start_time": "2023-01-10T18:06:38.838Z"
   },
   {
    "duration": 38,
    "start_time": "2023-01-10T18:06:38.867Z"
   },
   {
    "duration": 16,
    "start_time": "2023-01-10T18:06:38.907Z"
   },
   {
    "duration": 14,
    "start_time": "2023-01-10T18:06:38.924Z"
   },
   {
    "duration": 9,
    "start_time": "2023-01-10T18:06:38.939Z"
   },
   {
    "duration": 21,
    "start_time": "2023-01-10T18:06:38.949Z"
   },
   {
    "duration": 29,
    "start_time": "2023-01-10T18:06:38.971Z"
   },
   {
    "duration": 23,
    "start_time": "2023-01-10T18:06:39.002Z"
   },
   {
    "duration": 32,
    "start_time": "2023-01-10T18:06:39.027Z"
   },
   {
    "duration": 13,
    "start_time": "2023-01-10T18:06:39.061Z"
   },
   {
    "duration": 7,
    "start_time": "2023-01-10T18:06:39.076Z"
   },
   {
    "duration": 11,
    "start_time": "2023-01-10T18:06:39.085Z"
   },
   {
    "duration": 8,
    "start_time": "2023-01-10T18:06:39.098Z"
   },
   {
    "duration": 12,
    "start_time": "2023-01-10T18:06:39.107Z"
   },
   {
    "duration": 9,
    "start_time": "2023-01-10T18:06:39.121Z"
   },
   {
    "duration": 6,
    "start_time": "2023-01-10T18:06:39.132Z"
   },
   {
    "duration": 12,
    "start_time": "2023-01-10T18:06:39.139Z"
   },
   {
    "duration": 17,
    "start_time": "2023-01-10T18:06:39.152Z"
   },
   {
    "duration": 16,
    "start_time": "2023-01-10T18:06:39.170Z"
   },
   {
    "duration": 12,
    "start_time": "2023-01-10T18:06:39.188Z"
   },
   {
    "duration": 20,
    "start_time": "2023-01-10T18:06:39.201Z"
   },
   {
    "duration": 7,
    "start_time": "2023-01-10T18:06:39.223Z"
   },
   {
    "duration": 16,
    "start_time": "2023-01-10T18:06:39.232Z"
   },
   {
    "duration": 19,
    "start_time": "2023-01-10T18:06:39.249Z"
   },
   {
    "duration": 19,
    "start_time": "2023-01-10T18:06:39.269Z"
   },
   {
    "duration": 220,
    "start_time": "2023-01-10T18:06:39.289Z"
   },
   {
    "duration": 10,
    "start_time": "2023-01-10T18:06:39.512Z"
   },
   {
    "duration": 168,
    "start_time": "2023-01-10T18:06:39.523Z"
   },
   {
    "duration": 120,
    "start_time": "2023-01-10T18:06:39.693Z"
   },
   {
    "duration": 9,
    "start_time": "2023-01-10T18:06:39.814Z"
   },
   {
    "duration": 277,
    "start_time": "2023-01-10T18:06:39.824Z"
   },
   {
    "duration": 196,
    "start_time": "2023-01-10T18:06:40.103Z"
   },
   {
    "duration": 295,
    "start_time": "2023-01-10T18:06:40.301Z"
   },
   {
    "duration": 225,
    "start_time": "2023-01-10T18:06:40.598Z"
   },
   {
    "duration": 283,
    "start_time": "2023-01-10T18:06:40.825Z"
   },
   {
    "duration": 10,
    "start_time": "2023-01-10T18:06:41.110Z"
   },
   {
    "duration": 136,
    "start_time": "2023-01-10T18:06:41.122Z"
   },
   {
    "duration": 5,
    "start_time": "2023-01-10T18:06:41.259Z"
   },
   {
    "duration": 38,
    "start_time": "2023-01-10T18:06:41.266Z"
   },
   {
    "duration": 258,
    "start_time": "2023-01-10T18:06:41.306Z"
   },
   {
    "duration": 13,
    "start_time": "2023-01-10T18:06:41.565Z"
   },
   {
    "duration": 4,
    "start_time": "2023-01-10T18:06:41.580Z"
   },
   {
    "duration": 371,
    "start_time": "2023-01-10T18:06:41.586Z"
   },
   {
    "duration": 47,
    "start_time": "2023-01-10T18:06:41.959Z"
   },
   {
    "duration": 14,
    "start_time": "2023-01-10T18:06:42.008Z"
   },
   {
    "duration": 36,
    "start_time": "2023-01-10T18:06:42.024Z"
   },
   {
    "duration": 53,
    "start_time": "2023-01-10T18:06:42.061Z"
   },
   {
    "duration": 14,
    "start_time": "2023-01-10T18:06:42.115Z"
   }
  ],
  "kernelspec": {
   "display_name": "Python 3 (ipykernel)",
   "language": "python",
   "name": "python3"
  },
  "language_info": {
   "codemirror_mode": {
    "name": "ipython",
    "version": 3
   },
   "file_extension": ".py",
   "mimetype": "text/x-python",
   "name": "python",
   "nbconvert_exporter": "python",
   "pygments_lexer": "ipython3",
   "version": "3.9.12"
  },
  "toc": {
   "base_numbering": 1,
   "nav_menu": {},
   "number_sections": true,
   "sideBar": true,
   "skip_h1_title": true,
   "title_cell": "Table of Contents",
   "title_sidebar": "Contents",
   "toc_cell": false,
   "toc_position": {},
   "toc_section_display": true,
   "toc_window_display": false
  }
 },
 "nbformat": 4,
 "nbformat_minor": 2
}

{
 "cells": [
  {
   "cell_type": "markdown",
   "id": "05163716",
   "metadata": {},
   "source": [
    "# Исследование надежности заемщиков"
   ]
  },
  {
   "cell_type": "markdown",
   "id": "94a72cb8",
   "metadata": {},
   "source": [
    "**Цель исследования:** На основе статистики о платёжеспособности клиентов исследовать влияет ли семейное положение и количество детей клиента на факт возврата кредита в срок\n"
   ]
  },
  {
   "cell_type": "markdown",
   "id": "8d47d5d0",
   "metadata": {},
   "source": [
    "# Обзор данных"
   ]
  },
  {
   "cell_type": "code",
   "execution_count": 1,
   "id": "47a59e33",
   "metadata": {},
   "outputs": [],
   "source": [
    "import pandas as pd# импортируем библиотеку pandas"
   ]
  },
  {
   "cell_type": "code",
   "execution_count": 2,
   "id": "b74e75c9",
   "metadata": {},
   "outputs": [],
   "source": [
    "# Считаем данные из csv-файла в датафрейм и сохраним в переменную data.\n",
    "try:\n",
    "    data = pd.read_csv('/datasets/data.csv')\n",
    "except:\n",
    "    data = pd.read_csv('https://code.s3.yandex.net/datasets/data.csv')\n"
   ]
  },
  {
   "cell_type": "code",
   "execution_count": 3,
   "id": "6d081c99",
   "metadata": {},
   "outputs": [
    {
     "name": "stdout",
     "output_type": "stream",
     "text": [
      "    children  days_employed  dob_years            education  education_id  \\\n",
      "0          1   -8437.673028         42               высшее             0   \n",
      "1          1   -4024.803754         36              среднее             1   \n",
      "2          0   -5623.422610         33              Среднее             1   \n",
      "3          3   -4124.747207         32              среднее             1   \n",
      "4          0  340266.072047         53              среднее             1   \n",
      "5          0    -926.185831         27               высшее             0   \n",
      "6          0   -2879.202052         43               высшее             0   \n",
      "7          0    -152.779569         50              СРЕДНЕЕ             1   \n",
      "8          2   -6929.865299         35               ВЫСШЕЕ             0   \n",
      "9          0   -2188.756445         41              среднее             1   \n",
      "10         2   -4171.483647         36               высшее             0   \n",
      "11         0    -792.701887         40              среднее             1   \n",
      "12         0            NaN         65              среднее             1   \n",
      "13         0   -1846.641941         54  неоконченное высшее             2   \n",
      "14         0   -1844.956182         56               высшее             0   \n",
      "15         1    -972.364419         26              среднее             1   \n",
      "16         0   -1719.934226         35              среднее             1   \n",
      "17         0   -2369.999720         33               высшее             0   \n",
      "18         0  400281.136913         53              среднее             1   \n",
      "19         0  -10038.818549         48              СРЕДНЕЕ             1   \n",
      "\n",
      "       family_status  family_status_id gender income_type  debt  \\\n",
      "0    женат / замужем                 0      F   сотрудник     0   \n",
      "1    женат / замужем                 0      F   сотрудник     0   \n",
      "2    женат / замужем                 0      M   сотрудник     0   \n",
      "3    женат / замужем                 0      M   сотрудник     0   \n",
      "4   гражданский брак                 1      F   пенсионер     0   \n",
      "5   гражданский брак                 1      M   компаньон     0   \n",
      "6    женат / замужем                 0      F   компаньон     0   \n",
      "7    женат / замужем                 0      M   сотрудник     0   \n",
      "8   гражданский брак                 1      F   сотрудник     0   \n",
      "9    женат / замужем                 0      M   сотрудник     0   \n",
      "10   женат / замужем                 0      M   компаньон     0   \n",
      "11   женат / замужем                 0      F   сотрудник     0   \n",
      "12  гражданский брак                 1      M   пенсионер     0   \n",
      "13   женат / замужем                 0      F   сотрудник     0   \n",
      "14  гражданский брак                 1      F   компаньон     1   \n",
      "15   женат / замужем                 0      F   сотрудник     0   \n",
      "16   женат / замужем                 0      F   сотрудник     0   \n",
      "17  гражданский брак                 1      M   сотрудник     0   \n",
      "18    вдовец / вдова                 2      F   пенсионер     0   \n",
      "19         в разводе                 3      F   сотрудник     0   \n",
      "\n",
      "     total_income                                 purpose  \n",
      "0   253875.639453                           покупка жилья  \n",
      "1   112080.014102                 приобретение автомобиля  \n",
      "2   145885.952297                           покупка жилья  \n",
      "3   267628.550329              дополнительное образование  \n",
      "4   158616.077870                         сыграть свадьбу  \n",
      "5   255763.565419                           покупка жилья  \n",
      "6   240525.971920                       операции с жильем  \n",
      "7   135823.934197                             образование  \n",
      "8    95856.832424                   на проведение свадьбы  \n",
      "9   144425.938277                 покупка жилья для семьи  \n",
      "10  113943.491460                    покупка недвижимости  \n",
      "11   77069.234271       покупка коммерческой недвижимости  \n",
      "12            NaN                         сыграть свадьбу  \n",
      "13  130458.228857                 приобретение автомобиля  \n",
      "14  165127.911772              покупка жилой недвижимости  \n",
      "15  116820.904450  строительство собственной недвижимости  \n",
      "16  289202.704229                            недвижимость  \n",
      "17   90410.586745              строительство недвижимости  \n",
      "18   56823.777243      на покупку подержанного автомобиля  \n",
      "19  242831.107982            на покупку своего автомобиля  \n"
     ]
    }
   ],
   "source": [
    "print(data.head(20)) # Выведем первые 20 строчек датафрейма data на экран."
   ]
  },
  {
   "cell_type": "code",
   "execution_count": 4,
   "id": "42c9f87d",
   "metadata": {},
   "outputs": [
    {
     "name": "stdout",
     "output_type": "stream",
     "text": [
      "<class 'pandas.core.frame.DataFrame'>\n",
      "RangeIndex: 21525 entries, 0 to 21524\n",
      "Data columns (total 12 columns):\n",
      " #   Column            Non-Null Count  Dtype  \n",
      "---  ------            --------------  -----  \n",
      " 0   children          21525 non-null  int64  \n",
      " 1   days_employed     19351 non-null  float64\n",
      " 2   dob_years         21525 non-null  int64  \n",
      " 3   education         21525 non-null  object \n",
      " 4   education_id      21525 non-null  int64  \n",
      " 5   family_status     21525 non-null  object \n",
      " 6   family_status_id  21525 non-null  int64  \n",
      " 7   gender            21525 non-null  object \n",
      " 8   income_type       21525 non-null  object \n",
      " 9   debt              21525 non-null  int64  \n",
      " 10  total_income      19351 non-null  float64\n",
      " 11  purpose           21525 non-null  object \n",
      "dtypes: float64(2), int64(5), object(5)\n",
      "memory usage: 2.0+ MB\n"
     ]
    }
   ],
   "source": [
    "#Выведим основную информацию о датафрейме с помощью метода info() \n",
    "data.info()"
   ]
  },
  {
   "cell_type": "markdown",
   "id": "118ebe7b",
   "metadata": {},
   "source": [
    "# Предобработка данных"
   ]
  },
  {
   "cell_type": "markdown",
   "id": "16fbd363",
   "metadata": {},
   "source": [
    "## Удаление пропусков"
   ]
  },
  {
   "cell_type": "code",
   "execution_count": 5,
   "id": "7c7be045",
   "metadata": {},
   "outputs": [
    {
     "name": "stdout",
     "output_type": "stream",
     "text": [
      "children               0\n",
      "days_employed       2174\n",
      "dob_years              0\n",
      "education              0\n",
      "education_id           0\n",
      "family_status          0\n",
      "family_status_id       0\n",
      "gender                 0\n",
      "income_type            0\n",
      "debt                   0\n",
      "total_income        2174\n",
      "purpose                0\n",
      "dtype: int64\n"
     ]
    }
   ],
   "source": [
    "# Выведим количество пропущенных значений для каждого столбца. Используйте комбинацию двух методов.\n",
    "print(data.isna().sum())"
   ]
  },
  {
   "cell_type": "markdown",
   "id": "1315f457",
   "metadata": {},
   "source": [
    " В двух столбцах есть пропущенные значения. Один из них — days_employed. Другой столбец с пропущенными значениями — total_income — хранит данные о доходах. На сумму дохода сильнее всего влияет тип занятости, поэтому заполнить пропуски в этом столбце нужно медианным значением по каждому типу из столбца income_type. "
   ]
  },
  {
   "cell_type": "code",
   "execution_count": 6,
   "id": "d50537bc",
   "metadata": {},
   "outputs": [],
   "source": [
    "for type in data['income_type'].unique():\n",
    "    data.loc[(data['income_type'] == type) & (data['total_income'].isna()), 'total_income'] = \\\n",
    "    data.loc[(data['income_type'] == type),  'total_income'].median()\n"
   ]
  },
  {
   "cell_type": "markdown",
   "id": "ed3743f5",
   "metadata": {},
   "source": [
    "## Обработка аномальных значений"
   ]
  },
  {
   "cell_type": "markdown",
   "id": "3d786e82",
   "metadata": {},
   "source": [
    "В данных могут встречаться артефакты (аномалии) — значения, которые не отражают действительность и появились по какой-то ошибке. Таким артефактом будет отрицательное количество дней трудового стажа в столбце days_employed. Для реальных данных это нормально. Обработайте значения в этом столбце: замените все отрицательные значения положительными с помощью метода abs()."
   ]
  },
  {
   "cell_type": "code",
   "execution_count": 7,
   "id": "c5df8533",
   "metadata": {},
   "outputs": [],
   "source": [
    "data['days_employed'] = data['days_employed'].abs()"
   ]
  },
  {
   "cell_type": "code",
   "execution_count": 8,
   "id": "c31134a7",
   "metadata": {},
   "outputs": [
    {
     "name": "stdout",
     "output_type": "stream",
     "text": [
      "income_type\n",
      "безработный        366413.652744\n",
      "в декрете            3296.759962\n",
      "госслужащий          2689.368353\n",
      "компаньон            1547.382223\n",
      "пенсионер          365213.306266\n",
      "предприниматель       520.848083\n",
      "сотрудник            1574.202821\n",
      "студент               578.751554\n",
      "Name: days_employed, dtype: float64\n"
     ]
    }
   ],
   "source": [
    "# Для каждого типа занятости выведиv медианное значение трудового стажа days_employed в днях.\n",
    "print(data.groupby('income_type')['days_employed'].median())"
   ]
  },
  {
   "cell_type": "markdown",
   "id": "13ca7eb2",
   "metadata": {},
   "source": [
    "У двух типов (безработные и пенсионеры) получатся аномально большие значения. Исправить такие значения сложно, поэтому оставим их как есть. Тем более этот столбец не понадобится нам для исследования."
   ]
  },
  {
   "cell_type": "code",
   "execution_count": 9,
   "id": "c82669df",
   "metadata": {},
   "outputs": [
    {
     "name": "stdout",
     "output_type": "stream",
     "text": [
      "[ 1  0  3  2 -1  4 20  5]\n"
     ]
    }
   ],
   "source": [
    "#ыведим перечень уникальных значений столбца children.\n",
    "print(data['children'].unique())"
   ]
  },
  {
   "cell_type": "markdown",
   "id": "1ef085b7",
   "metadata": {},
   "source": [
    "В столбце children есть два аномальных значения. Удалим строки, в которых встречаются такие аномальные значения из датафрейма data"
   ]
  },
  {
   "cell_type": "code",
   "execution_count": 10,
   "id": "a0bf6aa0",
   "metadata": {},
   "outputs": [],
   "source": [
    "data = data[(data.children != 20) & (data.children >= 0)]"
   ]
  },
  {
   "cell_type": "code",
   "execution_count": 11,
   "id": "71394a9c",
   "metadata": {},
   "outputs": [
    {
     "name": "stdout",
     "output_type": "stream",
     "text": [
      "[1 0 3 2 4 5]\n"
     ]
    }
   ],
   "source": [
    "#Ещё раз выведим перечень уникальных значений столбца children, чтобы убедиться, что артефакты удалены.\n",
    "print(data['children'].unique())"
   ]
  },
  {
   "cell_type": "code",
   "execution_count": 12,
   "id": "71a31dd7",
   "metadata": {},
   "outputs": [],
   "source": [
    "## Удаление пропусков (продолжение)"
   ]
  },
  {
   "cell_type": "markdown",
   "id": "10d22229",
   "metadata": {},
   "source": [
    "Заполним пропуски в столбце days_employed медианными значениями по каждому типу занятости income_type"
   ]
  },
  {
   "cell_type": "code",
   "execution_count": 13,
   "id": "8afd35a7",
   "metadata": {},
   "outputs": [],
   "source": [
    "for type in data['income_type'].unique():\n",
    "    data.loc[(data['income_type'] == type) & (data['days_employed'].isna()), 'days_employed'] = \\\n",
    "    data.loc[(data['income_type'] == type),  'days_employed'].median()"
   ]
  },
  {
   "cell_type": "code",
   "execution_count": 14,
   "id": "6782f7f3",
   "metadata": {},
   "outputs": [
    {
     "name": "stdout",
     "output_type": "stream",
     "text": [
      "children            0\n",
      "days_employed       0\n",
      "dob_years           0\n",
      "education           0\n",
      "education_id        0\n",
      "family_status       0\n",
      "family_status_id    0\n",
      "gender              0\n",
      "income_type         0\n",
      "debt                0\n",
      "total_income        0\n",
      "purpose             0\n",
      "dtype: int64\n"
     ]
    }
   ],
   "source": [
    "#Убедимся, что все пропуски заполнены. Проверьте себя и ещё раз выведите количество пропущенных значений для каждого столбца с помощью двух методов.\n",
    "print(data.isna().sum())"
   ]
  },
  {
   "cell_type": "markdown",
   "id": "b675e4e9",
   "metadata": {},
   "source": [
    "## Изменение типов данных"
   ]
  },
  {
   "cell_type": "code",
   "execution_count": 15,
   "id": "33b80b32",
   "metadata": {},
   "outputs": [],
   "source": [
    "#Заменим вещественный тип данных в столбце total_income на целочисленный с помощью метода astype()\n",
    "data['total_income'] = data['total_income'].astype('int')"
   ]
  },
  {
   "cell_type": "markdown",
   "id": "67ad2c72",
   "metadata": {},
   "source": [
    "## Обработка дубликатов"
   ]
  },
  {
   "cell_type": "code",
   "execution_count": 16,
   "id": "45bcae29",
   "metadata": {},
   "outputs": [],
   "source": [
    "data['education'] = data['education'].str.lower() # приведем к нижнему регистру значения столбца 'education'"
   ]
  },
  {
   "cell_type": "code",
   "execution_count": 17,
   "id": "d4a66bb5",
   "metadata": {},
   "outputs": [
    {
     "name": "stdout",
     "output_type": "stream",
     "text": [
      "71\n"
     ]
    }
   ],
   "source": [
    "print(data.duplicated().sum())# посчитаем дубликаты"
   ]
  },
  {
   "cell_type": "code",
   "execution_count": 18,
   "id": "7c7faf16",
   "metadata": {},
   "outputs": [],
   "source": [
    "data = data.drop_duplicates().reset_index(drop=True) # удалим дубликаты"
   ]
  },
  {
   "cell_type": "markdown",
   "id": "08c5b43b",
   "metadata": {},
   "source": [
    "## Категоризация данных"
   ]
  },
  {
   "cell_type": "markdown",
   "id": "008c5006",
   "metadata": {},
   "source": [
    " На основании диапазонов, указанных ниже, создадим в датафрейме `data` столбец `total_income_category` с категориями:**\n",
    "\n",
    "- 0–30000 — `'E'`;\n",
    "- 30001–50000 — `'D'`;\n",
    "- 50001–200000 — `'C'`;\n",
    "- 200001–1000000 — `'B'`;\n",
    "- 1000001 и выше — `'A'`.\n",
    "\n"
   ]
  },
  {
   "cell_type": "code",
   "execution_count": 19,
   "id": "49a3ff28",
   "metadata": {},
   "outputs": [],
   "source": [
    "def categorize_income(total_income):\n",
    "    if total_income <= 30000:\n",
    "        return 'E'\n",
    "    if 30001 <= total_income <= 50000:\n",
    "        return 'D'\n",
    "    if 50001 <= total_income <= 200000:\n",
    "        return 'C'\n",
    "    if 200001 <= total_income <= 1000000:\n",
    "        return 'B'\n",
    "    if total_income > 1000000:\n",
    "        return 'A'\n",
    "    \n",
    "# создаем функцию categorize_income()"
   ]
  },
  {
   "cell_type": "code",
   "execution_count": 20,
   "id": "86d3f477",
   "metadata": {},
   "outputs": [],
   "source": [
    "data['total_income_category'] = data['total_income'].apply(categorize_income)\n",
    "\n",
    "# применим функцию методом apply()"
   ]
  },
  {
   "cell_type": "code",
   "execution_count": 21,
   "id": "155b4038",
   "metadata": {},
   "outputs": [
    {
     "name": "stdout",
     "output_type": "stream",
     "text": [
      "['покупка жилья' 'приобретение автомобиля' 'дополнительное образование'\n",
      " 'сыграть свадьбу' 'операции с жильем' 'образование'\n",
      " 'на проведение свадьбы' 'покупка жилья для семьи' 'покупка недвижимости'\n",
      " 'покупка коммерческой недвижимости' 'покупка жилой недвижимости'\n",
      " 'строительство собственной недвижимости' 'недвижимость'\n",
      " 'строительство недвижимости' 'на покупку подержанного автомобиля'\n",
      " 'на покупку своего автомобиля' 'операции с коммерческой недвижимостью'\n",
      " 'строительство жилой недвижимости' 'жилье'\n",
      " 'операции со своей недвижимостью' 'автомобили' 'заняться образованием'\n",
      " 'сделка с подержанным автомобилем' 'получение образования' 'автомобиль'\n",
      " 'свадьба' 'получение дополнительного образования' 'покупка своего жилья'\n",
      " 'операции с недвижимостью' 'получение высшего образования'\n",
      " 'свой автомобиль' 'сделка с автомобилем' 'профильное образование'\n",
      " 'высшее образование' 'покупка жилья для сдачи' 'на покупку автомобиля'\n",
      " 'ремонт жилью' 'заняться высшим образованием']\n"
     ]
    }
   ],
   "source": [
    "print(data['purpose'].unique())#  Выведим на экран перечень уникальных целей взятия кредита из столбца purpose"
   ]
  },
  {
   "cell_type": "markdown",
   "id": "97ea144c",
   "metadata": {},
   "source": [
    " Создадим функцию, которая на основании данных из столбца purpose сформирует новый столбец purpose_category, в который войдут следующие категории:\n",
    "\n",
    "'операции с автомобилем',\n",
    "'операции с недвижимостью',\n",
    "'проведение свадьбы',\n",
    "'получение образования'."
   ]
  },
  {
   "cell_type": "code",
   "execution_count": 22,
   "id": "73e96663",
   "metadata": {},
   "outputs": [],
   "source": [
    "def categorize_purpose(purpose):\n",
    "    if 'автомобил' in purpose:\n",
    "        return 'операции с автомобилем'\n",
    "    if 'жиль'in purpose:\n",
    "        return 'операции с недвижимостью'\n",
    "    if  'недвижимост' in purpose:\n",
    "        return 'операции с недвижимостью'\n",
    "    if 'свадьб' in purpose:\n",
    "        return 'проведение свадьбы'\n",
    "    if 'образован' in purpose:\n",
    "        return 'получение образования'"
   ]
  },
  {
   "cell_type": "code",
   "execution_count": 23,
   "id": "5616e605",
   "metadata": {},
   "outputs": [],
   "source": [
    "data['purpose_category'] = data['purpose'].apply(categorize_purpose)"
   ]
  },
  {
   "cell_type": "markdown",
   "id": "e8c21b6b",
   "metadata": {},
   "source": [
    "# Исследование данных"
   ]
  },
  {
   "cell_type": "markdown",
   "id": "23502fff",
   "metadata": {},
   "source": [
    "## Есть ли зависимость между количеством детей и возвратом кредита в срок?¶"
   ]
  },
  {
   "cell_type": "markdown",
   "id": "07333367",
   "metadata": {},
   "source": [
    "Создаем функцию, которая на основании данных из столбца debt сформирует новый столбец debt_category и разделит данные на две категории: кредитов выплачено в срок и просрочено кредитов. Также разделим заемщиков на категории по количеству детей в семье, и добавим новый столбец children_category."
   ]
  },
  {
   "cell_type": "code",
   "execution_count": 24,
   "id": "12678297",
   "metadata": {},
   "outputs": [],
   "source": [
    "def categorize_debt(debt):\n",
    "    try:\n",
    "        if debt == 0:\n",
    "            return 'Кредитов_выплачено_в_срок'\n",
    "        else:\n",
    "            return 'Просрочено_кредитов'\n",
    "    except:\n",
    "        pass\n",
    "data['debt_category'] = data['debt'].apply(categorize_debt)\n",
    "\n",
    "def categorize_children(children):\n",
    "    try:\n",
    "        if children == 0:\n",
    "            return 'без_детей'\n",
    "        elif children == 1:\n",
    "            return '1_ребенок'\n",
    "        elif children == 2:\n",
    "            return '2_ребенка'\n",
    "        elif children > 2:\n",
    "            return 'многодетные'\n",
    "    except:\n",
    "        pass\n",
    "data['children_category'] = data['children'].apply(categorize_children)"
   ]
  },
  {
   "cell_type": "code",
   "execution_count": 25,
   "id": "afbd0433",
   "metadata": {},
   "outputs": [],
   "source": [
    "data_children = data.pivot_table(index='children_category', columns='debt_category', values='debt', aggfunc='count')\n",
    "#создаем сводную таблицу data_children\n",
    "data_children['Выдано_кредитов'] = data_children[['Кредитов_выплачено_в_срок', 'Просрочено_кредитов']].sum(axis=1)\n",
    "#добавляем столбец Выдано_кредитов с суммой всех кредитов просроченных и нет по категориям"
   ]
  },
  {
   "cell_type": "code",
   "execution_count": 26,
   "id": "3fe73652",
   "metadata": {},
   "outputs": [
    {
     "data": {
      "text/html": [
       "<style type=\"text/css\">\n",
       "#T_1034c_row0_col3 {\n",
       "  background-color: #fff5f0;\n",
       "  color: #000000;\n",
       "}\n",
       "#T_1034c_row1_col3 {\n",
       "  background-color: #fca486;\n",
       "  color: #000000;\n",
       "}\n",
       "#T_1034c_row2_col3 {\n",
       "  background-color: #9f0e14;\n",
       "  color: #f1f1f1;\n",
       "}\n",
       "#T_1034c_row3_col3 {\n",
       "  background-color: #67000d;\n",
       "  color: #f1f1f1;\n",
       "}\n",
       "</style>\n",
       "<table id=\"T_1034c\">\n",
       "  <thead>\n",
       "    <tr>\n",
       "      <th class=\"index_name level0\" >debt_category</th>\n",
       "      <th id=\"T_1034c_level0_col0\" class=\"col_heading level0 col0\" >Кредитов_выплачено_в_срок</th>\n",
       "      <th id=\"T_1034c_level0_col1\" class=\"col_heading level0 col1\" >Просрочено_кредитов</th>\n",
       "      <th id=\"T_1034c_level0_col2\" class=\"col_heading level0 col2\" >Выдано_кредитов</th>\n",
       "      <th id=\"T_1034c_level0_col3\" class=\"col_heading level0 col3\" >Доля_просроченных_кредитов</th>\n",
       "    </tr>\n",
       "    <tr>\n",
       "      <th class=\"index_name level0\" >children_category</th>\n",
       "      <th class=\"blank col0\" >&nbsp;</th>\n",
       "      <th class=\"blank col1\" >&nbsp;</th>\n",
       "      <th class=\"blank col2\" >&nbsp;</th>\n",
       "      <th class=\"blank col3\" >&nbsp;</th>\n",
       "    </tr>\n",
       "  </thead>\n",
       "  <tbody>\n",
       "    <tr>\n",
       "      <th id=\"T_1034c_level0_row0\" class=\"row_heading level0 row0\" >без_детей</th>\n",
       "      <td id=\"T_1034c_row0_col0\" class=\"data row0 col0\" >13028</td>\n",
       "      <td id=\"T_1034c_row0_col1\" class=\"data row0 col1\" >1063</td>\n",
       "      <td id=\"T_1034c_row0_col2\" class=\"data row0 col2\" >14091</td>\n",
       "      <td id=\"T_1034c_row0_col3\" class=\"data row0 col3\" >7.54%</td>\n",
       "    </tr>\n",
       "    <tr>\n",
       "      <th id=\"T_1034c_level0_row1\" class=\"row_heading level0 row1\" >многодетные</th>\n",
       "      <td id=\"T_1034c_row1_col0\" class=\"data row1 col0\" >349</td>\n",
       "      <td id=\"T_1034c_row1_col1\" class=\"data row1 col1\" >31</td>\n",
       "      <td id=\"T_1034c_row1_col2\" class=\"data row1 col2\" >380</td>\n",
       "      <td id=\"T_1034c_row1_col3\" class=\"data row1 col3\" >8.16%</td>\n",
       "    </tr>\n",
       "    <tr>\n",
       "      <th id=\"T_1034c_level0_row2\" class=\"row_heading level0 row2\" >1_ребенок</th>\n",
       "      <td id=\"T_1034c_row2_col0\" class=\"data row2 col0\" >4364</td>\n",
       "      <td id=\"T_1034c_row2_col1\" class=\"data row2 col1\" >444</td>\n",
       "      <td id=\"T_1034c_row2_col2\" class=\"data row2 col2\" >4808</td>\n",
       "      <td id=\"T_1034c_row2_col3\" class=\"data row2 col3\" >9.23%</td>\n",
       "    </tr>\n",
       "    <tr>\n",
       "      <th id=\"T_1034c_level0_row3\" class=\"row_heading level0 row3\" >2_ребенка</th>\n",
       "      <td id=\"T_1034c_row3_col0\" class=\"data row3 col0\" >1858</td>\n",
       "      <td id=\"T_1034c_row3_col1\" class=\"data row3 col1\" >194</td>\n",
       "      <td id=\"T_1034c_row3_col2\" class=\"data row3 col2\" >2052</td>\n",
       "      <td id=\"T_1034c_row3_col3\" class=\"data row3 col3\" >9.45%</td>\n",
       "    </tr>\n",
       "  </tbody>\n",
       "</table>\n"
      ],
      "text/plain": [
       "<pandas.io.formats.style.Styler at 0xf5241b5d90>"
      ]
     },
     "metadata": {},
     "output_type": "display_data"
    }
   ],
   "source": [
    "\n",
    "#методом .assign() создаем новый столбец в таблице data_children, в котором указываем долю в % просроченных кредитов от общего числа выданных кредитов\n",
    "data_children = data_children.assign(Доля_просроченных_кредитов = (data_children['Просрочено_кредитов']/(data_children['Просрочено_кредитов'] + data_children['Кредитов_выплачено_в_срок']))*100)\n",
    "data_children = data_children.sort_values(by='Доля_просроченных_кредитов', ascending=True)\n",
    "display(data_children\n",
    "        .style\n",
    "        .format('{:.2f}%', subset='Доля_просроченных_кредитов')\n",
    "        .background_gradient(subset=['Доля_просроченных_кредитов'], cmap='Reds')\n",
    "       )"
   ]
  },
  {
   "cell_type": "code",
   "execution_count": 27,
   "id": "c347bc3f",
   "metadata": {},
   "outputs": [
    {
     "data": {
      "text/plain": [
       "21331"
      ]
     },
     "metadata": {},
     "output_type": "display_data"
    }
   ],
   "source": [
    "# считаем количество всех выданных кредитовЮ попавших в выборку\n",
    "total = data_children['Выдано_кредитов'].sum()\n",
    "display(total)"
   ]
  },
  {
   "cell_type": "code",
   "execution_count": 28,
   "id": "f9f43157",
   "metadata": {},
   "outputs": [
    {
     "data": {
      "text/plain": [
       "'Доля кредитов, выданных заемщикам с тремя и более детьми, составляет 1.78%'"
      ]
     },
     "metadata": {},
     "output_type": "display_data"
    }
   ],
   "source": [
    "display('Доля кредитов, выданных заемщикам с тремя и более детьми, составляет {:.2%}'.format(380/total))"
   ]
  },
  {
   "cell_type": "markdown",
   "id": "43997d74",
   "metadata": {},
   "source": [
    "**Вывод:**\n",
    "\n",
    "На основании полученных данных, можно сделать вывод о том, что самый низкий процент невыплаченных в срок кредитов приходится на заемщиков без детей. Далее следуют заемщики из категории \"многодетные\", имеющие более 3-х детей. Доля кредитов, выданных заемщикам из категории \"Многодетные\" составляет 1.78 %. Если пренебречь этими данными, то можно сделать вывод о том, что с увеличением количества детей, риск невыплаты кредита в срок увеличивается."
   ]
  },
  {
   "cell_type": "markdown",
   "id": "7e09254a",
   "metadata": {},
   "source": [
    "## Есть ли зависимость между семейным положением и возвратом кредита в срок?"
   ]
  },
  {
   "cell_type": "code",
   "execution_count": 29,
   "id": "32408c53",
   "metadata": {},
   "outputs": [
    {
     "data": {
      "text/html": [
       "<style type=\"text/css\">\n",
       "#T_1dc38_row0_col3 {\n",
       "  background-color: #fff5f0;\n",
       "  color: #000000;\n",
       "}\n",
       "#T_1dc38_row1_col3 {\n",
       "  background-color: #fedccd;\n",
       "  color: #000000;\n",
       "}\n",
       "#T_1dc38_row2_col3 {\n",
       "  background-color: #fcab8f;\n",
       "  color: #000000;\n",
       "}\n",
       "#T_1dc38_row3_col3 {\n",
       "  background-color: #aa1016;\n",
       "  color: #f1f1f1;\n",
       "}\n",
       "#T_1dc38_row4_col3 {\n",
       "  background-color: #67000d;\n",
       "  color: #f1f1f1;\n",
       "}\n",
       "</style>\n",
       "<table id=\"T_1dc38\">\n",
       "  <thead>\n",
       "    <tr>\n",
       "      <th class=\"index_name level0\" >debt_category</th>\n",
       "      <th id=\"T_1dc38_level0_col0\" class=\"col_heading level0 col0\" >Кредитов_выплачено_в_срок</th>\n",
       "      <th id=\"T_1dc38_level0_col1\" class=\"col_heading level0 col1\" >Просрочено_кредитов</th>\n",
       "      <th id=\"T_1dc38_level0_col2\" class=\"col_heading level0 col2\" >Выдано_кредитов</th>\n",
       "      <th id=\"T_1dc38_level0_col3\" class=\"col_heading level0 col3\" >Доля_просроченных_кредитов</th>\n",
       "    </tr>\n",
       "    <tr>\n",
       "      <th class=\"index_name level0\" >family_status</th>\n",
       "      <th class=\"blank col0\" >&nbsp;</th>\n",
       "      <th class=\"blank col1\" >&nbsp;</th>\n",
       "      <th class=\"blank col2\" >&nbsp;</th>\n",
       "      <th class=\"blank col3\" >&nbsp;</th>\n",
       "    </tr>\n",
       "  </thead>\n",
       "  <tbody>\n",
       "    <tr>\n",
       "      <th id=\"T_1dc38_level0_row0\" class=\"row_heading level0 row0\" >вдовец / вдова</th>\n",
       "      <td id=\"T_1dc38_row0_col0\" class=\"data row0 col0\" >888</td>\n",
       "      <td id=\"T_1dc38_row0_col1\" class=\"data row0 col1\" >63</td>\n",
       "      <td id=\"T_1dc38_row0_col2\" class=\"data row0 col2\" >951</td>\n",
       "      <td id=\"T_1dc38_row0_col3\" class=\"data row0 col3\" >6.62%</td>\n",
       "    </tr>\n",
       "    <tr>\n",
       "      <th id=\"T_1dc38_level0_row1\" class=\"row_heading level0 row1\" >в разводе</th>\n",
       "      <td id=\"T_1dc38_row1_col0\" class=\"data row1 col0\" >1105</td>\n",
       "      <td id=\"T_1dc38_row1_col1\" class=\"data row1 col1\" >84</td>\n",
       "      <td id=\"T_1dc38_row1_col2\" class=\"data row1 col2\" >1189</td>\n",
       "      <td id=\"T_1dc38_row1_col3\" class=\"data row1 col3\" >7.06%</td>\n",
       "    </tr>\n",
       "    <tr>\n",
       "      <th id=\"T_1dc38_level0_row2\" class=\"row_heading level0 row2\" >женат / замужем</th>\n",
       "      <td id=\"T_1dc38_row2_col0\" class=\"data row2 col0\" >11334</td>\n",
       "      <td id=\"T_1dc38_row2_col1\" class=\"data row2 col1\" >927</td>\n",
       "      <td id=\"T_1dc38_row2_col2\" class=\"data row2 col2\" >12261</td>\n",
       "      <td id=\"T_1dc38_row2_col3\" class=\"data row2 col3\" >7.56%</td>\n",
       "    </tr>\n",
       "    <tr>\n",
       "      <th id=\"T_1dc38_level0_row3\" class=\"row_heading level0 row3\" >гражданский брак</th>\n",
       "      <td id=\"T_1dc38_row3_col0\" class=\"data row3 col0\" >3749</td>\n",
       "      <td id=\"T_1dc38_row3_col1\" class=\"data row3 col1\" >385</td>\n",
       "      <td id=\"T_1dc38_row3_col2\" class=\"data row3 col2\" >4134</td>\n",
       "      <td id=\"T_1dc38_row3_col3\" class=\"data row3 col3\" >9.31%</td>\n",
       "    </tr>\n",
       "    <tr>\n",
       "      <th id=\"T_1dc38_level0_row4\" class=\"row_heading level0 row4\" >Не женат / не замужем</th>\n",
       "      <td id=\"T_1dc38_row4_col0\" class=\"data row4 col0\" >2523</td>\n",
       "      <td id=\"T_1dc38_row4_col1\" class=\"data row4 col1\" >273</td>\n",
       "      <td id=\"T_1dc38_row4_col2\" class=\"data row4 col2\" >2796</td>\n",
       "      <td id=\"T_1dc38_row4_col3\" class=\"data row4 col3\" >9.76%</td>\n",
       "    </tr>\n",
       "  </tbody>\n",
       "</table>\n"
      ],
      "text/plain": [
       "<pandas.io.formats.style.Styler at 0xf5244585b0>"
      ]
     },
     "metadata": {},
     "output_type": "display_data"
    }
   ],
   "source": [
    "data_family_status = data.pivot_table(index='family_status', columns='debt_category', values='debt', aggfunc='count')\n",
    "data_family_status['Выдано_кредитов'] = data_family_status[['Кредитов_выплачено_в_срок', 'Просрочено_кредитов']].sum(axis=1)\n",
    "data_family_status = data_family_status.assign(Доля_просроченных_кредитов = (data_family_status['Просрочено_кредитов']/(data_family_status['Просрочено_кредитов'] + data_family_status['Кредитов_выплачено_в_срок']))*100)\n",
    "data_family_status = data_family_status.sort_values(by='Доля_просроченных_кредитов', ascending=True)\n",
    "display(data_family_status\n",
    "        .style\n",
    "        .format('{:.2f}%', subset='Доля_просроченных_кредитов')\n",
    "        .background_gradient(subset=['Доля_просроченных_кредитов'], cmap='Reds')\n",
    "       )\n"
   ]
  },
  {
   "cell_type": "markdown",
   "id": "5b8b424a",
   "metadata": {},
   "source": [
    "**Вывод:**\n",
    "\n",
    "Прямой зависимости между семейным статусом заемщика и риском невыплаты кредита в срок нет. Самая высокая доля среди просроченных кредитов находится в категории заемщиков \"Не женат/не замужем\". Почи каждый 10 кредит из этой категории не будет выплачен в срок."
   ]
  },
  {
   "cell_type": "markdown",
   "id": "2035bc88",
   "metadata": {},
   "source": [
    "## Есть ли зависимость между уровнем дохода и возвратом кредита в срок?"
   ]
  },
  {
   "cell_type": "code",
   "execution_count": 30,
   "id": "c5d82992",
   "metadata": {},
   "outputs": [
    {
     "data": {
      "text/html": [
       "<style type=\"text/css\">\n",
       "#T_781d0_row0_col3 {\n",
       "  background-color: #67000d;\n",
       "  color: #f1f1f1;\n",
       "}\n",
       "#T_781d0_row1_col3 {\n",
       "  background-color: #fff5f0;\n",
       "  color: #000000;\n",
       "}\n",
       "#T_781d0_row2_col3 {\n",
       "  background-color: #b91419;\n",
       "  color: #f1f1f1;\n",
       "}\n",
       "#T_781d0_row3_col3 {\n",
       "  background-color: #fc9e80;\n",
       "  color: #000000;\n",
       "}\n",
       "#T_781d0_row4_col3 {\n",
       "  background-color: #e93529;\n",
       "  color: #f1f1f1;\n",
       "}\n",
       "</style>\n",
       "<table id=\"T_781d0\">\n",
       "  <thead>\n",
       "    <tr>\n",
       "      <th class=\"index_name level0\" >debt_category</th>\n",
       "      <th id=\"T_781d0_level0_col0\" class=\"col_heading level0 col0\" >Кредитов_выплачено_в_срок</th>\n",
       "      <th id=\"T_781d0_level0_col1\" class=\"col_heading level0 col1\" >Просрочено_кредитов</th>\n",
       "      <th id=\"T_781d0_level0_col2\" class=\"col_heading level0 col2\" >Выдано_кредитов</th>\n",
       "      <th id=\"T_781d0_level0_col3\" class=\"col_heading level0 col3\" >Доля_просроченных_кредитов</th>\n",
       "    </tr>\n",
       "    <tr>\n",
       "      <th class=\"index_name level0\" >total_income_category</th>\n",
       "      <th class=\"blank col0\" >&nbsp;</th>\n",
       "      <th class=\"blank col1\" >&nbsp;</th>\n",
       "      <th class=\"blank col2\" >&nbsp;</th>\n",
       "      <th class=\"blank col3\" >&nbsp;</th>\n",
       "    </tr>\n",
       "  </thead>\n",
       "  <tbody>\n",
       "    <tr>\n",
       "      <th id=\"T_781d0_level0_row0\" class=\"row_heading level0 row0\" >E</th>\n",
       "      <td id=\"T_781d0_row0_col0\" class=\"data row0 col0\" >20</td>\n",
       "      <td id=\"T_781d0_row0_col1\" class=\"data row0 col1\" >2</td>\n",
       "      <td id=\"T_781d0_row0_col2\" class=\"data row0 col2\" >22</td>\n",
       "      <td id=\"T_781d0_row0_col3\" class=\"data row0 col3\" >9.09%</td>\n",
       "    </tr>\n",
       "    <tr>\n",
       "      <th id=\"T_781d0_level0_row1\" class=\"row_heading level0 row1\" >D</th>\n",
       "      <td id=\"T_781d0_row1_col0\" class=\"data row1 col0\" >328</td>\n",
       "      <td id=\"T_781d0_row1_col1\" class=\"data row1 col1\" >21</td>\n",
       "      <td id=\"T_781d0_row1_col2\" class=\"data row1 col2\" >349</td>\n",
       "      <td id=\"T_781d0_row1_col3\" class=\"data row1 col3\" >6.02%</td>\n",
       "    </tr>\n",
       "    <tr>\n",
       "      <th id=\"T_781d0_level0_row2\" class=\"row_heading level0 row2\" >C</th>\n",
       "      <td id=\"T_781d0_row2_col0\" class=\"data row2 col0\" >14568</td>\n",
       "      <td id=\"T_781d0_row2_col1\" class=\"data row2 col1\" >1353</td>\n",
       "      <td id=\"T_781d0_row2_col2\" class=\"data row2 col2\" >15921</td>\n",
       "      <td id=\"T_781d0_row2_col3\" class=\"data row2 col3\" >8.50%</td>\n",
       "    </tr>\n",
       "    <tr>\n",
       "      <th id=\"T_781d0_level0_row3\" class=\"row_heading level0 row3\" >B</th>\n",
       "      <td id=\"T_781d0_row3_col0\" class=\"data row3 col0\" >4660</td>\n",
       "      <td id=\"T_781d0_row3_col1\" class=\"data row3 col1\" >354</td>\n",
       "      <td id=\"T_781d0_row3_col2\" class=\"data row3 col2\" >5014</td>\n",
       "      <td id=\"T_781d0_row3_col3\" class=\"data row3 col3\" >7.06%</td>\n",
       "    </tr>\n",
       "    <tr>\n",
       "      <th id=\"T_781d0_level0_row4\" class=\"row_heading level0 row4\" >A</th>\n",
       "      <td id=\"T_781d0_row4_col0\" class=\"data row4 col0\" >23</td>\n",
       "      <td id=\"T_781d0_row4_col1\" class=\"data row4 col1\" >2</td>\n",
       "      <td id=\"T_781d0_row4_col2\" class=\"data row4 col2\" >25</td>\n",
       "      <td id=\"T_781d0_row4_col3\" class=\"data row4 col3\" >8.00%</td>\n",
       "    </tr>\n",
       "  </tbody>\n",
       "</table>\n"
      ],
      "text/plain": [
       "<pandas.io.formats.style.Styler at 0xf5213ec100>"
      ]
     },
     "metadata": {},
     "output_type": "display_data"
    }
   ],
   "source": [
    "data_total_income = data.pivot_table(index='total_income_category', columns='debt_category', values='debt', aggfunc='count')\n",
    "data_total_income['Выдано_кредитов'] = data_total_income[['Кредитов_выплачено_в_срок', 'Просрочено_кредитов']].sum(axis=1)\n",
    "data_total_income = data_total_income.assign(Доля_просроченных_кредитов = (data_total_income['Просрочено_кредитов']/(data_total_income['Просрочено_кредитов'] + data_total_income['Кредитов_выплачено_в_срок']))*100)\n",
    "data_total_income = data_total_income.sort_values(by='total_income_category', ascending=False)\n",
    "display(data_total_income\n",
    "        .style\n",
    "        .format('{:.2f}%', subset='Доля_просроченных_кредитов')\n",
    "        .background_gradient(subset=['Доля_просроченных_кредитов'], cmap='Reds')\n",
    "       )\n"
   ]
  },
  {
   "cell_type": "markdown",
   "id": "930c7aab",
   "metadata": {},
   "source": [
    "**Вывод:**\n",
    "\n",
    "Согласно проведенному анализу, прямой зависимости между уровнем дохода и риском возникновения просроченной задолженности нет. С увеличением дохода заемщика данный риск не снижается. При этом можно сделать вывод, что самая высокая просрочка наблюдается у заемщиков с доходом менее 30 000,00 рублей в месяц."
   ]
  },
  {
   "cell_type": "markdown",
   "id": "8d316d6c",
   "metadata": {},
   "source": [
    "## Как разные цели кредита влияют на его возврат в срок?"
   ]
  },
  {
   "cell_type": "code",
   "execution_count": 31,
   "id": "f5728a46",
   "metadata": {},
   "outputs": [
    {
     "data": {
      "text/html": [
       "<style type=\"text/css\">\n",
       "#T_01ec9_row0_col3 {\n",
       "  background-color: #fff5f0;\n",
       "  color: #000000;\n",
       "}\n",
       "#T_01ec9_row1_col3 {\n",
       "  background-color: #fca689;\n",
       "  color: #000000;\n",
       "}\n",
       "#T_01ec9_row2_col3 {\n",
       "  background-color: #7c0510;\n",
       "  color: #f1f1f1;\n",
       "}\n",
       "#T_01ec9_row3_col3 {\n",
       "  background-color: #67000d;\n",
       "  color: #f1f1f1;\n",
       "}\n",
       "</style>\n",
       "<table id=\"T_01ec9\">\n",
       "  <thead>\n",
       "    <tr>\n",
       "      <th class=\"index_name level0\" >debt_category</th>\n",
       "      <th id=\"T_01ec9_level0_col0\" class=\"col_heading level0 col0\" >Кредитов_выплачено_в_срок</th>\n",
       "      <th id=\"T_01ec9_level0_col1\" class=\"col_heading level0 col1\" >Просрочено_кредитов</th>\n",
       "      <th id=\"T_01ec9_level0_col2\" class=\"col_heading level0 col2\" >Выдано_кредитов</th>\n",
       "      <th id=\"T_01ec9_level0_col3\" class=\"col_heading level0 col3\" >Доля_просроченных_кредитов</th>\n",
       "    </tr>\n",
       "    <tr>\n",
       "      <th class=\"index_name level0\" >purpose_category</th>\n",
       "      <th class=\"blank col0\" >&nbsp;</th>\n",
       "      <th class=\"blank col1\" >&nbsp;</th>\n",
       "      <th class=\"blank col2\" >&nbsp;</th>\n",
       "      <th class=\"blank col3\" >&nbsp;</th>\n",
       "    </tr>\n",
       "  </thead>\n",
       "  <tbody>\n",
       "    <tr>\n",
       "      <th id=\"T_01ec9_level0_row0\" class=\"row_heading level0 row0\" >операции с недвижимостью</th>\n",
       "      <td id=\"T_01ec9_row0_col0\" class=\"data row0 col0\" >9971</td>\n",
       "      <td id=\"T_01ec9_row0_col1\" class=\"data row0 col1\" >780</td>\n",
       "      <td id=\"T_01ec9_row0_col2\" class=\"data row0 col2\" >10751</td>\n",
       "      <td id=\"T_01ec9_row0_col3\" class=\"data row0 col3\" >7.26%</td>\n",
       "    </tr>\n",
       "    <tr>\n",
       "      <th id=\"T_01ec9_level0_row1\" class=\"row_heading level0 row1\" >проведение свадьбы</th>\n",
       "      <td id=\"T_01ec9_row1_col0\" class=\"data row1 col0\" >2130</td>\n",
       "      <td id=\"T_01ec9_row1_col1\" class=\"data row1 col1\" >183</td>\n",
       "      <td id=\"T_01ec9_row1_col2\" class=\"data row1 col2\" >2313</td>\n",
       "      <td id=\"T_01ec9_row1_col3\" class=\"data row1 col3\" >7.91%</td>\n",
       "    </tr>\n",
       "    <tr>\n",
       "      <th id=\"T_01ec9_level0_row2\" class=\"row_heading level0 row2\" >получение образования</th>\n",
       "      <td id=\"T_01ec9_row2_col0\" class=\"data row2 col0\" >3619</td>\n",
       "      <td id=\"T_01ec9_row2_col1\" class=\"data row2 col1\" >369</td>\n",
       "      <td id=\"T_01ec9_row2_col2\" class=\"data row2 col2\" >3988</td>\n",
       "      <td id=\"T_01ec9_row2_col3\" class=\"data row2 col3\" >9.25%</td>\n",
       "    </tr>\n",
       "    <tr>\n",
       "      <th id=\"T_01ec9_level0_row3\" class=\"row_heading level0 row3\" >операции с автомобилем</th>\n",
       "      <td id=\"T_01ec9_row3_col0\" class=\"data row3 col0\" >3879</td>\n",
       "      <td id=\"T_01ec9_row3_col1\" class=\"data row3 col1\" >400</td>\n",
       "      <td id=\"T_01ec9_row3_col2\" class=\"data row3 col2\" >4279</td>\n",
       "      <td id=\"T_01ec9_row3_col3\" class=\"data row3 col3\" >9.35%</td>\n",
       "    </tr>\n",
       "  </tbody>\n",
       "</table>\n"
      ],
      "text/plain": [
       "<pandas.io.formats.style.Styler at 0xf523f13f70>"
      ]
     },
     "metadata": {},
     "output_type": "display_data"
    }
   ],
   "source": [
    "data_purpose = data.pivot_table(index='purpose_category', columns='debt_category', values='debt', aggfunc='count')\n",
    "data_purpose['Выдано_кредитов'] = data_purpose[['Кредитов_выплачено_в_срок', 'Просрочено_кредитов']].sum(axis=1)\n",
    "data_purpose = data_purpose.assign(Доля_просроченных_кредитов = (data_purpose['Просрочено_кредитов']/(data_purpose['Просрочено_кредитов'] + data_purpose['Кредитов_выплачено_в_срок']))*100)\n",
    "data_purpose = data_purpose.sort_values(by='Доля_просроченных_кредитов', ascending=True)\n",
    "display(data_purpose\n",
    "        .style\n",
    "        .format('{:.2f}%', subset='Доля_просроченных_кредитов')\n",
    "        .background_gradient(subset=['Доля_просроченных_кредитов'], cmap='Reds')\n",
    "       )"
   ]
  },
  {
   "cell_type": "markdown",
   "id": "8c621107",
   "metadata": {},
   "source": [
    "**Вывод:**\n",
    "\n",
    "Согласно данным, указанным в выше размещенной таблице, можно сделать вывод, что самый минимальный риск просрочки у кредитов, выданных на цели \"операции с недвижимостью\". Чаще всего не возвращают в срок кредиты выданные на цели \"получение образования\" и \"операции с автомобилем\"."
   ]
  },
  {
   "cell_type": "markdown",
   "id": "0af564f5",
   "metadata": {},
   "source": [
    "# Общий вывод"
   ]
  },
  {
   "cell_type": "markdown",
   "id": "aeafce05",
   "metadata": {},
   "source": [
    "По результатам исследования выявлена следующая закономерность: с ростом количества детей у заемщика, увеличивается риск не выплаты кредита в срок.\n",
    "\n",
    "Прямой зависмомости между семейным статусом заемщика и риском невыплаты кредита в срок нет. \n",
    "\n",
    "При этом самая высокая доля среди просроченных кредитов находится в категории заемщиков \"Не женат/не замужем\". Почти каждый 10 кредит из этой категории не будет выплачен в срок. \n",
    "\n",
    "Прямой зависимости между уровнем дохода и риском возникновения просроченной задолженности нет. С увеличением дохода заемщика данный риск не снижается. \n",
    "\n",
    "Самая высокая просрочка наблюдается у заемщиков с доходом менее 30 000,00 рублей в месяц. \n",
    "\n",
    "Самый минимальный риск просрочки у кредитов, выданных на цели \"операции с недвижимостью\". Чаще всего не возвращают в срок кредиты выданные на цели \"получение образования\" и \"операции с автомобилем\".\n",
    "\n",
    "**Рекомендации:** С точки зрения опыта работы в отделе кредитования банка, я бы рекомендовала несколько изменить исследование. Разбить все выданные кредиты из выборки на категории: под залог недвижимости, под залог автомобиля, на потребильские нужды (с подкатегориями: на образование, на свадьбу, на покупку подержанного автомобиля, на ремонт жилья, на строительство недвижимости). Выявить, есть ли закономерность по выше указанным гипотезам согласно вновь выделенным категориям. Углубить исследование, путем выгрузки дополнительных данных о размере долга и ежемесячном платеже. Расчитать коэффициенты платеж/доход, кредит/залог. Проверить есть ли зависимость между значениями коэффициентов п/д, к/д и возвратом кредита в срок, в разрезе каждой категории и в целом по кредитному портфелю."
   ]
  }
 ],
 "metadata": {
  "kernelspec": {
   "display_name": "Python 3 (ipykernel)",
   "language": "python",
   "name": "python3"
  },
  "language_info": {
   "codemirror_mode": {
    "name": "ipython",
    "version": 3
   },
   "file_extension": ".py",
   "mimetype": "text/x-python",
   "name": "python",
   "nbconvert_exporter": "python",
   "pygments_lexer": "ipython3",
   "version": "3.9.12"
  },
  "toc": {
   "base_numbering": 1,
   "nav_menu": {},
   "number_sections": true,
   "sideBar": true,
   "skip_h1_title": false,
   "title_cell": "Table of Contents",
   "title_sidebar": "Contents",
   "toc_cell": false,
   "toc_position": {
    "height": "calc(100% - 180px)",
    "left": "10px",
    "top": "150px",
    "width": "281.188px"
   },
   "toc_section_display": true,
   "toc_window_display": true
  }
 },
 "nbformat": 4,
 "nbformat_minor": 5
}
